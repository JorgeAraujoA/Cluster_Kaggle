{
 "cells": [
  {
   "cell_type": "code",
   "execution_count": 20,
   "metadata": {},
   "outputs": [],
   "source": [
    "# Tratamiento de datos\n",
    "# ==============================================================================\n",
    "import numpy as np\n",
    "import pandas as pd\n",
    "from sklearn.datasets import make_blobs\n",
    "\n",
    "# Gráficos\n",
    "# ==============================================================================\n",
    "import matplotlib.pyplot as plt\n",
    "from matplotlib import style\n",
    "style.use('ggplot') or plt.style.use('ggplot')\n",
    "\n",
    "# Preprocesado y modelado\n",
    "# ==============================================================================\n",
    "from sklearn.cluster import KMeans, AgglomerativeClustering, DBSCAN\n",
    "from scipy.cluster.hierarchy import dendrogram\n",
    "from sklearn.preprocessing import scale\n",
    "#from sklearn.metrics import silhouette_score\n",
    "\n",
    "from sklearn import metrics\n",
    "#from sklearn.metrics import pairwise_distances_argmin_min \n",
    "\n",
    "# Configuración warnings\n",
    "# ==============================================================================\n",
    "import warnings\n",
    "warnings.filterwarnings('ignore')"
   ]
  },
  {
   "cell_type": "code",
   "execution_count": null,
   "metadata": {},
   "outputs": [],
   "source": [
    "def plot_dendrogram(model, **kwargs):\n",
    "    '''\n",
    "    Esta función extrae la información de un modelo AgglomerativeClustering\n",
    "    y representa su dendograma con la función dendogram de scipy.cluster.hierarchy\n",
    "    '''\n",
    "    \n",
    "    counts = np.zeros(model.children_.shape[0])\n",
    "    n_samples = len(model.labels_)\n",
    "    for i, merge in enumerate(model.children_):\n",
    "        current_count = 0\n",
    "        for child_idx in merge:\n",
    "            if child_idx < n_samples:\n",
    "                current_count += 1  # leaf node\n",
    "            else:\n",
    "                current_count += counts[child_idx - n_samples]\n",
    "        counts[i] = current_count\n",
    "\n",
    "    linkage_matrix = np.column_stack([model.children_, model.distances_,\n",
    "                                      counts]).astype(float)\n",
    "\n",
    "    # Plot\n",
    "    dendrogram(linkage_matrix, **kwargs)"
   ]
  },
  {
   "cell_type": "code",
   "execution_count": 4,
   "metadata": {},
   "outputs": [
    {
     "data": {
      "image/png": "[encoded data removed]",
      "text/plain": [
       "<Figure size 432x276.48 with 1 Axes>"
      ]
     },
     "metadata": {
      "needs_background": "light"
     },
     "output_type": "display_data"
    }
   ],
   "source": [
    "from sklearn.datasets import make_blobs\n",
    "# Simulación de datos\n",
    "# ==============================================================================\n",
    "X, y = make_blobs(\n",
    "        n_samples    = 300, \n",
    "        n_features   = 2, \n",
    "        centers      = 4, \n",
    "        cluster_std  = 0.60, \n",
    "        shuffle      = True, \n",
    "        random_state = 0\n",
    "       )\n",
    "\n",
    "fig, ax = plt.subplots(1, 1, figsize=(6, 3.84))\n",
    "ax.scatter(\n",
    "    x = X[:, 0],\n",
    "    y = X[:, 1], \n",
    "    c = 'white',\n",
    "    marker    = 'o',\n",
    "    edgecolor = 'black', \n",
    ")\n",
    "ax.set_title('Datos simulados');"
   ]
  },
  {
   "cell_type": "code",
   "execution_count": 21,
   "metadata": {},
   "outputs": [],
   "source": [
    "# Data y Escalamiento\n",
    "# ==============================================================================\n",
    "X_scaled = scale(X)"
   ]
  },
  {
   "cell_type": "code",
   "execution_count": 37,
   "metadata": {},
   "outputs": [],
   "source": [
    "# Configuración Kmeans\n",
    "numCluster = range(3, 7)\n",
    "l_mod_KMeans = ['Kmeans_NCluster'+str(i) for i in numCluster]\n",
    "iter_KMeans = [KMeans(n_init=5, n_clusters=i, random_state=123) for i in numCluster]"
   ]
  },
  {
   "cell_type": "code",
   "execution_count": 38,
   "metadata": {},
   "outputs": [],
   "source": [
    "# Configuración DBSCAN\n",
    "numSam = range(4, 11)\n",
    "l_mod_DBSCAN = ['DBSCAN_nSample'+str(i) for i in numSam]\n",
    "iter_DBSCAN = [DBSCAN(eps=0.25, min_samples=i, n_jobs = -1) for i in numSam]"
   ]
  },
  {
   "cell_type": "code",
   "execution_count": 77,
   "metadata": {},
   "outputs": [],
   "source": [
    "# Configuracion Jerarquico\n",
    "l_linkage = ['complete', 'average', 'ward']\n",
    "numCluster = range(3, 7)\n",
    "#l_mod_HClust = ['HClust_'+str(i)+'_'+str(j) for i in l_linkage]\n",
    "l_mod_HClust = []\n",
    "for i in l_linkage:\n",
    "    for j in numCluster:\n",
    "        l_mod_HClust = l_mod_HClust + ['HClust_'+str(i)+'_NCluster'+str(j)]\n",
    "#iter_HClust = [AgglomerativeClustering(affinity = 'euclidean',linkage  = i,distance_threshold = 0,n_clusters = None) for i in l_linkage]\n",
    "iter_HClust = []\n",
    "for i in l_linkage:\n",
    "    for j in numCluster:\n",
    "        iter_HClust = iter_HClust + [AgglomerativeClustering(affinity = 'euclidean',linkage  = i,n_clusters = j)]"
   ]
  },
  {
   "cell_type": "code",
   "execution_count": 78,
   "metadata": {},
   "outputs": [
    {
     "name": "stdout",
     "output_type": "stream",
     "text": [
      "Cantidad de modelos: 23\n",
      "['Kmeans_NCluster3', 'Kmeans_NCluster4', 'Kmeans_NCluster5', 'Kmeans_NCluster6', 'DBSCAN_nSample4', 'DBSCAN_nSample5', 'DBSCAN_nSample6', 'DBSCAN_nSample7', 'DBSCAN_nSample8', 'DBSCAN_nSample9', 'DBSCAN_nSample10', 'HClust_complete_NCluster3', 'HClust_complete_NCluster4', 'HClust_complete_NCluster5', 'HClust_complete_NCluster6', 'HClust_average_NCluster3', 'HClust_average_NCluster4', 'HClust_average_NCluster5', 'HClust_average_NCluster6', 'HClust_ward_NCluster3', 'HClust_ward_NCluster4', 'HClust_ward_NCluster5', 'HClust_ward_NCluster6']\n"
     ]
    }
   ],
   "source": [
    "iter_model = iter_KMeans + iter_DBSCAN + iter_HClust\n",
    "list_mod = l_mod_KMeans + l_mod_DBSCAN + l_mod_HClust\n",
    "print('Cantidad de modelos:',len(iter_model))\n",
    "print(list_mod)"
   ]
  },
  {
   "cell_type": "code",
   "execution_count": 79,
   "metadata": {},
   "outputs": [],
   "source": [
    "modCluster = [iter_model[i].fit(X) for i in range(len(iter_model))]\n",
    "cluster = [modCluster[i].labels_ for i in range(len(modCluster))] "
   ]
  },
  {
   "cell_type": "code",
   "execution_count": 85,
   "metadata": {
    "scrolled": true
   },
   "outputs": [
    {
     "data": {
      "image/png": "[encoded data removed]",
      "text/plain": [
       "<Figure size 432x288 with 1 Axes>"
      ]
     },
     "metadata": {},
     "output_type": "display_data"
    }
   ],
   "source": [
    "silhou  = [metrics.silhouette_score(X, cluster[i]) for i in range(len(modCluster))] \n",
    "calinski = [metrics.calinski_harabasz_score(X, cluster[i]) for i in range(len(modCluster))] \n",
    "davies_bouldin = [metrics.davies_bouldin_score(X, cluster[i]) for i in range(len(modCluster))] \n",
    "\n",
    "plt.plot(silhou)\n",
    "plt.xlabel('Modelos')\n",
    "plt.ylabel('Silueta')\n",
    "plt.title('Rendimiento Modelos')\n",
    "plt.show()"
   ]
  },
  {
   "cell_type": "code",
   "execution_count": 86,
   "metadata": {
    "scrolled": true
   },
   "outputs": [
    {
     "data": {
      "text/html": [
       "<div>\n",
       "<style scoped>\n",
       "    .dataframe tbody tr th:only-of-type {\n",
       "        vertical-align: middle;\n",
       "    }\n",
       "\n",
       "    .dataframe tbody tr th {\n",
       "        vertical-align: top;\n",
       "    }\n",
       "\n",
       "    .dataframe thead th {\n",
       "        text-align: right;\n",
       "    }\n",
       "</style>\n",
       "<table border=\"1\" class=\"dataframe\">\n",
       "  <thead>\n",
       "    <tr style=\"text-align: right;\">\n",
       "      <th></th>\n",
       "      <th>Modelo</th>\n",
       "      <th>silhouette_score</th>\n",
       "      <th>calinski</th>\n",
       "      <th>davies_bouldin</th>\n",
       "    </tr>\n",
       "  </thead>\n",
       "  <tbody>\n",
       "    <tr>\n",
       "      <th>0</th>\n",
       "      <td>Kmeans_NCluster3</td>\n",
       "      <td>0.589039</td>\n",
       "      <td>615.093327</td>\n",
       "      <td>0.626272</td>\n",
       "    </tr>\n",
       "    <tr>\n",
       "      <th>1</th>\n",
       "      <td>Kmeans_NCluster4</td>\n",
       "      <td>0.681994</td>\n",
       "      <td>1210.089914</td>\n",
       "      <td>0.437564</td>\n",
       "    </tr>\n",
       "    <tr>\n",
       "      <th>2</th>\n",
       "      <td>Kmeans_NCluster5</td>\n",
       "      <td>0.592303</td>\n",
       "      <td>1024.567544</td>\n",
       "      <td>0.695859</td>\n",
       "    </tr>\n",
       "    <tr>\n",
       "      <th>3</th>\n",
       "      <td>Kmeans_NCluster6</td>\n",
       "      <td>0.495634</td>\n",
       "      <td>908.472471</td>\n",
       "      <td>0.886531</td>\n",
       "    </tr>\n",
       "    <tr>\n",
       "      <th>4</th>\n",
       "      <td>DBSCAN_nSample4</td>\n",
       "      <td>-0.069203</td>\n",
       "      <td>37.958443</td>\n",
       "      <td>2.028405</td>\n",
       "    </tr>\n",
       "    <tr>\n",
       "      <th>5</th>\n",
       "      <td>DBSCAN_nSample5</td>\n",
       "      <td>-0.062177</td>\n",
       "      <td>40.211050</td>\n",
       "      <td>2.480442</td>\n",
       "    </tr>\n",
       "    <tr>\n",
       "      <th>6</th>\n",
       "      <td>DBSCAN_nSample6</td>\n",
       "      <td>-0.152170</td>\n",
       "      <td>33.823919</td>\n",
       "      <td>2.318212</td>\n",
       "    </tr>\n",
       "    <tr>\n",
       "      <th>7</th>\n",
       "      <td>DBSCAN_nSample7</td>\n",
       "      <td>-0.240769</td>\n",
       "      <td>18.816829</td>\n",
       "      <td>2.553937</td>\n",
       "    </tr>\n",
       "    <tr>\n",
       "      <th>8</th>\n",
       "      <td>DBSCAN_nSample8</td>\n",
       "      <td>-0.336973</td>\n",
       "      <td>19.105859</td>\n",
       "      <td>1.536644</td>\n",
       "    </tr>\n",
       "    <tr>\n",
       "      <th>9</th>\n",
       "      <td>DBSCAN_nSample9</td>\n",
       "      <td>-0.312550</td>\n",
       "      <td>8.888784</td>\n",
       "      <td>1.839325</td>\n",
       "    </tr>\n",
       "    <tr>\n",
       "      <th>10</th>\n",
       "      <td>DBSCAN_nSample10</td>\n",
       "      <td>-0.145758</td>\n",
       "      <td>3.888724</td>\n",
       "      <td>1.942039</td>\n",
       "    </tr>\n",
       "    <tr>\n",
       "      <th>11</th>\n",
       "      <td>HClust_complete_NCluster3</td>\n",
       "      <td>0.589773</td>\n",
       "      <td>614.358291</td>\n",
       "      <td>0.622115</td>\n",
       "    </tr>\n",
       "    <tr>\n",
       "      <th>12</th>\n",
       "      <td>HClust_complete_NCluster4</td>\n",
       "      <td>0.679828</td>\n",
       "      <td>1197.232185</td>\n",
       "      <td>0.438305</td>\n",
       "    </tr>\n",
       "    <tr>\n",
       "      <th>13</th>\n",
       "      <td>HClust_complete_NCluster5</td>\n",
       "      <td>0.566068</td>\n",
       "      <td>974.676512</td>\n",
       "      <td>0.704622</td>\n",
       "    </tr>\n",
       "    <tr>\n",
       "      <th>14</th>\n",
       "      <td>HClust_complete_NCluster6</td>\n",
       "      <td>0.452319</td>\n",
       "      <td>830.320036</td>\n",
       "      <td>0.938819</td>\n",
       "    </tr>\n",
       "    <tr>\n",
       "      <th>15</th>\n",
       "      <td>HClust_average_NCluster3</td>\n",
       "      <td>0.589773</td>\n",
       "      <td>614.358291</td>\n",
       "      <td>0.622115</td>\n",
       "    </tr>\n",
       "    <tr>\n",
       "      <th>16</th>\n",
       "      <td>HClust_average_NCluster4</td>\n",
       "      <td>0.679828</td>\n",
       "      <td>1197.232185</td>\n",
       "      <td>0.438305</td>\n",
       "    </tr>\n",
       "    <tr>\n",
       "      <th>17</th>\n",
       "      <td>HClust_average_NCluster5</td>\n",
       "      <td>0.578368</td>\n",
       "      <td>933.941486</td>\n",
       "      <td>0.541928</td>\n",
       "    </tr>\n",
       "    <tr>\n",
       "      <th>18</th>\n",
       "      <td>HClust_average_NCluster6</td>\n",
       "      <td>0.493218</td>\n",
       "      <td>756.145271</td>\n",
       "      <td>0.519659</td>\n",
       "    </tr>\n",
       "    <tr>\n",
       "      <th>19</th>\n",
       "      <td>HClust_ward_NCluster3</td>\n",
       "      <td>0.589773</td>\n",
       "      <td>614.358291</td>\n",
       "      <td>0.622115</td>\n",
       "    </tr>\n",
       "    <tr>\n",
       "      <th>20</th>\n",
       "      <td>HClust_ward_NCluster4</td>\n",
       "      <td>0.681994</td>\n",
       "      <td>1210.089914</td>\n",
       "      <td>0.437564</td>\n",
       "    </tr>\n",
       "    <tr>\n",
       "      <th>21</th>\n",
       "      <td>HClust_ward_NCluster5</td>\n",
       "      <td>0.587547</td>\n",
       "      <td>1018.503300</td>\n",
       "      <td>0.720270</td>\n",
       "    </tr>\n",
       "    <tr>\n",
       "      <th>22</th>\n",
       "      <td>HClust_ward_NCluster6</td>\n",
       "      <td>0.493179</td>\n",
       "      <td>898.039187</td>\n",
       "      <td>0.886738</td>\n",
       "    </tr>\n",
       "  </tbody>\n",
       "</table>\n",
       "</div>"
      ],
      "text/plain": [
       "                       Modelo  silhouette_score     calinski  davies_bouldin\n",
       "0            Kmeans_NCluster3          0.589039   615.093327        0.626272\n",
       "1            Kmeans_NCluster4          0.681994  1210.089914        0.437564\n",
       "2            Kmeans_NCluster5          0.592303  1024.567544        0.695859\n",
       "3            Kmeans_NCluster6          0.495634   908.472471        0.886531\n",
       "4             DBSCAN_nSample4         -0.069203    37.958443        2.028405\n",
       "5             DBSCAN_nSample5         -0.062177    40.211050        2.480442\n",
       "6             DBSCAN_nSample6         -0.152170    33.823919        2.318212\n",
       "7             DBSCAN_nSample7         -0.240769    18.816829        2.553937\n",
       "8             DBSCAN_nSample8         -0.336973    19.105859        1.536644\n",
       "9             DBSCAN_nSample9         -0.312550     8.888784        1.839325\n",
       "10           DBSCAN_nSample10         -0.145758     3.888724        1.942039\n",
       "11  HClust_complete_NCluster3          0.589773   614.358291        0.622115\n",
       "12  HClust_complete_NCluster4          0.679828  1197.232185        0.438305\n",
       "13  HClust_complete_NCluster5          0.566068   974.676512        0.704622\n",
       "14  HClust_complete_NCluster6          0.452319   830.320036        0.938819\n",
       "15   HClust_average_NCluster3          0.589773   614.358291        0.622115\n",
       "16   HClust_average_NCluster4          0.679828  1197.232185        0.438305\n",
       "17   HClust_average_NCluster5          0.578368   933.941486        0.541928\n",
       "18   HClust_average_NCluster6          0.493218   756.145271        0.519659\n",
       "19      HClust_ward_NCluster3          0.589773   614.358291        0.622115\n",
       "20      HClust_ward_NCluster4          0.681994  1210.089914        0.437564\n",
       "21      HClust_ward_NCluster5          0.587547  1018.503300        0.720270\n",
       "22      HClust_ward_NCluster6          0.493179   898.039187        0.886738"
      ]
     },
     "execution_count": 86,
     "metadata": {},
     "output_type": "execute_result"
    }
   ],
   "source": [
    "tabla = {'Modelo':list_mod,'silhouette_score':silhou, 'calinski': calinski, 'davies_bouldin':davies_bouldin}\n",
    "\n",
    "df_reporte = pd.DataFrame(tabla)\n",
    "df_reporte"
   ]
  },
  {
   "cell_type": "code",
   "execution_count": null,
   "metadata": {},
   "outputs": [],
   "source": []
  },
  {
   "cell_type": "code",
   "execution_count": null,
   "metadata": {},
   "outputs": [],
   "source": []
  },
  {
   "cell_type": "code",
   "execution_count": null,
   "metadata": {},
   "outputs": [],
   "source": [
    "# Modelo GMMs \n",
    "# ==============================================================================\n",
    "modelo_gmm = GaussianMixture(n_components=4, covariance_type='full', random_state=123)\n",
    "modelo_gmm.fit(X=X)"
   ]
  },
  {
   "cell_type": "code",
   "execution_count": null,
   "metadata": {},
   "outputs": [],
   "source": [
    "# Probabilidades\n",
    "# ==============================================================================\n",
    "# Cada fila es una observación y cada columna la probabilidad de pertenecer a\n",
    "# cada una de las componentes.\n",
    "probabilidades = modelo_gmm.predict_proba(X)\n",
    "probabilidades"
   ]
  },
  {
   "cell_type": "code",
   "execution_count": null,
   "metadata": {},
   "outputs": [],
   "source": [
    "# Clasificación (asignación a la componente de mayor probabilidad)\n",
    "# ==============================================================================\n",
    "# Cada fila es una observación y cada columna la probabilidad de pertenecer a\n",
    "# cada una de las componentes.\n",
    "clasificacion = modelo_gmm.predict(X)\n",
    "clasificacion"
   ]
  },
  {
   "cell_type": "code",
   "execution_count": null,
   "metadata": {},
   "outputs": [],
   "source": [
    "n_components = range(1, 21)\n",
    "valores_bic = []\n",
    "valores_aic = []\n",
    "\n",
    "for i in n_components:\n",
    "    modelo = GaussianMixture(n_components=i, covariance_type=\"full\")\n",
    "    modelo = modelo.fit(X)\n",
    "    valores_bic.append(modelo.bic(X))\n",
    "    valores_aic.append(modelo.aic(X))\n",
    "\n",
    "fig, ax = plt.subplots(1, 1, figsize=(6, 3.84))\n",
    "ax.plot(n_components, valores_bic, label='BIC')\n",
    "ax.plot(n_components, valores_aic, label='AIC')\n",
    "ax.set_title(\"Valores BIC y AIC\")\n",
    "ax.set_xlabel(\"Número componentes\")\n",
    "ax.legend();"
   ]
  },
  {
   "cell_type": "code",
   "execution_count": null,
   "metadata": {},
   "outputs": [],
   "source": []
  },
  {
   "cell_type": "code",
   "execution_count": null,
   "metadata": {},
   "outputs": [],
   "source": []
  },
  {
   "cell_type": "code",
   "execution_count": 4,
   "metadata": {},
   "outputs": [],
   "source": [
    "from sklearn.metrics import calinski_harabasz_score, calinski_harabasz_score, silhouette_score, davies_bouldin_score\n",
    "\n",
    "data = [\n",
    "    [5.1, 3.5, 1.4, 0.2],\n",
    "    [4.9, 3. , 1.4, 0.2],\n",
    "    [4.7, 3.2, 1.3, 0.2],\n",
    "    [4.6, 3.1, 1.5, 0.2],\n",
    "    [5. , 3.6, 1.4, 0.2],\n",
    "    [5.4, 3.9, 1.7, 0.4],\n",
    "]\n",
    "clusters = [1, 1, 2, 2, 3, 3]"
   ]
  },
  {
   "cell_type": "code",
   "execution_count": 5,
   "metadata": {},
   "outputs": [],
   "source": [
    "silhouette = silhouette_score(data, clusters, metric=\"euclidean\")\n",
    "calinski = calinski_harabasz_score(data, clusters)\n",
    "davies_bouldin = davies_bouldin_score(data, clusters)"
   ]
  },
  {
   "cell_type": "code",
   "execution_count": 6,
   "metadata": {},
   "outputs": [
    {
     "name": "stdout",
     "output_type": "stream",
     "text": [
      "Indice silhouette: 0.011865350778267586\n",
      "Indice calinski: 3.1506849315068473\n",
      "Indice davies_bouldin: 1.0564096159143739\n"
     ]
    }
   ],
   "source": [
    "print('Indice silhouette:',silhouette)\n",
    "print('Indice calinski:',calinski)\n",
    "print('Indice davies_bouldin:',davies_bouldin)"
   ]
  }
 ],
 "metadata": {
  "kernelspec": {
   "display_name": "Python 3",
   "language": "python",
   "name": "python3"
  },
  "language_info": {
   "codemirror_mode": {
    "name": "ipython",
    "version": 3
   },
   "file_extension": ".py",
   "mimetype": "text/x-python",
   "name": "python",
   "nbconvert_exporter": "python",
   "pygments_lexer": "ipython3",
   "version": "3.7.3"
  }
 },
 "nbformat": 4,
 "nbformat_minor": 2
}

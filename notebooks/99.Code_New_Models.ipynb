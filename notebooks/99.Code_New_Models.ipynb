{
 "cells": [
  {
   "cell_type": "code",
   "execution_count": null,
   "metadata": {},
   "outputs": [],
   "source": [
    "# Tratamiento de datos\n",
    "# ==============================================================================\n",
    "import numpy as np\n",
    "import pandas as pd\n",
    "from sklearn.datasets import make_blobs\n",
    "\n",
    "# Gráficos\n",
    "# ==============================================================================\n",
    "import matplotlib.pyplot as plt\n",
    "from matplotlib import style\n",
    "style.use('ggplot') or plt.style.use('ggplot')\n",
    "\n",
    "# Preprocesado y modelado\n",
    "# ==============================================================================\n",
    "from sklearn.cluster import KMeans, AgglomerativeClustering, DBSCAN\n",
    "from scipy.cluster.hierarchy import dendrogram\n",
    "from sklearn.preprocessing import scale\n",
    "from sklearn.metrics import silhouette_score\n",
    "\n",
    "# Configuración warnings\n",
    "# ==============================================================================\n",
    "import warnings\n",
    "warnings.filterwarnings('ignore')"
   ]
  },
  {
   "cell_type": "code",
   "execution_count": null,
   "metadata": {},
   "outputs": [],
   "source": [
    "def plot_dendrogram(model, **kwargs):\n",
    "    '''\n",
    "    Esta función extrae la información de un modelo AgglomerativeClustering\n",
    "    y representa su dendograma con la función dendogram de scipy.cluster.hierarchy\n",
    "    '''\n",
    "    \n",
    "    counts = np.zeros(model.children_.shape[0])\n",
    "    n_samples = len(model.labels_)\n",
    "    for i, merge in enumerate(model.children_):\n",
    "        current_count = 0\n",
    "        for child_idx in merge:\n",
    "            if child_idx < n_samples:\n",
    "                current_count += 1  # leaf node\n",
    "            else:\n",
    "                current_count += counts[child_idx - n_samples]\n",
    "        counts[i] = current_count\n",
    "\n",
    "    linkage_matrix = np.column_stack([model.children_, model.distances_,\n",
    "                                      counts]).astype(float)\n",
    "\n",
    "    # Plot\n",
    "    dendrogram(linkage_matrix, **kwargs)"
   ]
  },
  {
   "cell_type": "code",
   "execution_count": null,
   "metadata": {},
   "outputs": [],
   "source": []
  },
  {
   "cell_type": "code",
   "execution_count": null,
   "metadata": {},
   "outputs": [],
   "source": [
    "# Dataa y Escalamiento\n",
    "# ==============================================================================\n",
    "X_scaled = scale(X)"
   ]
  },
  {
   "cell_type": "code",
   "execution_count": null,
   "metadata": {},
   "outputs": [],
   "source": []
  },
  {
   "cell_type": "code",
   "execution_count": null,
   "metadata": {},
   "outputs": [],
   "source": [
    "def "
   ]
  },
  {
   "cell_type": "code",
   "execution_count": null,
   "metadata": {},
   "outputs": [],
   "source": [
    "# Modelo kmeans\n",
    "# ==============================================================================\n",
    "modelo_kmeans = KMeans(n_clusters=4, n_init=25, random_state=123)\n",
    "modelo_kmeans.fit(X=X_scaled)"
   ]
  },
  {
   "cell_type": "code",
   "execution_count": null,
   "metadata": {},
   "outputs": [],
   "source": [
    "# Clustering con kmeans\n",
    "# ==============================================================================\n",
    "y_predict = modelo_kmeans.predict(X=X_scaled)"
   ]
  },
  {
   "cell_type": "code",
   "execution_count": null,
   "metadata": {},
   "outputs": [],
   "source": []
  },
  {
   "cell_type": "code",
   "execution_count": null,
   "metadata": {},
   "outputs": [],
   "source": [
    "# Modelo Jerarquico\n",
    "# ==============================================================================\n",
    "modelo_hclust_complete = AgglomerativeClustering(\n",
    "                            affinity = 'euclidean',\n",
    "                            linkage  = 'complete',\n",
    "                            distance_threshold = 0,\n",
    "                            n_clusters         = None\n",
    "                        )\n",
    "modelo_hclust_complete.fit(X=X_scaled)\n",
    "\n",
    "modelo_hclust_average = AgglomerativeClustering(\n",
    "                            affinity = 'euclidean',\n",
    "                            linkage  = 'average',\n",
    "                            distance_threshold = 0,\n",
    "                            n_clusters         = None\n",
    "                        )\n",
    "modelo_hclust_average.fit(X=X_scaled)\n",
    "\n",
    "modelo_hclust_ward = AgglomerativeClustering(\n",
    "                            affinity = 'euclidean',\n",
    "                            linkage  = 'ward',\n",
    "                            distance_threshold = 0,\n",
    "                            n_clusters         = None\n",
    "                     )\n",
    "modelo_hclust_ward.fit(X=X_scaled)"
   ]
  },
  {
   "cell_type": "code",
   "execution_count": null,
   "metadata": {},
   "outputs": [],
   "source": [
    "# Dendrogramas\n",
    "# ==============================================================================\n",
    "fig, axs = plt.subplots(3, 1, figsize=(8, 8))\n",
    "plot_dendrogram(modelo_hclust_average, color_threshold=0, ax=axs[0])\n",
    "axs[0].set_title(\"Distancia euclídea, Linkage average\")\n",
    "plot_dendrogram(modelo_hclust_complete, color_threshold=0, ax=axs[1])\n",
    "axs[1].set_title(\"Distancia euclídea, Linkage complete\")\n",
    "plot_dendrogram(modelo_hclust_ward, color_threshold=0, ax=axs[2])\n",
    "axs[2].set_title(\"Distancia euclídea, Linkage ward\")\n",
    "plt.tight_layout();"
   ]
  },
  {
   "cell_type": "code",
   "execution_count": null,
   "metadata": {},
   "outputs": [],
   "source": [
    "fig, ax = plt.subplots(1, 1, figsize=(8, 4))\n",
    "altura_corte = 6\n",
    "plot_dendrogram(modelo_hclust_ward, color_threshold=altura_corte, ax=ax)\n",
    "ax.set_title(\"Distancia euclídea, Linkage ward\")\n",
    "ax.axhline(y=altura_corte, c = 'black', linestyle='--', label='altura corte')\n",
    "ax.legend();"
   ]
  },
  {
   "cell_type": "code",
   "execution_count": null,
   "metadata": {},
   "outputs": [],
   "source": [
    "# Método silhouette para identificar el número óptimo de clusters\n",
    "# ==============================================================================\n",
    "range_n_clusters = range(2, 15)\n",
    "valores_medios_silhouette = []\n",
    "\n",
    "for n_clusters in range_n_clusters:\n",
    "    modelo = AgglomerativeClustering(\n",
    "                    affinity   = 'euclidean',\n",
    "                    linkage    = 'ward',\n",
    "                    n_clusters = n_clusters\n",
    "             )\n",
    "\n",
    "    cluster_labels = modelo.fit_predict(X_scaled)\n",
    "    silhouette_avg = silhouette_score(X_scaled, cluster_labels)\n",
    "    valores_medios_silhouette.append(silhouette_avg)\n",
    "    \n",
    "fig, ax = plt.subplots(1, 1, figsize=(6, 3.84))\n",
    "ax.plot(range_n_clusters, valores_medios_silhouette, marker='o')\n",
    "ax.set_title(\"Evolución de media de los índices silhouette\")\n",
    "ax.set_xlabel('Número clusters')\n",
    "ax.set_ylabel('Media índices silhouette');"
   ]
  },
  {
   "cell_type": "code",
   "execution_count": null,
   "metadata": {},
   "outputs": [],
   "source": [
    "# Clustering con Jerarquico\n",
    "# ==============================================================================\n",
    "modelo_hclust_ward = AgglomerativeClustering(\n",
    "                            affinity = 'euclidean',\n",
    "                            linkage  = 'ward',\n",
    "                            n_clusters = 4\n",
    "                     )\n",
    "modelo_hclust_ward.fit(X=X_scaled)"
   ]
  },
  {
   "cell_type": "code",
   "execution_count": null,
   "metadata": {},
   "outputs": [],
   "source": []
  },
  {
   "cell_type": "code",
   "execution_count": null,
   "metadata": {},
   "outputs": [],
   "source": [
    "# Modelo DBSCAN\n",
    "# ==============================================================================\n",
    "modelo_dbscan = DBSCAN(\n",
    "                    eps          = 0.2,\n",
    "                    min_samples  = 5,\n",
    "                    metric       = 'euclidean',\n",
    "                )\n",
    "\n",
    "modelo_dbscan.fit(X=X_scaled)"
   ]
  },
  {
   "cell_type": "code",
   "execution_count": null,
   "metadata": {},
   "outputs": [],
   "source": [
    "# Clustering con Jerarquico\n",
    "# =============================================================================="
   ]
  },
  {
   "cell_type": "code",
   "execution_count": null,
   "metadata": {},
   "outputs": [],
   "source": []
  },
  {
   "cell_type": "code",
   "execution_count": null,
   "metadata": {},
   "outputs": [],
   "source": [
    "# Modelo GMMs \n",
    "# ==============================================================================\n",
    "modelo_gmm = GaussianMixture(n_components=4, covariance_type='full', random_state=123)\n",
    "modelo_gmm.fit(X=X)"
   ]
  },
  {
   "cell_type": "code",
   "execution_count": null,
   "metadata": {},
   "outputs": [],
   "source": [
    "# Probabilidades\n",
    "# ==============================================================================\n",
    "# Cada fila es una observación y cada columna la probabilidad de pertenecer a\n",
    "# cada una de las componentes.\n",
    "probabilidades = modelo_gmm.predict_proba(X)\n",
    "probabilidades"
   ]
  },
  {
   "cell_type": "code",
   "execution_count": null,
   "metadata": {},
   "outputs": [],
   "source": [
    "# Clasificación (asignación a la componente de mayor probabilidad)\n",
    "# ==============================================================================\n",
    "# Cada fila es una observación y cada columna la probabilidad de pertenecer a\n",
    "# cada una de las componentes.\n",
    "clasificacion = modelo_gmm.predict(X)\n",
    "clasificacion"
   ]
  },
  {
   "cell_type": "code",
   "execution_count": null,
   "metadata": {},
   "outputs": [],
   "source": [
    "n_components = range(1, 21)\n",
    "valores_bic = []\n",
    "valores_aic = []\n",
    "\n",
    "for i in n_components:\n",
    "    modelo = GaussianMixture(n_components=i, covariance_type=\"full\")\n",
    "    modelo = modelo.fit(X)\n",
    "    valores_bic.append(modelo.bic(X))\n",
    "    valores_aic.append(modelo.aic(X))\n",
    "\n",
    "fig, ax = plt.subplots(1, 1, figsize=(6, 3.84))\n",
    "ax.plot(n_components, valores_bic, label='BIC')\n",
    "ax.plot(n_components, valores_aic, label='AIC')\n",
    "ax.set_title(\"Valores BIC y AIC\")\n",
    "ax.set_xlabel(\"Número componentes\")\n",
    "ax.legend();"
   ]
  },
  {
   "cell_type": "code",
   "execution_count": null,
   "metadata": {},
   "outputs": [],
   "source": []
  },
  {
   "cell_type": "code",
   "execution_count": null,
   "metadata": {},
   "outputs": [],
   "source": []
  },
  {
   "cell_type": "code",
   "execution_count": 4,
   "metadata": {},
   "outputs": [],
   "source": [
    "from sklearn.metrics import calinski_harabasz_score, calinski_harabasz_score, silhouette_score, davies_bouldin_score\n",
    "\n",
    "data = [\n",
    "    [5.1, 3.5, 1.4, 0.2],\n",
    "    [4.9, 3. , 1.4, 0.2],\n",
    "    [4.7, 3.2, 1.3, 0.2],\n",
    "    [4.6, 3.1, 1.5, 0.2],\n",
    "    [5. , 3.6, 1.4, 0.2],\n",
    "    [5.4, 3.9, 1.7, 0.4],\n",
    "]\n",
    "clusters = [1, 1, 2, 2, 3, 3]"
   ]
  },
  {
   "cell_type": "code",
   "execution_count": 5,
   "metadata": {},
   "outputs": [],
   "source": [
    "silhouette = silhouette_score(data, clusters, metric=\"euclidean\")\n",
    "calinski = calinski_harabasz_score(data, clusters)\n",
    "davies_bouldin = davies_bouldin_score(data, clusters)"
   ]
  },
  {
   "cell_type": "code",
   "execution_count": 6,
   "metadata": {},
   "outputs": [
    {
     "name": "stdout",
     "output_type": "stream",
     "text": [
      "Indice silhouette: 0.011865350778267586\n",
      "Indice calinski: 3.1506849315068473\n",
      "Indice davies_bouldin: 1.0564096159143739\n"
     ]
    }
   ],
   "source": [
    "print('Indice silhouette:',silhouette)\n",
    "print('Indice calinski:',calinski)\n",
    "print('Indice davies_bouldin:',davies_bouldin)"
   ]
  }
 ],
 "metadata": {
  "kernelspec": {
   "display_name": "Python 3",
   "language": "python",
   "name": "python3"
  },
  "language_info": {
   "codemirror_mode": {
    "name": "ipython",
    "version": 3
   },
   "file_extension": ".py",
   "mimetype": "text/x-python",
   "name": "python",
   "nbconvert_exporter": "python",
   "pygments_lexer": "ipython3",
   "version": "3.7.3"
  }
 },
 "nbformat": 4,
 "nbformat_minor": 2
}

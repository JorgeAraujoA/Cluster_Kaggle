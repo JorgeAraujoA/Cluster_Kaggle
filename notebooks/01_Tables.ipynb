{
 "cells": [
  {
   "cell_type": "markdown",
   "metadata": {},
   "source": [
    "# Library Imports"
   ]
  },
  {
   "cell_type": "code",
   "execution_count": 1,
   "metadata": {},
   "outputs": [],
   "source": [
    "import sys\n",
    "import os\n",
    "directory_path = os.path.abspath(os.path.join('..'))\n",
    "utils_path = os.path.abspath(os.path.join('../utils'))\n",
    "if directory_path not in sys.path:\n",
    "    sys.path.append(directory_path)\n",
    "    sys.path.append(utils_path)"
   ]
  },
  {
   "cell_type": "code",
   "execution_count": 2,
   "metadata": {},
   "outputs": [],
   "source": [
    "import pandas as pd\n",
    "import numpy as np\n",
    "import networkx as nx\n",
    "import seaborn as sns\n",
    "import datetime\n",
    "import pytz\n",
    "from pandas.tseries.offsets import DateOffset\n",
    "import matplotlib.pyplot as plt\n",
    "import warnings\n",
    "warnings.filterwarnings(\"ignore\")\n",
    "from utils.Validator import *\n",
    "pd.set_option('display.max_columns', None)\n",
    "sns.set(rc={'figure.figsize':(11.7,8.27)})"
   ]
  },
  {
   "cell_type": "markdown",
   "metadata": {},
   "source": [
    "# Load + Transform"
   ]
  },
  {
   "cell_type": "markdown",
   "metadata": {},
   "source": [
    "## Users"
   ]
  },
  {
   "cell_type": "code",
   "execution_count": 3,
   "metadata": {},
   "outputs": [
    {
     "data": {
      "text/html": [
       "<div>\n",
       "<style scoped>\n",
       "    .dataframe tbody tr th:only-of-type {\n",
       "        vertical-align: middle;\n",
       "    }\n",
       "\n",
       "    .dataframe tbody tr th {\n",
       "        vertical-align: top;\n",
       "    }\n",
       "\n",
       "    .dataframe thead th {\n",
       "        text-align: right;\n",
       "    }\n",
       "</style>\n",
       "<table border=\"1\" class=\"dataframe\">\n",
       "  <thead>\n",
       "    <tr style=\"text-align: right;\">\n",
       "      <th></th>\n",
       "      <th>Id</th>\n",
       "      <th>UserName</th>\n",
       "      <th>DisplayName</th>\n",
       "      <th>RegisterDate</th>\n",
       "      <th>PerformanceTier</th>\n",
       "    </tr>\n",
       "  </thead>\n",
       "  <tbody>\n",
       "    <tr>\n",
       "      <th>0</th>\n",
       "      <td>1</td>\n",
       "      <td>kaggleteam</td>\n",
       "      <td>Kaggle Team</td>\n",
       "      <td>03/24/2011</td>\n",
       "      <td>5</td>\n",
       "    </tr>\n",
       "    <tr>\n",
       "      <th>1</th>\n",
       "      <td>368</td>\n",
       "      <td>antgoldbloom</td>\n",
       "      <td>Anthony Goldbloom</td>\n",
       "      <td>01/20/2010</td>\n",
       "      <td>2</td>\n",
       "    </tr>\n",
       "    <tr>\n",
       "      <th>2</th>\n",
       "      <td>381</td>\n",
       "      <td>iguyon</td>\n",
       "      <td>Isabelle</td>\n",
       "      <td>01/29/2010</td>\n",
       "      <td>2</td>\n",
       "    </tr>\n",
       "    <tr>\n",
       "      <th>3</th>\n",
       "      <td>383</td>\n",
       "      <td>davidstephan</td>\n",
       "      <td>David Stephan</td>\n",
       "      <td>02/01/2010</td>\n",
       "      <td>0</td>\n",
       "    </tr>\n",
       "    <tr>\n",
       "      <th>4</th>\n",
       "      <td>384</td>\n",
       "      <td>gabewarren</td>\n",
       "      <td>Gabe Warren</td>\n",
       "      <td>02/02/2010</td>\n",
       "      <td>0</td>\n",
       "    </tr>\n",
       "  </tbody>\n",
       "</table>\n",
       "</div>"
      ],
      "text/plain": [
       "    Id      UserName        DisplayName RegisterDate PerformanceTier\n",
       "0    1    kaggleteam        Kaggle Team   03/24/2011               5\n",
       "1  368  antgoldbloom  Anthony Goldbloom   01/20/2010               2\n",
       "2  381        iguyon           Isabelle   01/29/2010               2\n",
       "3  383  davidstephan      David Stephan   02/01/2010               0\n",
       "4  384    gabewarren        Gabe Warren   02/02/2010               0"
      ]
     },
     "execution_count": 3,
     "metadata": {},
     "output_type": "execute_result"
    }
   ],
   "source": [
    "df_users = pd.read_csv(r\"../data/raw/Users.csv\",dtype=str)\n",
    "df_users.head()"
   ]
  },
  {
   "cell_type": "code",
   "execution_count": 4,
   "metadata": {},
   "outputs": [
    {
     "data": {
      "text/html": [
       "<div>\n",
       "<style scoped>\n",
       "    .dataframe tbody tr th:only-of-type {\n",
       "        vertical-align: middle;\n",
       "    }\n",
       "\n",
       "    .dataframe tbody tr th {\n",
       "        vertical-align: top;\n",
       "    }\n",
       "\n",
       "    .dataframe thead th {\n",
       "        text-align: right;\n",
       "    }\n",
       "</style>\n",
       "<table border=\"1\" class=\"dataframe\">\n",
       "  <thead>\n",
       "    <tr style=\"text-align: right;\">\n",
       "      <th></th>\n",
       "      <th>Id</th>\n",
       "      <th>UserName</th>\n",
       "      <th>DisplayName</th>\n",
       "      <th>RegisterDate</th>\n",
       "      <th>PerformanceTier</th>\n",
       "    </tr>\n",
       "  </thead>\n",
       "  <tbody>\n",
       "    <tr>\n",
       "      <th>2537706</th>\n",
       "      <td>2761716</td>\n",
       "      <td>jsuasnabar</td>\n",
       "      <td>Joshua Suasnabar</td>\n",
       "      <td>01/30/2019</td>\n",
       "      <td>0</td>\n",
       "    </tr>\n",
       "  </tbody>\n",
       "</table>\n",
       "</div>"
      ],
      "text/plain": [
       "              Id    UserName       DisplayName RegisterDate PerformanceTier\n",
       "2537706  2761716  jsuasnabar  Joshua Suasnabar   01/30/2019               0"
      ]
     },
     "execution_count": 4,
     "metadata": {},
     "output_type": "execute_result"
    }
   ],
   "source": [
    "df_users[df_users[\"UserName\"]==\"jsuasnabar\"]"
   ]
  },
  {
   "cell_type": "code",
   "execution_count": 5,
   "metadata": {},
   "outputs": [
    {
     "data": {
      "text/html": [
       "<div>\n",
       "<style scoped>\n",
       "    .dataframe tbody tr th:only-of-type {\n",
       "        vertical-align: middle;\n",
       "    }\n",
       "\n",
       "    .dataframe tbody tr th {\n",
       "        vertical-align: top;\n",
       "    }\n",
       "\n",
       "    .dataframe thead th {\n",
       "        text-align: right;\n",
       "    }\n",
       "</style>\n",
       "<table border=\"1\" class=\"dataframe\">\n",
       "  <thead>\n",
       "    <tr style=\"text-align: right;\">\n",
       "      <th></th>\n",
       "      <th>Id</th>\n",
       "      <th>UserName</th>\n",
       "      <th>DisplayName</th>\n",
       "      <th>RegisterDate</th>\n",
       "      <th>PerformanceTier</th>\n",
       "    </tr>\n",
       "  </thead>\n",
       "  <tbody>\n",
       "    <tr>\n",
       "      <th>1</th>\n",
       "      <td>368</td>\n",
       "      <td>antgoldbloom</td>\n",
       "      <td>Anthony Goldbloom</td>\n",
       "      <td>01/20/2010</td>\n",
       "      <td>2</td>\n",
       "    </tr>\n",
       "  </tbody>\n",
       "</table>\n",
       "</div>"
      ],
      "text/plain": [
       "    Id      UserName        DisplayName RegisterDate PerformanceTier\n",
       "1  368  antgoldbloom  Anthony Goldbloom   01/20/2010               2"
      ]
     },
     "execution_count": 5,
     "metadata": {},
     "output_type": "execute_result"
    }
   ],
   "source": [
    "df_users[df_users[\"Id\"]==\"368\"]"
   ]
  },
  {
   "cell_type": "code",
   "execution_count": 6,
   "metadata": {},
   "outputs": [
    {
     "data": {
      "text/html": [
       "<div>\n",
       "<style scoped>\n",
       "    .dataframe tbody tr th:only-of-type {\n",
       "        vertical-align: middle;\n",
       "    }\n",
       "\n",
       "    .dataframe tbody tr th {\n",
       "        vertical-align: top;\n",
       "    }\n",
       "\n",
       "    .dataframe thead th {\n",
       "        text-align: right;\n",
       "    }\n",
       "</style>\n",
       "<table border=\"1\" class=\"dataframe\">\n",
       "  <thead>\n",
       "    <tr style=\"text-align: right;\">\n",
       "      <th></th>\n",
       "      <th>Variable</th>\n",
       "      <th>n</th>\n",
       "      <th>Missing</th>\n",
       "      <th>%Missing</th>\n",
       "      <th>Unico</th>\n",
       "    </tr>\n",
       "  </thead>\n",
       "  <tbody>\n",
       "    <tr>\n",
       "      <th>0</th>\n",
       "      <td>Id</td>\n",
       "      <td>10087437</td>\n",
       "      <td>0</td>\n",
       "      <td>0.000000</td>\n",
       "      <td>10087437</td>\n",
       "    </tr>\n",
       "    <tr>\n",
       "      <th>0</th>\n",
       "      <td>UserName</td>\n",
       "      <td>10087437</td>\n",
       "      <td>1</td>\n",
       "      <td>0.000010</td>\n",
       "      <td>10087436</td>\n",
       "    </tr>\n",
       "    <tr>\n",
       "      <th>0</th>\n",
       "      <td>DisplayName</td>\n",
       "      <td>10087437</td>\n",
       "      <td>219</td>\n",
       "      <td>0.002171</td>\n",
       "      <td>8517586</td>\n",
       "    </tr>\n",
       "  </tbody>\n",
       "</table>\n",
       "</div>"
      ],
      "text/plain": [
       "      Variable         n  Missing  %Missing     Unico\n",
       "0           Id  10087437        0  0.000000  10087437\n",
       "0     UserName  10087437        1  0.000010  10087436\n",
       "0  DisplayName  10087437      219  0.002171   8517586"
      ]
     },
     "execution_count": 6,
     "metadata": {},
     "output_type": "execute_result"
    }
   ],
   "source": [
    "Validator.validar_categorico(df_users,[\"Id\",\"UserName\",\"DisplayName\"])"
   ]
  },
  {
   "cell_type": "code",
   "execution_count": 7,
   "metadata": {},
   "outputs": [
    {
     "data": {
      "text/html": [
       "<div>\n",
       "<style scoped>\n",
       "    .dataframe tbody tr th:only-of-type {\n",
       "        vertical-align: middle;\n",
       "    }\n",
       "\n",
       "    .dataframe tbody tr th {\n",
       "        vertical-align: top;\n",
       "    }\n",
       "\n",
       "    .dataframe thead th {\n",
       "        text-align: right;\n",
       "    }\n",
       "</style>\n",
       "<table border=\"1\" class=\"dataframe\">\n",
       "  <thead>\n",
       "    <tr style=\"text-align: right;\">\n",
       "      <th></th>\n",
       "      <th>Id</th>\n",
       "      <th>UserName</th>\n",
       "      <th>DisplayName</th>\n",
       "      <th>RegisterDate</th>\n",
       "      <th>PerformanceTier</th>\n",
       "    </tr>\n",
       "  </thead>\n",
       "  <tbody>\n",
       "    <tr>\n",
       "      <th>142096</th>\n",
       "      <td>159982</td>\n",
       "      <td>NaN</td>\n",
       "      <td>محـســــــــنـــــــــ ایــــــــمانیـــــــــ</td>\n",
       "      <td>01/27/2014</td>\n",
       "      <td>0</td>\n",
       "    </tr>\n",
       "  </tbody>\n",
       "</table>\n",
       "</div>"
      ],
      "text/plain": [
       "            Id UserName                                     DisplayName  \\\n",
       "142096  159982      NaN  محـســــــــنـــــــــ ایــــــــمانیـــــــــ   \n",
       "\n",
       "       RegisterDate PerformanceTier  \n",
       "142096   01/27/2014               0  "
      ]
     },
     "execution_count": 7,
     "metadata": {},
     "output_type": "execute_result"
    }
   ],
   "source": [
    "df_users[df_users[\"UserName\"].isnull()].head()"
   ]
  },
  {
   "cell_type": "code",
   "execution_count": 8,
   "metadata": {},
   "outputs": [],
   "source": [
    "df_users['UserName'] = df_users['UserName'].fillna(df_users['DisplayName'])\n"
   ]
  },
  {
   "cell_type": "code",
   "execution_count": 9,
   "metadata": {},
   "outputs": [
    {
     "data": {
      "text/html": [
       "<div>\n",
       "<style scoped>\n",
       "    .dataframe tbody tr th:only-of-type {\n",
       "        vertical-align: middle;\n",
       "    }\n",
       "\n",
       "    .dataframe tbody tr th {\n",
       "        vertical-align: top;\n",
       "    }\n",
       "\n",
       "    .dataframe thead th {\n",
       "        text-align: right;\n",
       "    }\n",
       "</style>\n",
       "<table border=\"1\" class=\"dataframe\">\n",
       "  <thead>\n",
       "    <tr style=\"text-align: right;\">\n",
       "      <th></th>\n",
       "      <th>Variable</th>\n",
       "      <th>n</th>\n",
       "      <th>Missing</th>\n",
       "      <th>%Missing</th>\n",
       "      <th>Unico</th>\n",
       "    </tr>\n",
       "  </thead>\n",
       "  <tbody>\n",
       "    <tr>\n",
       "      <th>0</th>\n",
       "      <td>Id</td>\n",
       "      <td>10087437</td>\n",
       "      <td>0</td>\n",
       "      <td>0.000000</td>\n",
       "      <td>10087437</td>\n",
       "    </tr>\n",
       "    <tr>\n",
       "      <th>0</th>\n",
       "      <td>UserName</td>\n",
       "      <td>10087437</td>\n",
       "      <td>0</td>\n",
       "      <td>0.000000</td>\n",
       "      <td>10087437</td>\n",
       "    </tr>\n",
       "    <tr>\n",
       "      <th>0</th>\n",
       "      <td>DisplayName</td>\n",
       "      <td>10087437</td>\n",
       "      <td>219</td>\n",
       "      <td>0.002171</td>\n",
       "      <td>8517586</td>\n",
       "    </tr>\n",
       "  </tbody>\n",
       "</table>\n",
       "</div>"
      ],
      "text/plain": [
       "      Variable         n  Missing  %Missing     Unico\n",
       "0           Id  10087437        0  0.000000  10087437\n",
       "0     UserName  10087437        0  0.000000  10087437\n",
       "0  DisplayName  10087437      219  0.002171   8517586"
      ]
     },
     "execution_count": 9,
     "metadata": {},
     "output_type": "execute_result"
    }
   ],
   "source": [
    "Validator.validar_categorico(df_users,[\"Id\",\"UserName\",\"DisplayName\"])"
   ]
  },
  {
   "cell_type": "code",
   "execution_count": 10,
   "metadata": {},
   "outputs": [
    {
     "data": {
      "text/plain": [
       "<matplotlib.axes._subplots.AxesSubplot at 0x1c3803dcd30>"
      ]
     },
     "execution_count": 10,
     "metadata": {},
     "output_type": "execute_result"
    },
    {
     "data": {
      "image/png": "[encoded data removed]",
      "text/plain": [
       "<Figure size 432x288 with 1 Axes>"
      ]
     },
     "metadata": {
      "needs_background": "light"
     },
     "output_type": "display_data"
    }
   ],
   "source": [
    "df_users[\"RegisterDate\"] = pd.to_datetime(df_users[\"RegisterDate\"])#.astype(\"datetime64\")\n",
    "df_users[\"RegisterYear\"] = df_users[\"RegisterDate\"].dt.year\n",
    "df_users.groupby([\"RegisterYear\"])[\"RegisterYear\"].count().plot(kind=\"bar\")"
   ]
  },
  {
   "cell_type": "code",
   "execution_count": 11,
   "metadata": {},
   "outputs": [
    {
     "data": {
      "text/plain": [
       "0    9893236\n",
       "1     180535\n",
       "2      11167\n",
       "3       2096\n",
       "4        349\n",
       "5         54\n",
       "Name: PerformanceTier, dtype: int64"
      ]
     },
     "execution_count": 11,
     "metadata": {},
     "output_type": "execute_result"
    }
   ],
   "source": [
    "df_users[\"PerformanceTier\"].value_counts()"
   ]
  },
  {
   "cell_type": "code",
   "execution_count": 12,
   "metadata": {},
   "outputs": [
    {
     "data": {
      "text/plain": [
       "0    0.980748\n",
       "1    0.017897\n",
       "2    0.001107\n",
       "3    0.000208\n",
       "4    0.000035\n",
       "5    0.000005\n",
       "Name: PerformanceTier, dtype: float64"
      ]
     },
     "execution_count": 12,
     "metadata": {},
     "output_type": "execute_result"
    }
   ],
   "source": [
    "df_users[\"PerformanceTier\"].value_counts(normalize=True)"
   ]
  },
  {
   "cell_type": "code",
   "execution_count": 13,
   "metadata": {},
   "outputs": [
    {
     "data": {
      "text/html": [
       "<div>\n",
       "<style scoped>\n",
       "    .dataframe tbody tr th:only-of-type {\n",
       "        vertical-align: middle;\n",
       "    }\n",
       "\n",
       "    .dataframe tbody tr th {\n",
       "        vertical-align: top;\n",
       "    }\n",
       "\n",
       "    .dataframe thead th {\n",
       "        text-align: right;\n",
       "    }\n",
       "</style>\n",
       "<table border=\"1\" class=\"dataframe\">\n",
       "  <thead>\n",
       "    <tr style=\"text-align: right;\">\n",
       "      <th>RegisterYear</th>\n",
       "      <th>2010</th>\n",
       "      <th>2011</th>\n",
       "      <th>2012</th>\n",
       "      <th>2013</th>\n",
       "      <th>2014</th>\n",
       "      <th>2015</th>\n",
       "      <th>2016</th>\n",
       "      <th>2017</th>\n",
       "      <th>2018</th>\n",
       "      <th>2019</th>\n",
       "      <th>2020</th>\n",
       "      <th>2021</th>\n",
       "      <th>2022</th>\n",
       "    </tr>\n",
       "    <tr>\n",
       "      <th>PerformanceTier</th>\n",
       "      <th></th>\n",
       "      <th></th>\n",
       "      <th></th>\n",
       "      <th></th>\n",
       "      <th></th>\n",
       "      <th></th>\n",
       "      <th></th>\n",
       "      <th></th>\n",
       "      <th></th>\n",
       "      <th></th>\n",
       "      <th></th>\n",
       "      <th></th>\n",
       "      <th></th>\n",
       "    </tr>\n",
       "  </thead>\n",
       "  <tbody>\n",
       "    <tr>\n",
       "      <th>0</th>\n",
       "      <td>3211</td>\n",
       "      <td>16712</td>\n",
       "      <td>39328</td>\n",
       "      <td>57480</td>\n",
       "      <td>90271</td>\n",
       "      <td>178588</td>\n",
       "      <td>312437</td>\n",
       "      <td>602156</td>\n",
       "      <td>1046156</td>\n",
       "      <td>1441129</td>\n",
       "      <td>2017520</td>\n",
       "      <td>2567425</td>\n",
       "      <td>1520823</td>\n",
       "    </tr>\n",
       "    <tr>\n",
       "      <th>1</th>\n",
       "      <td>1094</td>\n",
       "      <td>3696</td>\n",
       "      <td>5859</td>\n",
       "      <td>7505</td>\n",
       "      <td>9995</td>\n",
       "      <td>13716</td>\n",
       "      <td>11569</td>\n",
       "      <td>14629</td>\n",
       "      <td>20003</td>\n",
       "      <td>23739</td>\n",
       "      <td>31838</td>\n",
       "      <td>32268</td>\n",
       "      <td>4624</td>\n",
       "    </tr>\n",
       "    <tr>\n",
       "      <th>2</th>\n",
       "      <td>137</td>\n",
       "      <td>270</td>\n",
       "      <td>488</td>\n",
       "      <td>507</td>\n",
       "      <td>684</td>\n",
       "      <td>940</td>\n",
       "      <td>966</td>\n",
       "      <td>1382</td>\n",
       "      <td>1619</td>\n",
       "      <td>1527</td>\n",
       "      <td>1529</td>\n",
       "      <td>1009</td>\n",
       "      <td>109</td>\n",
       "    </tr>\n",
       "    <tr>\n",
       "      <th>3</th>\n",
       "      <td>55</td>\n",
       "      <td>114</td>\n",
       "      <td>233</td>\n",
       "      <td>186</td>\n",
       "      <td>206</td>\n",
       "      <td>202</td>\n",
       "      <td>203</td>\n",
       "      <td>272</td>\n",
       "      <td>239</td>\n",
       "      <td>176</td>\n",
       "      <td>140</td>\n",
       "      <td>66</td>\n",
       "      <td>4</td>\n",
       "    </tr>\n",
       "    <tr>\n",
       "      <th>4</th>\n",
       "      <td>19</td>\n",
       "      <td>31</td>\n",
       "      <td>35</td>\n",
       "      <td>20</td>\n",
       "      <td>23</td>\n",
       "      <td>43</td>\n",
       "      <td>48</td>\n",
       "      <td>67</td>\n",
       "      <td>27</td>\n",
       "      <td>22</td>\n",
       "      <td>10</td>\n",
       "      <td>3</td>\n",
       "      <td>1</td>\n",
       "    </tr>\n",
       "    <tr>\n",
       "      <th>5</th>\n",
       "      <td>2</td>\n",
       "      <td>2</td>\n",
       "      <td>2</td>\n",
       "      <td>1</td>\n",
       "      <td>2</td>\n",
       "      <td>2</td>\n",
       "      <td>2</td>\n",
       "      <td>8</td>\n",
       "      <td>12</td>\n",
       "      <td>5</td>\n",
       "      <td>2</td>\n",
       "      <td>8</td>\n",
       "      <td>6</td>\n",
       "    </tr>\n",
       "  </tbody>\n",
       "</table>\n",
       "</div>"
      ],
      "text/plain": [
       "RegisterYear     2010   2011   2012   2013   2014    2015    2016    2017  \\\n",
       "PerformanceTier                                                             \n",
       "0                3211  16712  39328  57480  90271  178588  312437  602156   \n",
       "1                1094   3696   5859   7505   9995   13716   11569   14629   \n",
       "2                 137    270    488    507    684     940     966    1382   \n",
       "3                  55    114    233    186    206     202     203     272   \n",
       "4                  19     31     35     20     23      43      48      67   \n",
       "5                   2      2      2      1      2       2       2       8   \n",
       "\n",
       "RegisterYear        2018     2019     2020     2021     2022  \n",
       "PerformanceTier                                               \n",
       "0                1046156  1441129  2017520  2567425  1520823  \n",
       "1                  20003    23739    31838    32268     4624  \n",
       "2                   1619     1527     1529     1009      109  \n",
       "3                    239      176      140       66        4  \n",
       "4                     27       22       10        3        1  \n",
       "5                     12        5        2        8        6  "
      ]
     },
     "execution_count": 13,
     "metadata": {},
     "output_type": "execute_result"
    }
   ],
   "source": [
    "pd.crosstab(df_users['PerformanceTier'], df_users['RegisterYear'])"
   ]
  },
  {
   "cell_type": "markdown",
   "metadata": {},
   "source": [
    "*PerformanceTier: https://www.kaggle.com/progression*\n",
    "* 0 = Novice\n",
    "* 1 = Contributor\n",
    "* 2 = Expert\n",
    "* 3 = Master\n",
    "* 4 = Grandmaster\n",
    "* 5 = Kaggle Team"
   ]
  },
  {
   "cell_type": "code",
   "execution_count": 14,
   "metadata": {},
   "outputs": [
    {
     "data": {
      "text/plain": [
       "0    9893236\n",
       "1     180535\n",
       "2      11167\n",
       "3       2096\n",
       "4        349\n",
       "Name: PerformanceTier, dtype: int64"
      ]
     },
     "execution_count": 14,
     "metadata": {},
     "output_type": "execute_result"
    }
   ],
   "source": [
    "df_users_i = df_users.copy()\n",
    "df_users_i = df_users_i[df_users_i[\"PerformanceTier\"].isin([\"0\",\"1\",\"2\",\"3\",\"4\"])]\n",
    "df_users_i = df_users_i[[\"Id\",\"UserName\",\"DisplayName\",\"PerformanceTier\",\"RegisterDate\",\"RegisterYear\"]]\n",
    "df_users_i.rename(columns = {'Id':'UserId'}, inplace = True)\n",
    "df_users_i[\"PerformanceTier\"].value_counts()"
   ]
  },
  {
   "cell_type": "code",
   "execution_count": 15,
   "metadata": {},
   "outputs": [
    {
     "data": {
      "text/plain": [
       "0    0.980753\n",
       "1    0.017897\n",
       "2    0.001107\n",
       "3    0.000208\n",
       "4    0.000035\n",
       "Name: PerformanceTier, dtype: float64"
      ]
     },
     "execution_count": 15,
     "metadata": {},
     "output_type": "execute_result"
    }
   ],
   "source": [
    "df_users_i[\"PerformanceTier\"].value_counts(normalize=True)"
   ]
  },
  {
   "cell_type": "code",
   "execution_count": 16,
   "metadata": {},
   "outputs": [
    {
     "data": {
      "text/html": [
       "<div>\n",
       "<style scoped>\n",
       "    .dataframe tbody tr th:only-of-type {\n",
       "        vertical-align: middle;\n",
       "    }\n",
       "\n",
       "    .dataframe tbody tr th {\n",
       "        vertical-align: top;\n",
       "    }\n",
       "\n",
       "    .dataframe thead th {\n",
       "        text-align: right;\n",
       "    }\n",
       "</style>\n",
       "<table border=\"1\" class=\"dataframe\">\n",
       "  <thead>\n",
       "    <tr style=\"text-align: right;\">\n",
       "      <th></th>\n",
       "      <th>Variable</th>\n",
       "      <th>n</th>\n",
       "      <th>Missing</th>\n",
       "      <th>%Missing</th>\n",
       "      <th>Negativo</th>\n",
       "      <th>%Negativo</th>\n",
       "      <th>Zero</th>\n",
       "      <th>%Zero</th>\n",
       "      <th>Unico</th>\n",
       "      <th>Media</th>\n",
       "      <th>Min</th>\n",
       "      <th>Max</th>\n",
       "      <th>IQRMAX</th>\n",
       "      <th>3STD</th>\n",
       "      <th>P10</th>\n",
       "      <th>P25</th>\n",
       "      <th>P50</th>\n",
       "      <th>P75</th>\n",
       "      <th>P90</th>\n",
       "      <th>P95</th>\n",
       "      <th>P99</th>\n",
       "      <th>Outlier IQR</th>\n",
       "      <th>%Outlier IQR</th>\n",
       "      <th>Outlier 3SD</th>\n",
       "      <th>%Outlier 3SD</th>\n",
       "      <th>Outlier P90</th>\n",
       "      <th>%Outlier P90</th>\n",
       "      <th>Outlier P95</th>\n",
       "      <th>%Outlier P95</th>\n",
       "      <th>Outlier P99</th>\n",
       "      <th>%Outlier P99</th>\n",
       "    </tr>\n",
       "  </thead>\n",
       "  <tbody>\n",
       "    <tr>\n",
       "      <th>0</th>\n",
       "      <td>RegisterYear</td>\n",
       "      <td>10087383</td>\n",
       "      <td>0</td>\n",
       "      <td>0.0</td>\n",
       "      <td>0</td>\n",
       "      <td>0.0</td>\n",
       "      <td>0</td>\n",
       "      <td>0.0</td>\n",
       "      <td>13</td>\n",
       "      <td>2019.62907</td>\n",
       "      <td>2010</td>\n",
       "      <td>2022</td>\n",
       "      <td>2024.0</td>\n",
       "      <td>2025.647773</td>\n",
       "      <td>2017.0</td>\n",
       "      <td>2019.0</td>\n",
       "      <td>2020.0</td>\n",
       "      <td>2021.0</td>\n",
       "      <td>2022.0</td>\n",
       "      <td>2022.0</td>\n",
       "      <td>2022.0</td>\n",
       "      <td>431648</td>\n",
       "      <td>4.279088</td>\n",
       "      <td>0</td>\n",
       "      <td>0.0</td>\n",
       "      <td>0</td>\n",
       "      <td>0.0</td>\n",
       "      <td>0</td>\n",
       "      <td>0.0</td>\n",
       "      <td>0</td>\n",
       "      <td>0.0</td>\n",
       "    </tr>\n",
       "  </tbody>\n",
       "</table>\n",
       "</div>"
      ],
      "text/plain": [
       "       Variable         n  Missing  %Missing  Negativo  %Negativo  Zero  \\\n",
       "0  RegisterYear  10087383        0       0.0         0        0.0     0   \n",
       "\n",
       "   %Zero  Unico       Media   Min   Max  IQRMAX         3STD     P10     P25  \\\n",
       "0    0.0     13  2019.62907  2010  2022  2024.0  2025.647773  2017.0  2019.0   \n",
       "\n",
       "      P50     P75     P90     P95     P99  Outlier IQR  %Outlier IQR  \\\n",
       "0  2020.0  2021.0  2022.0  2022.0  2022.0       431648      4.279088   \n",
       "\n",
       "   Outlier 3SD  %Outlier 3SD  Outlier P90  %Outlier P90  Outlier P95  \\\n",
       "0            0           0.0            0           0.0            0   \n",
       "\n",
       "   %Outlier P95  Outlier P99  %Outlier P99  \n",
       "0           0.0            0           0.0  "
      ]
     },
     "execution_count": 16,
     "metadata": {},
     "output_type": "execute_result"
    }
   ],
   "source": [
    "Validator.validar_numerico(df_users_i,[\"RegisterYear\"])"
   ]
  },
  {
   "cell_type": "code",
   "execution_count": 17,
   "metadata": {},
   "outputs": [
    {
     "data": {
      "text/html": [
       "<div>\n",
       "<style scoped>\n",
       "    .dataframe tbody tr th:only-of-type {\n",
       "        vertical-align: middle;\n",
       "    }\n",
       "\n",
       "    .dataframe tbody tr th {\n",
       "        vertical-align: top;\n",
       "    }\n",
       "\n",
       "    .dataframe thead th {\n",
       "        text-align: right;\n",
       "    }\n",
       "</style>\n",
       "<table border=\"1\" class=\"dataframe\">\n",
       "  <thead>\n",
       "    <tr style=\"text-align: right;\">\n",
       "      <th></th>\n",
       "      <th>UserId</th>\n",
       "      <th>UserName</th>\n",
       "      <th>DisplayName</th>\n",
       "      <th>PerformanceTier</th>\n",
       "      <th>RegisterDate</th>\n",
       "      <th>RegisterYear</th>\n",
       "      <th>Today</th>\n",
       "    </tr>\n",
       "  </thead>\n",
       "  <tbody>\n",
       "    <tr>\n",
       "      <th>1</th>\n",
       "      <td>368</td>\n",
       "      <td>antgoldbloom</td>\n",
       "      <td>Anthony Goldbloom</td>\n",
       "      <td>2</td>\n",
       "      <td>2010-01-20</td>\n",
       "      <td>2010</td>\n",
       "      <td>2022-06-30</td>\n",
       "    </tr>\n",
       "    <tr>\n",
       "      <th>2</th>\n",
       "      <td>381</td>\n",
       "      <td>iguyon</td>\n",
       "      <td>Isabelle</td>\n",
       "      <td>2</td>\n",
       "      <td>2010-01-29</td>\n",
       "      <td>2010</td>\n",
       "      <td>2022-06-30</td>\n",
       "    </tr>\n",
       "    <tr>\n",
       "      <th>3</th>\n",
       "      <td>383</td>\n",
       "      <td>davidstephan</td>\n",
       "      <td>David Stephan</td>\n",
       "      <td>0</td>\n",
       "      <td>2010-02-01</td>\n",
       "      <td>2010</td>\n",
       "      <td>2022-06-30</td>\n",
       "    </tr>\n",
       "    <tr>\n",
       "      <th>4</th>\n",
       "      <td>384</td>\n",
       "      <td>gabewarren</td>\n",
       "      <td>Gabe Warren</td>\n",
       "      <td>0</td>\n",
       "      <td>2010-02-02</td>\n",
       "      <td>2010</td>\n",
       "      <td>2022-06-30</td>\n",
       "    </tr>\n",
       "    <tr>\n",
       "      <th>5</th>\n",
       "      <td>385</td>\n",
       "      <td>demonjosh</td>\n",
       "      <td>Demon Josh</td>\n",
       "      <td>0</td>\n",
       "      <td>2010-02-02</td>\n",
       "      <td>2010</td>\n",
       "      <td>2022-06-30</td>\n",
       "    </tr>\n",
       "  </tbody>\n",
       "</table>\n",
       "</div>"
      ],
      "text/plain": [
       "  UserId      UserName        DisplayName PerformanceTier RegisterDate  \\\n",
       "1    368  antgoldbloom  Anthony Goldbloom               2   2010-01-20   \n",
       "2    381        iguyon           Isabelle               2   2010-01-29   \n",
       "3    383  davidstephan      David Stephan               0   2010-02-01   \n",
       "4    384    gabewarren        Gabe Warren               0   2010-02-02   \n",
       "5    385     demonjosh         Demon Josh               0   2010-02-02   \n",
       "\n",
       "   RegisterYear      Today  \n",
       "1          2010 2022-06-30  \n",
       "2          2010 2022-06-30  \n",
       "3          2010 2022-06-30  \n",
       "4          2010 2022-06-30  \n",
       "5          2010 2022-06-30  "
      ]
     },
     "execution_count": 17,
     "metadata": {},
     "output_type": "execute_result"
    }
   ],
   "source": [
    "date_format = '%Y-%m-%d %H:%M:%S'\n",
    "my_date = datetime.datetime(2022, 6, 30)\n",
    "df_users_i['Today'] = my_date\n",
    "df_users_i.head()"
   ]
  },
  {
   "cell_type": "code",
   "execution_count": 18,
   "metadata": {},
   "outputs": [
    {
     "data": {
      "text/html": [
       "<div>\n",
       "<style scoped>\n",
       "    .dataframe tbody tr th:only-of-type {\n",
       "        vertical-align: middle;\n",
       "    }\n",
       "\n",
       "    .dataframe tbody tr th {\n",
       "        vertical-align: top;\n",
       "    }\n",
       "\n",
       "    .dataframe thead th {\n",
       "        text-align: right;\n",
       "    }\n",
       "</style>\n",
       "<table border=\"1\" class=\"dataframe\">\n",
       "  <thead>\n",
       "    <tr style=\"text-align: right;\">\n",
       "      <th></th>\n",
       "      <th>UserId</th>\n",
       "      <th>UserName</th>\n",
       "      <th>DisplayName</th>\n",
       "      <th>PerformanceTier</th>\n",
       "      <th>RegisterDate</th>\n",
       "      <th>RegisterYear</th>\n",
       "      <th>Today</th>\n",
       "      <th>seniority_months</th>\n",
       "    </tr>\n",
       "  </thead>\n",
       "  <tbody>\n",
       "    <tr>\n",
       "      <th>1</th>\n",
       "      <td>368</td>\n",
       "      <td>antgoldbloom</td>\n",
       "      <td>Anthony Goldbloom</td>\n",
       "      <td>2</td>\n",
       "      <td>2010-01-20</td>\n",
       "      <td>2010</td>\n",
       "      <td>2022-06-30</td>\n",
       "      <td>12.44</td>\n",
       "    </tr>\n",
       "    <tr>\n",
       "      <th>2</th>\n",
       "      <td>381</td>\n",
       "      <td>iguyon</td>\n",
       "      <td>Isabelle</td>\n",
       "      <td>2</td>\n",
       "      <td>2010-01-29</td>\n",
       "      <td>2010</td>\n",
       "      <td>2022-06-30</td>\n",
       "      <td>12.42</td>\n",
       "    </tr>\n",
       "    <tr>\n",
       "      <th>3</th>\n",
       "      <td>383</td>\n",
       "      <td>davidstephan</td>\n",
       "      <td>David Stephan</td>\n",
       "      <td>0</td>\n",
       "      <td>2010-02-01</td>\n",
       "      <td>2010</td>\n",
       "      <td>2022-06-30</td>\n",
       "      <td>12.41</td>\n",
       "    </tr>\n",
       "    <tr>\n",
       "      <th>4</th>\n",
       "      <td>384</td>\n",
       "      <td>gabewarren</td>\n",
       "      <td>Gabe Warren</td>\n",
       "      <td>0</td>\n",
       "      <td>2010-02-02</td>\n",
       "      <td>2010</td>\n",
       "      <td>2022-06-30</td>\n",
       "      <td>12.41</td>\n",
       "    </tr>\n",
       "    <tr>\n",
       "      <th>5</th>\n",
       "      <td>385</td>\n",
       "      <td>demonjosh</td>\n",
       "      <td>Demon Josh</td>\n",
       "      <td>0</td>\n",
       "      <td>2010-02-02</td>\n",
       "      <td>2010</td>\n",
       "      <td>2022-06-30</td>\n",
       "      <td>12.41</td>\n",
       "    </tr>\n",
       "  </tbody>\n",
       "</table>\n",
       "</div>"
      ],
      "text/plain": [
       "  UserId      UserName        DisplayName PerformanceTier RegisterDate  \\\n",
       "1    368  antgoldbloom  Anthony Goldbloom               2   2010-01-20   \n",
       "2    381        iguyon           Isabelle               2   2010-01-29   \n",
       "3    383  davidstephan      David Stephan               0   2010-02-01   \n",
       "4    384    gabewarren        Gabe Warren               0   2010-02-02   \n",
       "5    385     demonjosh         Demon Josh               0   2010-02-02   \n",
       "\n",
       "   RegisterYear      Today  seniority_months  \n",
       "1          2010 2022-06-30             12.44  \n",
       "2          2010 2022-06-30             12.42  \n",
       "3          2010 2022-06-30             12.41  \n",
       "4          2010 2022-06-30             12.41  \n",
       "5          2010 2022-06-30             12.41  "
      ]
     },
     "execution_count": 18,
     "metadata": {},
     "output_type": "execute_result"
    }
   ],
   "source": [
    "# Creamos la variable antiguedad en meses\n",
    "df_users_i['seniority_months'] = ((df_users_i.Today - df_users_i.RegisterDate)/np.timedelta64(1, 'M'))\n",
    "df_users_i['seniority_months'] = round((df_users_i['seniority_months']/12),2)\n",
    "df_users_i.head()"
   ]
  },
  {
   "cell_type": "code",
   "execution_count": 19,
   "metadata": {},
   "outputs": [
    {
     "data": {
      "text/plain": [
       "<matplotlib.axes._subplots.AxesSubplot at 0x1c380f37b70>"
      ]
     },
     "execution_count": 19,
     "metadata": {},
     "output_type": "execute_result"
    },
    {
     "data": {
      "image/png": "[encoded data removed]",
      "text/plain": [
       "<Figure size 432x288 with 1 Axes>"
      ]
     },
     "metadata": {
      "needs_background": "light"
     },
     "output_type": "display_data"
    }
   ],
   "source": [
    "df_users_i[\"seniority_months\"].hist(bins=12)"
   ]
  },
  {
   "cell_type": "code",
   "execution_count": 20,
   "metadata": {},
   "outputs": [
    {
     "data": {
      "text/plain": [
       "0.0     0.00\n",
       "0.2     0.66\n",
       "0.4     1.44\n",
       "0.6     2.41\n",
       "0.8     3.82\n",
       "1.0    12.44\n",
       "Name: seniority_months, dtype: float64"
      ]
     },
     "execution_count": 20,
     "metadata": {},
     "output_type": "execute_result"
    }
   ],
   "source": [
    "df_users_i[\"seniority_months\"].quantile([0,0.2,0.4,0.6,0.8,1])"
   ]
  },
  {
   "cell_type": "code",
   "execution_count": 21,
   "metadata": {},
   "outputs": [],
   "source": [
    "# Creamos variable cateogorica de seniority\n",
    "conditions = [\n",
    "    (df_users_i['seniority_months'] <= 0.5), # 6 meses\n",
    "    (df_users_i['seniority_months'] > 0.5) & (df_users_i['seniority_months'] <= 1), #6 meses - anio y medio\n",
    "    (df_users_i['seniority_months'] > 1) & (df_users_i['seniority_months'] <= 2),\n",
    "    (df_users_i['seniority_months'] > 2) & (df_users_i['seniority_months'] <= 3),\n",
    "    (df_users_i['seniority_months'] > 3) & (df_users_i['seniority_months'] <= 4),\n",
    "    (df_users_i['seniority_months'] > 4)\n",
    "    ]\n",
    "\n",
    "values = ['0_05','05_1', '1_2', '2_3', '3_4','4_mas']\n",
    "\n",
    "df_users_i['Seniority_Cat'] = np.select(conditions, values)"
   ]
  },
  {
   "cell_type": "code",
   "execution_count": 22,
   "metadata": {},
   "outputs": [
    {
     "data": {
      "text/plain": [
       "1_2      0.222074\n",
       "4_mas    0.183244\n",
       "2_3      0.180082\n",
       "0_05     0.153494\n",
       "05_1     0.134435\n",
       "3_4      0.126670\n",
       "Name: Seniority_Cat, dtype: float64"
      ]
     },
     "execution_count": 22,
     "metadata": {},
     "output_type": "execute_result"
    }
   ],
   "source": [
    "df_users_i['Seniority_Cat'].value_counts(normalize=True)"
   ]
  },
  {
   "cell_type": "markdown",
   "metadata": {},
   "source": [
    "*PerformanceTier: https://www.kaggle.com/progression*\n",
    "* 0 = Novice\n",
    "* 1 = Contributor\n",
    "* 2 = Expert\n",
    "* 3 = Master\n",
    "* 4 = Grandmaster\n",
    "* 5 = Kaggle Team"
   ]
  },
  {
   "cell_type": "code",
   "execution_count": 23,
   "metadata": {},
   "outputs": [],
   "source": [
    "# Creamos variable cateogorica de PerformanceTier\n",
    "conditions = [\n",
    "    (df_users_i['PerformanceTier'] == \"0\"), # 6 meses\n",
    "    (df_users_i['PerformanceTier'] == \"1\"), # 6 meses\n",
    "    (df_users_i['PerformanceTier'] == \"2\"), # 6 meses\n",
    "    (df_users_i['PerformanceTier'] == \"3\"), # 6 meses\n",
    "    (df_users_i['PerformanceTier'] == \"4\"), # 6 meses\n",
    "    ]\n",
    "\n",
    "values = ['Novice','Contributor', 'Expert', 'Master', 'Grandmaster']\n",
    "\n",
    "df_users_i['PerformanceTier_Cat'] = np.select(conditions, values)"
   ]
  },
  {
   "cell_type": "code",
   "execution_count": 24,
   "metadata": {},
   "outputs": [
    {
     "data": {
      "text/plain": [
       "Novice         0.980753\n",
       "Contributor    0.017897\n",
       "Expert         0.001107\n",
       "Master         0.000208\n",
       "Grandmaster    0.000035\n",
       "Name: PerformanceTier_Cat, dtype: float64"
      ]
     },
     "execution_count": 24,
     "metadata": {},
     "output_type": "execute_result"
    }
   ],
   "source": [
    "df_users_i['PerformanceTier_Cat'].value_counts(normalize=True)"
   ]
  },
  {
   "cell_type": "code",
   "execution_count": 25,
   "metadata": {},
   "outputs": [
    {
     "data": {
      "text/html": [
       "<div>\n",
       "<style scoped>\n",
       "    .dataframe tbody tr th:only-of-type {\n",
       "        vertical-align: middle;\n",
       "    }\n",
       "\n",
       "    .dataframe tbody tr th {\n",
       "        vertical-align: top;\n",
       "    }\n",
       "\n",
       "    .dataframe thead th {\n",
       "        text-align: right;\n",
       "    }\n",
       "</style>\n",
       "<table border=\"1\" class=\"dataframe\">\n",
       "  <thead>\n",
       "    <tr style=\"text-align: right;\">\n",
       "      <th></th>\n",
       "      <th>UserId</th>\n",
       "      <th>UserName</th>\n",
       "      <th>DisplayName</th>\n",
       "      <th>PerformanceTier_Cat</th>\n",
       "      <th>Seniority_Cat</th>\n",
       "    </tr>\n",
       "  </thead>\n",
       "  <tbody>\n",
       "    <tr>\n",
       "      <th>1</th>\n",
       "      <td>368</td>\n",
       "      <td>antgoldbloom</td>\n",
       "      <td>Anthony Goldbloom</td>\n",
       "      <td>Expert</td>\n",
       "      <td>4_mas</td>\n",
       "    </tr>\n",
       "    <tr>\n",
       "      <th>2</th>\n",
       "      <td>381</td>\n",
       "      <td>iguyon</td>\n",
       "      <td>Isabelle</td>\n",
       "      <td>Expert</td>\n",
       "      <td>4_mas</td>\n",
       "    </tr>\n",
       "    <tr>\n",
       "      <th>3</th>\n",
       "      <td>383</td>\n",
       "      <td>davidstephan</td>\n",
       "      <td>David Stephan</td>\n",
       "      <td>Novice</td>\n",
       "      <td>4_mas</td>\n",
       "    </tr>\n",
       "    <tr>\n",
       "      <th>4</th>\n",
       "      <td>384</td>\n",
       "      <td>gabewarren</td>\n",
       "      <td>Gabe Warren</td>\n",
       "      <td>Novice</td>\n",
       "      <td>4_mas</td>\n",
       "    </tr>\n",
       "    <tr>\n",
       "      <th>5</th>\n",
       "      <td>385</td>\n",
       "      <td>demonjosh</td>\n",
       "      <td>Demon Josh</td>\n",
       "      <td>Novice</td>\n",
       "      <td>4_mas</td>\n",
       "    </tr>\n",
       "  </tbody>\n",
       "</table>\n",
       "</div>"
      ],
      "text/plain": [
       "  UserId      UserName        DisplayName PerformanceTier_Cat Seniority_Cat\n",
       "1    368  antgoldbloom  Anthony Goldbloom              Expert         4_mas\n",
       "2    381        iguyon           Isabelle              Expert         4_mas\n",
       "3    383  davidstephan      David Stephan              Novice         4_mas\n",
       "4    384    gabewarren        Gabe Warren              Novice         4_mas\n",
       "5    385     demonjosh         Demon Josh              Novice         4_mas"
      ]
     },
     "execution_count": 25,
     "metadata": {},
     "output_type": "execute_result"
    }
   ],
   "source": [
    "df_users_i = df_users_i[[\"UserId\",\"UserName\",\"DisplayName\",\"PerformanceTier_Cat\",\"Seniority_Cat\"]]\n",
    "df_users_i.head()"
   ]
  },
  {
   "cell_type": "code",
   "execution_count": 26,
   "metadata": {},
   "outputs": [],
   "source": [
    "df_users_i.to_csv(r\"../data/interim/Users.csv\",index=False)"
   ]
  },
  {
   "cell_type": "markdown",
   "metadata": {},
   "source": [
    "## User Followers"
   ]
  },
  {
   "cell_type": "code",
   "execution_count": 27,
   "metadata": {},
   "outputs": [
    {
     "data": {
      "text/html": [
       "<div>\n",
       "<style scoped>\n",
       "    .dataframe tbody tr th:only-of-type {\n",
       "        vertical-align: middle;\n",
       "    }\n",
       "\n",
       "    .dataframe tbody tr th {\n",
       "        vertical-align: top;\n",
       "    }\n",
       "\n",
       "    .dataframe thead th {\n",
       "        text-align: right;\n",
       "    }\n",
       "</style>\n",
       "<table border=\"1\" class=\"dataframe\">\n",
       "  <thead>\n",
       "    <tr style=\"text-align: right;\">\n",
       "      <th></th>\n",
       "      <th>Id</th>\n",
       "      <th>UserId</th>\n",
       "      <th>FollowingUserId</th>\n",
       "      <th>CreationDate</th>\n",
       "    </tr>\n",
       "  </thead>\n",
       "  <tbody>\n",
       "    <tr>\n",
       "      <th>0</th>\n",
       "      <td>64</td>\n",
       "      <td>368</td>\n",
       "      <td>993</td>\n",
       "      <td>05/23/2017</td>\n",
       "    </tr>\n",
       "    <tr>\n",
       "      <th>1</th>\n",
       "      <td>122289</td>\n",
       "      <td>368</td>\n",
       "      <td>67483</td>\n",
       "      <td>08/07/2018</td>\n",
       "    </tr>\n",
       "    <tr>\n",
       "      <th>2</th>\n",
       "      <td>323230</td>\n",
       "      <td>368</td>\n",
       "      <td>1663522</td>\n",
       "      <td>09/18/2019</td>\n",
       "    </tr>\n",
       "    <tr>\n",
       "      <th>3</th>\n",
       "      <td>412502</td>\n",
       "      <td>368</td>\n",
       "      <td>1302389</td>\n",
       "      <td>03/08/2020</td>\n",
       "    </tr>\n",
       "    <tr>\n",
       "      <th>4</th>\n",
       "      <td>447841</td>\n",
       "      <td>368</td>\n",
       "      <td>391404</td>\n",
       "      <td>04/27/2020</td>\n",
       "    </tr>\n",
       "  </tbody>\n",
       "</table>\n",
       "</div>"
      ],
      "text/plain": [
       "       Id UserId FollowingUserId CreationDate\n",
       "0      64    368             993   05/23/2017\n",
       "1  122289    368           67483   08/07/2018\n",
       "2  323230    368         1663522   09/18/2019\n",
       "3  412502    368         1302389   03/08/2020\n",
       "4  447841    368          391404   04/27/2020"
      ]
     },
     "execution_count": 27,
     "metadata": {},
     "output_type": "execute_result"
    }
   ],
   "source": [
    "df_user_followers = pd.read_csv(r\"../data/raw/UserFollowers.csv\",dtype=str)\n",
    "df_user_followers.head()"
   ]
  },
  {
   "cell_type": "markdown",
   "metadata": {},
   "source": [
    "* UserId = Seguidor\n",
    "* FollowingUserId = Usuario Principal"
   ]
  },
  {
   "cell_type": "code",
   "execution_count": 28,
   "metadata": {},
   "outputs": [
    {
     "data": {
      "text/html": [
       "<div>\n",
       "<style scoped>\n",
       "    .dataframe tbody tr th:only-of-type {\n",
       "        vertical-align: middle;\n",
       "    }\n",
       "\n",
       "    .dataframe tbody tr th {\n",
       "        vertical-align: top;\n",
       "    }\n",
       "\n",
       "    .dataframe thead th {\n",
       "        text-align: right;\n",
       "    }\n",
       "</style>\n",
       "<table border=\"1\" class=\"dataframe\">\n",
       "  <thead>\n",
       "    <tr style=\"text-align: right;\">\n",
       "      <th></th>\n",
       "      <th>FollowerUserId</th>\n",
       "      <th>UserId</th>\n",
       "    </tr>\n",
       "  </thead>\n",
       "  <tbody>\n",
       "    <tr>\n",
       "      <th>0</th>\n",
       "      <td>368</td>\n",
       "      <td>993</td>\n",
       "    </tr>\n",
       "    <tr>\n",
       "      <th>1</th>\n",
       "      <td>368</td>\n",
       "      <td>67483</td>\n",
       "    </tr>\n",
       "    <tr>\n",
       "      <th>2</th>\n",
       "      <td>368</td>\n",
       "      <td>1663522</td>\n",
       "    </tr>\n",
       "    <tr>\n",
       "      <th>3</th>\n",
       "      <td>368</td>\n",
       "      <td>1302389</td>\n",
       "    </tr>\n",
       "    <tr>\n",
       "      <th>4</th>\n",
       "      <td>368</td>\n",
       "      <td>391404</td>\n",
       "    </tr>\n",
       "  </tbody>\n",
       "</table>\n",
       "</div>"
      ],
      "text/plain": [
       "  FollowerUserId   UserId\n",
       "0            368      993\n",
       "1            368    67483\n",
       "2            368  1663522\n",
       "3            368  1302389\n",
       "4            368   391404"
      ]
     },
     "execution_count": 28,
     "metadata": {},
     "output_type": "execute_result"
    }
   ],
   "source": [
    "df_user_followers = df_user_followers[[\"UserId\",\"FollowingUserId\"]]\n",
    "df_user_followers.rename(columns = {'UserId':'FollowerUserId','FollowingUserId':'UserId'}, inplace = True)\n",
    "df_user_followers.head()"
   ]
  },
  {
   "cell_type": "code",
   "execution_count": 29,
   "metadata": {},
   "outputs": [
    {
     "name": "stdout",
     "output_type": "stream",
     "text": [
      "(967118, 2)\n",
      "(10087383, 5)\n"
     ]
    }
   ],
   "source": [
    "print(df_user_followers.shape)\n",
    "print(df_users_i.shape)"
   ]
  },
  {
   "cell_type": "code",
   "execution_count": 30,
   "metadata": {},
   "outputs": [
    {
     "name": "stdout",
     "output_type": "stream",
     "text": [
      "(927918, 6)\n"
     ]
    }
   ],
   "source": [
    "int_df_user_followers = pd.merge(df_users_i, df_user_followers, how='inner', on=['UserId'])\n",
    "print(int_df_user_followers.shape)"
   ]
  },
  {
   "cell_type": "code",
   "execution_count": 31,
   "metadata": {},
   "outputs": [],
   "source": [
    "df_user_followers_i = int_df_user_followers[[\"UserId\",\"FollowerUserId\"]]\n",
    "df_user_followers_i.to_csv(r\"../data/interim/UserFollowers.csv\",index=False)\n",
    "#df_user_followers.to_csv(r\"../data/interim/UserFollowers.csv\",index=False)"
   ]
  },
  {
   "cell_type": "markdown",
   "metadata": {},
   "source": [
    "## User Achievements"
   ]
  },
  {
   "cell_type": "code",
   "execution_count": 32,
   "metadata": {},
   "outputs": [],
   "source": [
    "df_users_i = pd.read_csv(r\"../data/interim/Users.csv\",dtype=str)"
   ]
  },
  {
   "cell_type": "code",
   "execution_count": 33,
   "metadata": {},
   "outputs": [
    {
     "data": {
      "text/html": [
       "<div>\n",
       "<style scoped>\n",
       "    .dataframe tbody tr th:only-of-type {\n",
       "        vertical-align: middle;\n",
       "    }\n",
       "\n",
       "    .dataframe tbody tr th {\n",
       "        vertical-align: top;\n",
       "    }\n",
       "\n",
       "    .dataframe thead th {\n",
       "        text-align: right;\n",
       "    }\n",
       "</style>\n",
       "<table border=\"1\" class=\"dataframe\">\n",
       "  <thead>\n",
       "    <tr style=\"text-align: right;\">\n",
       "      <th></th>\n",
       "      <th>Id</th>\n",
       "      <th>UserId</th>\n",
       "      <th>AchievementType</th>\n",
       "      <th>Tier</th>\n",
       "      <th>TierAchievementDate</th>\n",
       "      <th>Points</th>\n",
       "      <th>CurrentRanking</th>\n",
       "      <th>HighestRanking</th>\n",
       "      <th>TotalGold</th>\n",
       "      <th>TotalSilver</th>\n",
       "      <th>TotalBronze</th>\n",
       "    </tr>\n",
       "  </thead>\n",
       "  <tbody>\n",
       "    <tr>\n",
       "      <th>0</th>\n",
       "      <td>3739822</td>\n",
       "      <td>1</td>\n",
       "      <td>Discussion</td>\n",
       "      <td>1</td>\n",
       "      <td>11/06/2019</td>\n",
       "      <td>0</td>\n",
       "      <td>NaN</td>\n",
       "      <td>3</td>\n",
       "      <td>0</td>\n",
       "      <td>0</td>\n",
       "      <td>14</td>\n",
       "    </tr>\n",
       "    <tr>\n",
       "      <th>1</th>\n",
       "      <td>3916402</td>\n",
       "      <td>1</td>\n",
       "      <td>Competitions</td>\n",
       "      <td>1</td>\n",
       "      <td>11/06/2019</td>\n",
       "      <td>0</td>\n",
       "      <td>NaN</td>\n",
       "      <td>NaN</td>\n",
       "      <td>0</td>\n",
       "      <td>0</td>\n",
       "      <td>0</td>\n",
       "    </tr>\n",
       "    <tr>\n",
       "      <th>2</th>\n",
       "      <td>3739823</td>\n",
       "      <td>368</td>\n",
       "      <td>Competitions</td>\n",
       "      <td>1</td>\n",
       "      <td>07/15/2016</td>\n",
       "      <td>232</td>\n",
       "      <td>NaN</td>\n",
       "      <td>75</td>\n",
       "      <td>0</td>\n",
       "      <td>0</td>\n",
       "      <td>0</td>\n",
       "    </tr>\n",
       "    <tr>\n",
       "      <th>3</th>\n",
       "      <td>3739824</td>\n",
       "      <td>368</td>\n",
       "      <td>Scripts</td>\n",
       "      <td>2</td>\n",
       "      <td>09/21/2016</td>\n",
       "      <td>41</td>\n",
       "      <td>2054</td>\n",
       "      <td>2005</td>\n",
       "      <td>0</td>\n",
       "      <td>3</td>\n",
       "      <td>13</td>\n",
       "    </tr>\n",
       "    <tr>\n",
       "      <th>4</th>\n",
       "      <td>3739825</td>\n",
       "      <td>368</td>\n",
       "      <td>Discussion</td>\n",
       "      <td>2</td>\n",
       "      <td>08/30/2016</td>\n",
       "      <td>218</td>\n",
       "      <td>337</td>\n",
       "      <td>337</td>\n",
       "      <td>14</td>\n",
       "      <td>13</td>\n",
       "      <td>139</td>\n",
       "    </tr>\n",
       "  </tbody>\n",
       "</table>\n",
       "</div>"
      ],
      "text/plain": [
       "        Id UserId AchievementType Tier TierAchievementDate Points  \\\n",
       "0  3739822      1      Discussion    1          11/06/2019      0   \n",
       "1  3916402      1    Competitions    1          11/06/2019      0   \n",
       "2  3739823    368    Competitions    1          07/15/2016    232   \n",
       "3  3739824    368         Scripts    2          09/21/2016     41   \n",
       "4  3739825    368      Discussion    2          08/30/2016    218   \n",
       "\n",
       "  CurrentRanking HighestRanking TotalGold TotalSilver TotalBronze  \n",
       "0            NaN              3         0           0          14  \n",
       "1            NaN            NaN         0           0           0  \n",
       "2            NaN             75         0           0           0  \n",
       "3           2054           2005         0           3          13  \n",
       "4            337            337        14          13         139  "
      ]
     },
     "execution_count": 33,
     "metadata": {},
     "output_type": "execute_result"
    }
   ],
   "source": [
    "df_user_achievements = pd.read_csv(r\"../data/raw/UserAchievements.csv\",dtype=str)\n",
    "df_user_achievements.head()"
   ]
  },
  {
   "cell_type": "code",
   "execution_count": 34,
   "metadata": {},
   "outputs": [
    {
     "data": {
      "text/html": [
       "<div>\n",
       "<style scoped>\n",
       "    .dataframe tbody tr th:only-of-type {\n",
       "        vertical-align: middle;\n",
       "    }\n",
       "\n",
       "    .dataframe tbody tr th {\n",
       "        vertical-align: top;\n",
       "    }\n",
       "\n",
       "    .dataframe thead th {\n",
       "        text-align: right;\n",
       "    }\n",
       "</style>\n",
       "<table border=\"1\" class=\"dataframe\">\n",
       "  <thead>\n",
       "    <tr style=\"text-align: right;\">\n",
       "      <th></th>\n",
       "      <th>Id</th>\n",
       "      <th>UserId</th>\n",
       "      <th>AchievementType</th>\n",
       "      <th>Tier</th>\n",
       "      <th>TierAchievementDate</th>\n",
       "      <th>Points</th>\n",
       "      <th>CurrentRanking</th>\n",
       "      <th>HighestRanking</th>\n",
       "      <th>TotalGold</th>\n",
       "      <th>TotalSilver</th>\n",
       "      <th>TotalBronze</th>\n",
       "    </tr>\n",
       "  </thead>\n",
       "  <tbody>\n",
       "    <tr>\n",
       "      <th>2</th>\n",
       "      <td>3739823</td>\n",
       "      <td>368</td>\n",
       "      <td>Competitions</td>\n",
       "      <td>1</td>\n",
       "      <td>07/15/2016</td>\n",
       "      <td>232</td>\n",
       "      <td>NaN</td>\n",
       "      <td>75</td>\n",
       "      <td>0</td>\n",
       "      <td>0</td>\n",
       "      <td>0</td>\n",
       "    </tr>\n",
       "    <tr>\n",
       "      <th>3</th>\n",
       "      <td>3739824</td>\n",
       "      <td>368</td>\n",
       "      <td>Scripts</td>\n",
       "      <td>2</td>\n",
       "      <td>09/21/2016</td>\n",
       "      <td>41</td>\n",
       "      <td>2054</td>\n",
       "      <td>2005</td>\n",
       "      <td>0</td>\n",
       "      <td>3</td>\n",
       "      <td>13</td>\n",
       "    </tr>\n",
       "    <tr>\n",
       "      <th>4</th>\n",
       "      <td>3739825</td>\n",
       "      <td>368</td>\n",
       "      <td>Discussion</td>\n",
       "      <td>2</td>\n",
       "      <td>08/30/2016</td>\n",
       "      <td>218</td>\n",
       "      <td>337</td>\n",
       "      <td>337</td>\n",
       "      <td>14</td>\n",
       "      <td>13</td>\n",
       "      <td>139</td>\n",
       "    </tr>\n",
       "    <tr>\n",
       "      <th>10942060</th>\n",
       "      <td>122435030</td>\n",
       "      <td>368</td>\n",
       "      <td>Datasets</td>\n",
       "      <td>2</td>\n",
       "      <td>11/06/2019</td>\n",
       "      <td>79</td>\n",
       "      <td>171</td>\n",
       "      <td>161</td>\n",
       "      <td>1</td>\n",
       "      <td>3</td>\n",
       "      <td>6</td>\n",
       "    </tr>\n",
       "  </tbody>\n",
       "</table>\n",
       "</div>"
      ],
      "text/plain": [
       "                 Id UserId AchievementType Tier TierAchievementDate Points  \\\n",
       "2           3739823    368    Competitions    1          07/15/2016    232   \n",
       "3           3739824    368         Scripts    2          09/21/2016     41   \n",
       "4           3739825    368      Discussion    2          08/30/2016    218   \n",
       "10942060  122435030    368        Datasets    2          11/06/2019     79   \n",
       "\n",
       "         CurrentRanking HighestRanking TotalGold TotalSilver TotalBronze  \n",
       "2                   NaN             75         0           0           0  \n",
       "3                  2054           2005         0           3          13  \n",
       "4                   337            337        14          13         139  \n",
       "10942060            171            161         1           3           6  "
      ]
     },
     "execution_count": 34,
     "metadata": {},
     "output_type": "execute_result"
    }
   ],
   "source": [
    "df_user_achievements[df_user_achievements[\"UserId\"]==\"368\"]"
   ]
  },
  {
   "cell_type": "code",
   "execution_count": 35,
   "metadata": {},
   "outputs": [
    {
     "data": {
      "text/html": [
       "<div>\n",
       "<style scoped>\n",
       "    .dataframe tbody tr th:only-of-type {\n",
       "        vertical-align: middle;\n",
       "    }\n",
       "\n",
       "    .dataframe tbody tr th {\n",
       "        vertical-align: top;\n",
       "    }\n",
       "\n",
       "    .dataframe thead th {\n",
       "        text-align: right;\n",
       "    }\n",
       "</style>\n",
       "<table border=\"1\" class=\"dataframe\">\n",
       "  <thead>\n",
       "    <tr style=\"text-align: right;\">\n",
       "      <th></th>\n",
       "      <th>UserId</th>\n",
       "      <th>AchievementType</th>\n",
       "      <th>Points</th>\n",
       "      <th>TotalGold</th>\n",
       "      <th>TotalSilver</th>\n",
       "      <th>TotalBronze</th>\n",
       "    </tr>\n",
       "  </thead>\n",
       "  <tbody>\n",
       "    <tr>\n",
       "      <th>0</th>\n",
       "      <td>1</td>\n",
       "      <td>Discussion</td>\n",
       "      <td>0</td>\n",
       "      <td>0</td>\n",
       "      <td>0</td>\n",
       "      <td>14</td>\n",
       "    </tr>\n",
       "    <tr>\n",
       "      <th>1</th>\n",
       "      <td>1</td>\n",
       "      <td>Competitions</td>\n",
       "      <td>0</td>\n",
       "      <td>0</td>\n",
       "      <td>0</td>\n",
       "      <td>0</td>\n",
       "    </tr>\n",
       "    <tr>\n",
       "      <th>2</th>\n",
       "      <td>368</td>\n",
       "      <td>Competitions</td>\n",
       "      <td>232</td>\n",
       "      <td>0</td>\n",
       "      <td>0</td>\n",
       "      <td>0</td>\n",
       "    </tr>\n",
       "    <tr>\n",
       "      <th>3</th>\n",
       "      <td>368</td>\n",
       "      <td>Scripts</td>\n",
       "      <td>41</td>\n",
       "      <td>0</td>\n",
       "      <td>3</td>\n",
       "      <td>13</td>\n",
       "    </tr>\n",
       "    <tr>\n",
       "      <th>4</th>\n",
       "      <td>368</td>\n",
       "      <td>Discussion</td>\n",
       "      <td>218</td>\n",
       "      <td>14</td>\n",
       "      <td>13</td>\n",
       "      <td>139</td>\n",
       "    </tr>\n",
       "  </tbody>\n",
       "</table>\n",
       "</div>"
      ],
      "text/plain": [
       "  UserId AchievementType Points TotalGold TotalSilver TotalBronze\n",
       "0      1      Discussion      0         0           0          14\n",
       "1      1    Competitions      0         0           0           0\n",
       "2    368    Competitions    232         0           0           0\n",
       "3    368         Scripts     41         0           3          13\n",
       "4    368      Discussion    218        14          13         139"
      ]
     },
     "execution_count": 35,
     "metadata": {},
     "output_type": "execute_result"
    }
   ],
   "source": [
    "df_user_achievements = df_user_achievements[[\"UserId\",\"AchievementType\",\"Points\",\"TotalGold\",\"TotalSilver\",\"TotalBronze\"]]\n",
    "df_user_achievements.head()"
   ]
  },
  {
   "cell_type": "code",
   "execution_count": 36,
   "metadata": {
    "scrolled": true
   },
   "outputs": [
    {
     "ename": "MemoryError",
     "evalue": "",
     "output_type": "error",
     "traceback": [
      "\u001b[1;31m---------------------------------------------------------------------------\u001b[0m",
      "\u001b[1;31mMemoryError\u001b[0m                               Traceback (most recent call last)",
      "\u001b[1;32m<ipython-input-36-6ff5645d0136>\u001b[0m in \u001b[0;36m<module>\u001b[1;34m\u001b[0m\n\u001b[1;32m----> 1\u001b[1;33m \u001b[0mint_df_user_achievements\u001b[0m \u001b[1;33m=\u001b[0m \u001b[0mpd\u001b[0m\u001b[1;33m.\u001b[0m\u001b[0mmerge\u001b[0m\u001b[1;33m(\u001b[0m\u001b[0mdf_users_i\u001b[0m\u001b[1;33m,\u001b[0m \u001b[0mdf_user_achievements\u001b[0m\u001b[1;33m,\u001b[0m \u001b[0mhow\u001b[0m\u001b[1;33m=\u001b[0m\u001b[1;34m'inner'\u001b[0m\u001b[1;33m,\u001b[0m \u001b[0mon\u001b[0m\u001b[1;33m=\u001b[0m\u001b[1;33m[\u001b[0m\u001b[1;34m'UserId'\u001b[0m\u001b[1;33m]\u001b[0m\u001b[1;33m)\u001b[0m\u001b[1;33m\u001b[0m\u001b[1;33m\u001b[0m\u001b[0m\n\u001b[0m\u001b[0;32m      2\u001b[0m \u001b[0mprint\u001b[0m\u001b[1;33m(\u001b[0m\u001b[0mint_df_user_achievements\u001b[0m\u001b[1;33m.\u001b[0m\u001b[0mshape\u001b[0m\u001b[1;33m)\u001b[0m\u001b[1;33m\u001b[0m\u001b[1;33m\u001b[0m\u001b[0m\n",
      "\u001b[1;32m~\\Anaconda3\\lib\\site-packages\\pandas\\core\\reshape\\merge.py\u001b[0m in \u001b[0;36mmerge\u001b[1;34m(left, right, how, on, left_on, right_on, left_index, right_index, sort, suffixes, copy, indicator, validate)\u001b[0m\n\u001b[0;32m     46\u001b[0m                          \u001b[0mcopy\u001b[0m\u001b[1;33m=\u001b[0m\u001b[0mcopy\u001b[0m\u001b[1;33m,\u001b[0m \u001b[0mindicator\u001b[0m\u001b[1;33m=\u001b[0m\u001b[0mindicator\u001b[0m\u001b[1;33m,\u001b[0m\u001b[1;33m\u001b[0m\u001b[1;33m\u001b[0m\u001b[0m\n\u001b[0;32m     47\u001b[0m                          validate=validate)\n\u001b[1;32m---> 48\u001b[1;33m     \u001b[1;32mreturn\u001b[0m \u001b[0mop\u001b[0m\u001b[1;33m.\u001b[0m\u001b[0mget_result\u001b[0m\u001b[1;33m(\u001b[0m\u001b[1;33m)\u001b[0m\u001b[1;33m\u001b[0m\u001b[1;33m\u001b[0m\u001b[0m\n\u001b[0m\u001b[0;32m     49\u001b[0m \u001b[1;33m\u001b[0m\u001b[0m\n\u001b[0;32m     50\u001b[0m \u001b[1;33m\u001b[0m\u001b[0m\n",
      "\u001b[1;32m~\\Anaconda3\\lib\\site-packages\\pandas\\core\\reshape\\merge.py\u001b[0m in \u001b[0;36mget_result\u001b[1;34m(self)\u001b[0m\n\u001b[0;32m    558\u001b[0m             \u001b[1;33m[\u001b[0m\u001b[1;33m(\u001b[0m\u001b[0mldata\u001b[0m\u001b[1;33m,\u001b[0m \u001b[0mlindexers\u001b[0m\u001b[1;33m)\u001b[0m\u001b[1;33m,\u001b[0m \u001b[1;33m(\u001b[0m\u001b[0mrdata\u001b[0m\u001b[1;33m,\u001b[0m \u001b[0mrindexers\u001b[0m\u001b[1;33m)\u001b[0m\u001b[1;33m]\u001b[0m\u001b[1;33m,\u001b[0m\u001b[1;33m\u001b[0m\u001b[1;33m\u001b[0m\u001b[0m\n\u001b[0;32m    559\u001b[0m             \u001b[0maxes\u001b[0m\u001b[1;33m=\u001b[0m\u001b[1;33m[\u001b[0m\u001b[0mllabels\u001b[0m\u001b[1;33m.\u001b[0m\u001b[0mappend\u001b[0m\u001b[1;33m(\u001b[0m\u001b[0mrlabels\u001b[0m\u001b[1;33m)\u001b[0m\u001b[1;33m,\u001b[0m \u001b[0mjoin_index\u001b[0m\u001b[1;33m]\u001b[0m\u001b[1;33m,\u001b[0m\u001b[1;33m\u001b[0m\u001b[1;33m\u001b[0m\u001b[0m\n\u001b[1;32m--> 560\u001b[1;33m             concat_axis=0, copy=self.copy)\n\u001b[0m\u001b[0;32m    561\u001b[0m \u001b[1;33m\u001b[0m\u001b[0m\n\u001b[0;32m    562\u001b[0m         \u001b[0mtyp\u001b[0m \u001b[1;33m=\u001b[0m \u001b[0mself\u001b[0m\u001b[1;33m.\u001b[0m\u001b[0mleft\u001b[0m\u001b[1;33m.\u001b[0m\u001b[0m_constructor\u001b[0m\u001b[1;33m\u001b[0m\u001b[1;33m\u001b[0m\u001b[0m\n",
      "\u001b[1;32m~\\Anaconda3\\lib\\site-packages\\pandas\\core\\internals\\managers.py\u001b[0m in \u001b[0;36mconcatenate_block_managers\u001b[1;34m(mgrs_indexers, axes, concat_axis, copy)\u001b[0m\n\u001b[0;32m   2059\u001b[0m         \u001b[1;32melse\u001b[0m\u001b[1;33m:\u001b[0m\u001b[1;33m\u001b[0m\u001b[1;33m\u001b[0m\u001b[0m\n\u001b[0;32m   2060\u001b[0m             b = make_block(\n\u001b[1;32m-> 2061\u001b[1;33m                 \u001b[0mconcatenate_join_units\u001b[0m\u001b[1;33m(\u001b[0m\u001b[0mjoin_units\u001b[0m\u001b[1;33m,\u001b[0m \u001b[0mconcat_axis\u001b[0m\u001b[1;33m,\u001b[0m \u001b[0mcopy\u001b[0m\u001b[1;33m=\u001b[0m\u001b[0mcopy\u001b[0m\u001b[1;33m)\u001b[0m\u001b[1;33m,\u001b[0m\u001b[1;33m\u001b[0m\u001b[1;33m\u001b[0m\u001b[0m\n\u001b[0m\u001b[0;32m   2062\u001b[0m                 placement=placement)\n\u001b[0;32m   2063\u001b[0m         \u001b[0mblocks\u001b[0m\u001b[1;33m.\u001b[0m\u001b[0mappend\u001b[0m\u001b[1;33m(\u001b[0m\u001b[0mb\u001b[0m\u001b[1;33m)\u001b[0m\u001b[1;33m\u001b[0m\u001b[1;33m\u001b[0m\u001b[0m\n",
      "\u001b[1;32m~\\Anaconda3\\lib\\site-packages\\pandas\\core\\internals\\concat.py\u001b[0m in \u001b[0;36mconcatenate_join_units\u001b[1;34m(join_units, concat_axis, copy)\u001b[0m\n\u001b[0;32m    240\u001b[0m     to_concat = [ju.get_reindexed_values(empty_dtype=empty_dtype,\n\u001b[0;32m    241\u001b[0m                                          upcasted_na=upcasted_na)\n\u001b[1;32m--> 242\u001b[1;33m                  for ju in join_units]\n\u001b[0m\u001b[0;32m    243\u001b[0m \u001b[1;33m\u001b[0m\u001b[0m\n\u001b[0;32m    244\u001b[0m     \u001b[1;32mif\u001b[0m \u001b[0mlen\u001b[0m\u001b[1;33m(\u001b[0m\u001b[0mto_concat\u001b[0m\u001b[1;33m)\u001b[0m \u001b[1;33m==\u001b[0m \u001b[1;36m1\u001b[0m\u001b[1;33m:\u001b[0m\u001b[1;33m\u001b[0m\u001b[1;33m\u001b[0m\u001b[0m\n",
      "\u001b[1;32m~\\Anaconda3\\lib\\site-packages\\pandas\\core\\internals\\concat.py\u001b[0m in \u001b[0;36m<listcomp>\u001b[1;34m(.0)\u001b[0m\n\u001b[0;32m    240\u001b[0m     to_concat = [ju.get_reindexed_values(empty_dtype=empty_dtype,\n\u001b[0;32m    241\u001b[0m                                          upcasted_na=upcasted_na)\n\u001b[1;32m--> 242\u001b[1;33m                  for ju in join_units]\n\u001b[0m\u001b[0;32m    243\u001b[0m \u001b[1;33m\u001b[0m\u001b[0m\n\u001b[0;32m    244\u001b[0m     \u001b[1;32mif\u001b[0m \u001b[0mlen\u001b[0m\u001b[1;33m(\u001b[0m\u001b[0mto_concat\u001b[0m\u001b[1;33m)\u001b[0m \u001b[1;33m==\u001b[0m \u001b[1;36m1\u001b[0m\u001b[1;33m:\u001b[0m\u001b[1;33m\u001b[0m\u001b[1;33m\u001b[0m\u001b[0m\n",
      "\u001b[1;32m~\\Anaconda3\\lib\\site-packages\\pandas\\core\\internals\\concat.py\u001b[0m in \u001b[0;36mget_reindexed_values\u001b[1;34m(self, empty_dtype, upcasted_na)\u001b[0m\n\u001b[0;32m    223\u001b[0m             \u001b[1;32mfor\u001b[0m \u001b[0max\u001b[0m\u001b[1;33m,\u001b[0m \u001b[0mindexer\u001b[0m \u001b[1;32min\u001b[0m \u001b[0mself\u001b[0m\u001b[1;33m.\u001b[0m\u001b[0mindexers\u001b[0m\u001b[1;33m.\u001b[0m\u001b[0mitems\u001b[0m\u001b[1;33m(\u001b[0m\u001b[1;33m)\u001b[0m\u001b[1;33m:\u001b[0m\u001b[1;33m\u001b[0m\u001b[1;33m\u001b[0m\u001b[0m\n\u001b[0;32m    224\u001b[0m                 values = algos.take_nd(values, indexer, axis=ax,\n\u001b[1;32m--> 225\u001b[1;33m                                        fill_value=fill_value)\n\u001b[0m\u001b[0;32m    226\u001b[0m \u001b[1;33m\u001b[0m\u001b[0m\n\u001b[0;32m    227\u001b[0m         \u001b[1;32mreturn\u001b[0m \u001b[0mvalues\u001b[0m\u001b[1;33m\u001b[0m\u001b[1;33m\u001b[0m\u001b[0m\n",
      "\u001b[1;32m~\\Anaconda3\\lib\\site-packages\\pandas\\core\\algorithms.py\u001b[0m in \u001b[0;36mtake_nd\u001b[1;34m(arr, indexer, axis, out, fill_value, mask_info, allow_fill)\u001b[0m\n\u001b[0;32m   1649\u001b[0m             \u001b[0mout\u001b[0m \u001b[1;33m=\u001b[0m \u001b[0mnp\u001b[0m\u001b[1;33m.\u001b[0m\u001b[0mempty\u001b[0m\u001b[1;33m(\u001b[0m\u001b[0mout_shape\u001b[0m\u001b[1;33m,\u001b[0m \u001b[0mdtype\u001b[0m\u001b[1;33m=\u001b[0m\u001b[0mdtype\u001b[0m\u001b[1;33m,\u001b[0m \u001b[0morder\u001b[0m\u001b[1;33m=\u001b[0m\u001b[1;34m'F'\u001b[0m\u001b[1;33m)\u001b[0m\u001b[1;33m\u001b[0m\u001b[1;33m\u001b[0m\u001b[0m\n\u001b[0;32m   1650\u001b[0m         \u001b[1;32melse\u001b[0m\u001b[1;33m:\u001b[0m\u001b[1;33m\u001b[0m\u001b[1;33m\u001b[0m\u001b[0m\n\u001b[1;32m-> 1651\u001b[1;33m             \u001b[0mout\u001b[0m \u001b[1;33m=\u001b[0m \u001b[0mnp\u001b[0m\u001b[1;33m.\u001b[0m\u001b[0mempty\u001b[0m\u001b[1;33m(\u001b[0m\u001b[0mout_shape\u001b[0m\u001b[1;33m,\u001b[0m \u001b[0mdtype\u001b[0m\u001b[1;33m=\u001b[0m\u001b[0mdtype\u001b[0m\u001b[1;33m)\u001b[0m\u001b[1;33m\u001b[0m\u001b[1;33m\u001b[0m\u001b[0m\n\u001b[0m\u001b[0;32m   1652\u001b[0m \u001b[1;33m\u001b[0m\u001b[0m\n\u001b[0;32m   1653\u001b[0m     func = _get_take_nd_function(arr.ndim, arr.dtype, out.dtype, axis=axis,\n",
      "\u001b[1;31mMemoryError\u001b[0m: "
     ]
    }
   ],
   "source": [
    "int_df_user_achievements = pd.merge(df_users_i, df_user_achievements, how='inner', on=['UserId'])\n",
    "print(int_df_user_achievements.shape)"
   ]
  },
  {
   "cell_type": "code",
   "execution_count": null,
   "metadata": {},
   "outputs": [],
   "source": [
    "df_user_achievements_i = int_df_user_achievements[[\"UserId\",\"AchievementType\",\"Points\",\"TotalGold\",\"TotalSilver\",\"TotalBronze\"]]"
   ]
  },
  {
   "cell_type": "code",
   "execution_count": null,
   "metadata": {},
   "outputs": [],
   "source": [
    "df_user_achievements_i[\"AchievementType\"].unique()"
   ]
  },
  {
   "cell_type": "code",
   "execution_count": null,
   "metadata": {},
   "outputs": [],
   "source": [
    "print(df_user_achievements_i.shape)"
   ]
  },
  {
   "cell_type": "code",
   "execution_count": null,
   "metadata": {},
   "outputs": [],
   "source": [
    "df_user_achievements_i[\"Points\"] = df_user_achievements_i[\"Points\"].astype(float)\n",
    "df_user_achievements_i[\"TotalGold\"] = df_user_achievements_i[\"TotalGold\"].astype(float)\n",
    "df_user_achievements_i[\"TotalSilver\"] = df_user_achievements_i[\"TotalSilver\"].astype(float)\n",
    "df_user_achievements_i[\"TotalBronze\"] = df_user_achievements_i[\"TotalBronze\"].astype(float)\n",
    "\n",
    "df_ach_comp = df_user_achievements_i[df_user_achievements_i[\"AchievementType\"]==\"Competitions\"]\n",
    "df_ach_scri = df_user_achievements_i[df_user_achievements_i[\"AchievementType\"]==\"Scripts\"]\n",
    "df_ach_disc = df_user_achievements_i[df_user_achievements_i[\"AchievementType\"]==\"Discussion\"]\n",
    "df_ach_data = df_user_achievements_i[df_user_achievements_i[\"AchievementType\"]==\"Datasets\"]\n",
    "\n",
    "df_ach_comp.drop(['AchievementType'], axis=1,inplace=True)\n",
    "df_ach_scri.drop(['AchievementType'], axis=1,inplace=True)\n",
    "df_ach_disc.drop(['AchievementType'], axis=1,inplace=True)\n",
    "df_ach_data.drop(['AchievementType'], axis=1,inplace=True)\n",
    "\n",
    "df_ach_comp.rename(columns = {'TotalGold':'TotalGold_Comp','TotalSilver':'TotalSilver_Comp','TotalBronze':'TotalBronze_Comp','Points':'Points_Comp'}, inplace = True)\n",
    "df_ach_scri.rename(columns = {'TotalGold':'TotalGold_Scri','TotalSilver':'TotalSilver_Scri','TotalBronze':'TotalBronze_Scri','Points':'Points_Scri'}, inplace = True)\n",
    "df_ach_disc.rename(columns = {'TotalGold':'TotalGold_Disc','TotalSilver':'TotalSilver_Disc','TotalBronze':'TotalBronze_Disc','Points':'Points_Disc'}, inplace = True)\n",
    "df_ach_data.rename(columns = {'TotalGold':'TotalGold_Data','TotalSilver':'TotalSilver_Data','TotalBronze':'TotalBronze_Data','Points':'Points_Data'}, inplace = True)\n",
    "\n",
    "print(df_ach_comp.shape)\n",
    "print(df_ach_scri.shape)\n",
    "print(df_ach_disc.shape)\n",
    "print(df_ach_data.shape)"
   ]
  },
  {
   "cell_type": "code",
   "execution_count": null,
   "metadata": {},
   "outputs": [],
   "source": [
    "df_ach_fin = df_ach_comp.merge(df_ach_scri,how ='left',on=\"UserId\").merge(df_ach_disc,how ='left',on=\"UserId\").merge(df_ach_data,how ='left',on=\"UserId\")\n",
    "df_ach_fin.shape"
   ]
  },
  {
   "cell_type": "code",
   "execution_count": null,
   "metadata": {},
   "outputs": [],
   "source": [
    "Validator.validar_numerico(df_ach_fin,[\"Points_Comp\",\"Points_Scri\",\"Points_Disc\",\"Points_Data\",\n",
    "                                       \"TotalGold_Comp\",\"TotalGold_Scri\",\"TotalGold_Disc\",\"TotalGold_Data\",\n",
    "                                       \"TotalSilver_Comp\",\"TotalSilver_Scri\",\"TotalSilver_Disc\",\"TotalSilver_Data\",\n",
    "                                       \"TotalBronze_Comp\",\"TotalBronze_Scri\",\"TotalBronze_Disc\",\"TotalBronze_Data\"\n",
    "                                    ])"
   ]
  },
  {
   "cell_type": "code",
   "execution_count": null,
   "metadata": {},
   "outputs": [],
   "source": [
    "df_ach_fin[df_ach_fin[\"TotalGold_Disc\"]==436]"
   ]
  },
  {
   "cell_type": "code",
   "execution_count": null,
   "metadata": {},
   "outputs": [],
   "source": [
    "df_user_achievements[df_user_achievements[\"UserId\"]==\"75976\"]"
   ]
  },
  {
   "cell_type": "code",
   "execution_count": null,
   "metadata": {},
   "outputs": [],
   "source": [
    "df_users_i[df_users_i[\"UserId\"] == \"75976\"]"
   ]
  },
  {
   "cell_type": "code",
   "execution_count": null,
   "metadata": {},
   "outputs": [],
   "source": [
    "del df_ach_comp,df_ach_scri,df_ach_disc,df_ach_data,df_user_achievements_i,int_df_user_achievements,df_user_achievements,df_users_i"
   ]
  },
  {
   "cell_type": "code",
   "execution_count": null,
   "metadata": {},
   "outputs": [],
   "source": [
    "df_ach_fin.to_csv(r\"../data/interim/UserAchievements.csv\",index=False)"
   ]
  },
  {
   "cell_type": "code",
   "execution_count": null,
   "metadata": {},
   "outputs": [],
   "source": [
    "del df_ach_fin"
   ]
  },
  {
   "cell_type": "markdown",
   "metadata": {},
   "source": [
    "## Competitions"
   ]
  },
  {
   "cell_type": "code",
   "execution_count": 37,
   "metadata": {},
   "outputs": [],
   "source": [
    "df_competitions = pd.read_csv(r\"../data/raw/Competitions.csv\",dtype=str)"
   ]
  },
  {
   "cell_type": "code",
   "execution_count": 38,
   "metadata": {},
   "outputs": [
    {
     "data": {
      "text/html": [
       "<div>\n",
       "<style scoped>\n",
       "    .dataframe tbody tr th:only-of-type {\n",
       "        vertical-align: middle;\n",
       "    }\n",
       "\n",
       "    .dataframe tbody tr th {\n",
       "        vertical-align: top;\n",
       "    }\n",
       "\n",
       "    .dataframe thead th {\n",
       "        text-align: right;\n",
       "    }\n",
       "</style>\n",
       "<table border=\"1\" class=\"dataframe\">\n",
       "  <thead>\n",
       "    <tr style=\"text-align: right;\">\n",
       "      <th></th>\n",
       "      <th>Id</th>\n",
       "      <th>Slug</th>\n",
       "      <th>Title</th>\n",
       "      <th>Subtitle</th>\n",
       "      <th>HostSegmentTitle</th>\n",
       "      <th>ForumId</th>\n",
       "      <th>OrganizationId</th>\n",
       "      <th>CompetitionTypeId</th>\n",
       "      <th>HostName</th>\n",
       "      <th>EnabledDate</th>\n",
       "      <th>DeadlineDate</th>\n",
       "      <th>ProhibitNewEntrantsDeadlineDate</th>\n",
       "      <th>TeamMergerDeadlineDate</th>\n",
       "      <th>TeamModelDeadlineDate</th>\n",
       "      <th>ModelSubmissionDeadlineDate</th>\n",
       "      <th>FinalLeaderboardHasBeenVerified</th>\n",
       "      <th>HasKernels</th>\n",
       "      <th>OnlyAllowKernelSubmissions</th>\n",
       "      <th>HasLeaderboard</th>\n",
       "      <th>LeaderboardPercentage</th>\n",
       "      <th>LeaderboardDisplayFormat</th>\n",
       "      <th>EvaluationAlgorithmAbbreviation</th>\n",
       "      <th>EvaluationAlgorithmName</th>\n",
       "      <th>EvaluationAlgorithmDescription</th>\n",
       "      <th>EvaluationAlgorithmIsMax</th>\n",
       "      <th>ValidationSetName</th>\n",
       "      <th>ValidationSetValue</th>\n",
       "      <th>MaxDailySubmissions</th>\n",
       "      <th>NumScoredSubmissions</th>\n",
       "      <th>MaxTeamSize</th>\n",
       "      <th>BanTeamMergers</th>\n",
       "      <th>EnableTeamModels</th>\n",
       "      <th>EnableSubmissionModelHashes</th>\n",
       "      <th>EnableSubmissionModelAttachments</th>\n",
       "      <th>RewardType</th>\n",
       "      <th>RewardQuantity</th>\n",
       "      <th>NumPrizes</th>\n",
       "      <th>UserRankMultiplier</th>\n",
       "      <th>CanQualifyTiers</th>\n",
       "      <th>TotalTeams</th>\n",
       "      <th>TotalCompetitors</th>\n",
       "      <th>TotalSubmissions</th>\n",
       "    </tr>\n",
       "  </thead>\n",
       "  <tbody>\n",
       "    <tr>\n",
       "      <th>0</th>\n",
       "      <td>2408</td>\n",
       "      <td>Eurovision2010</td>\n",
       "      <td>Forecast Eurovision Voting</td>\n",
       "      <td>This competition requires contestants to forec...</td>\n",
       "      <td>Featured</td>\n",
       "      <td>2</td>\n",
       "      <td>NaN</td>\n",
       "      <td>1</td>\n",
       "      <td>NaN</td>\n",
       "      <td>04/07/2010 07:57:43</td>\n",
       "      <td>05/25/2010 18:00:00</td>\n",
       "      <td>NaN</td>\n",
       "      <td>NaN</td>\n",
       "      <td>NaN</td>\n",
       "      <td>NaN</td>\n",
       "      <td>True</td>\n",
       "      <td>True</td>\n",
       "      <td>False</td>\n",
       "      <td>False</td>\n",
       "      <td>10</td>\n",
       "      <td>0.00000</td>\n",
       "      <td>AE</td>\n",
       "      <td>Absolute Error</td>\n",
       "      <td>Total sum of absolute value of each individual...</td>\n",
       "      <td>False</td>\n",
       "      <td>NaN</td>\n",
       "      <td>NaN</td>\n",
       "      <td>5</td>\n",
       "      <td>5</td>\n",
       "      <td>20</td>\n",
       "      <td>False</td>\n",
       "      <td>False</td>\n",
       "      <td>False</td>\n",
       "      <td>False</td>\n",
       "      <td>USD</td>\n",
       "      <td>1000.0000</td>\n",
       "      <td>1</td>\n",
       "      <td>1</td>\n",
       "      <td>False</td>\n",
       "      <td>22</td>\n",
       "      <td>25</td>\n",
       "      <td>22</td>\n",
       "    </tr>\n",
       "    <tr>\n",
       "      <th>1</th>\n",
       "      <td>2435</td>\n",
       "      <td>hivprogression</td>\n",
       "      <td>Predict HIV Progression</td>\n",
       "      <td>This contest requires competitors to predict t...</td>\n",
       "      <td>Featured</td>\n",
       "      <td>1</td>\n",
       "      <td>NaN</td>\n",
       "      <td>1</td>\n",
       "      <td>NaN</td>\n",
       "      <td>04/27/2010 21:29:09</td>\n",
       "      <td>08/02/2010 12:32:00</td>\n",
       "      <td>NaN</td>\n",
       "      <td>NaN</td>\n",
       "      <td>NaN</td>\n",
       "      <td>NaN</td>\n",
       "      <td>True</td>\n",
       "      <td>True</td>\n",
       "      <td>False</td>\n",
       "      <td>True</td>\n",
       "      <td>30</td>\n",
       "      <td>0.00000</td>\n",
       "      <td>MCE</td>\n",
       "      <td>Mean Consequential Error</td>\n",
       "      <td>Averages consequential error (i.e. if predicti...</td>\n",
       "      <td>True</td>\n",
       "      <td>Boolean</td>\n",
       "      <td>{0, 1}</td>\n",
       "      <td>4</td>\n",
       "      <td>4</td>\n",
       "      <td>20</td>\n",
       "      <td>False</td>\n",
       "      <td>False</td>\n",
       "      <td>False</td>\n",
       "      <td>False</td>\n",
       "      <td>USD</td>\n",
       "      <td>500.0000</td>\n",
       "      <td>1</td>\n",
       "      <td>1</td>\n",
       "      <td>True</td>\n",
       "      <td>107</td>\n",
       "      <td>116</td>\n",
       "      <td>855</td>\n",
       "    </tr>\n",
       "    <tr>\n",
       "      <th>2</th>\n",
       "      <td>2438</td>\n",
       "      <td>worldcup2010</td>\n",
       "      <td>World Cup 2010 - Take on the Quants</td>\n",
       "      <td>Quants at Goldman Sachs and JP Morgan have mod...</td>\n",
       "      <td>Featured</td>\n",
       "      <td>NaN</td>\n",
       "      <td>NaN</td>\n",
       "      <td>1</td>\n",
       "      <td>NaN</td>\n",
       "      <td>06/03/2010 08:08:08</td>\n",
       "      <td>06/11/2010 13:29:00</td>\n",
       "      <td>NaN</td>\n",
       "      <td>NaN</td>\n",
       "      <td>NaN</td>\n",
       "      <td>NaN</td>\n",
       "      <td>True</td>\n",
       "      <td>True</td>\n",
       "      <td>False</td>\n",
       "      <td>False</td>\n",
       "      <td>10</td>\n",
       "      <td>0.00000</td>\n",
       "      <td>Custom</td>\n",
       "      <td>Custom Evaluation Metric</td>\n",
       "      <td>A placeholder that indicates a custom algorith...</td>\n",
       "      <td>False</td>\n",
       "      <td>NaN</td>\n",
       "      <td>NaN</td>\n",
       "      <td>5</td>\n",
       "      <td>5</td>\n",
       "      <td>20</td>\n",
       "      <td>False</td>\n",
       "      <td>False</td>\n",
       "      <td>False</td>\n",
       "      <td>False</td>\n",
       "      <td>USD</td>\n",
       "      <td>100.0000</td>\n",
       "      <td>1</td>\n",
       "      <td>0.5</td>\n",
       "      <td>False</td>\n",
       "      <td>0</td>\n",
       "      <td>0</td>\n",
       "      <td>0</td>\n",
       "    </tr>\n",
       "    <tr>\n",
       "      <th>3</th>\n",
       "      <td>2439</td>\n",
       "      <td>informs2010</td>\n",
       "      <td>INFORMS Data Mining Contest 2010</td>\n",
       "      <td>The goal of this contest is to predict short t...</td>\n",
       "      <td>Featured</td>\n",
       "      <td>4</td>\n",
       "      <td>NaN</td>\n",
       "      <td>1</td>\n",
       "      <td>NaN</td>\n",
       "      <td>06/21/2010 21:53:25</td>\n",
       "      <td>10/10/2010 02:28:00</td>\n",
       "      <td>NaN</td>\n",
       "      <td>NaN</td>\n",
       "      <td>NaN</td>\n",
       "      <td>NaN</td>\n",
       "      <td>True</td>\n",
       "      <td>True</td>\n",
       "      <td>False</td>\n",
       "      <td>True</td>\n",
       "      <td>10</td>\n",
       "      <td>0.00000</td>\n",
       "      <td>AUC</td>\n",
       "      <td>Area Under Receiver Operating Characteristic C...</td>\n",
       "      <td>Measures discrimination. Calculates how well a...</td>\n",
       "      <td>True</td>\n",
       "      <td>A real number</td>\n",
       "      <td>(-Infinity, Infinity)</td>\n",
       "      <td>5</td>\n",
       "      <td>5</td>\n",
       "      <td>20</td>\n",
       "      <td>False</td>\n",
       "      <td>False</td>\n",
       "      <td>False</td>\n",
       "      <td>False</td>\n",
       "      <td>USD</td>\n",
       "      <td>0.0000</td>\n",
       "      <td>1</td>\n",
       "      <td>1</td>\n",
       "      <td>True</td>\n",
       "      <td>145</td>\n",
       "      <td>153</td>\n",
       "      <td>1483</td>\n",
       "    </tr>\n",
       "    <tr>\n",
       "      <th>4</th>\n",
       "      <td>2442</td>\n",
       "      <td>worldcupconf</td>\n",
       "      <td>World Cup 2010 - Confidence Challenge</td>\n",
       "      <td>The Confidence Challenge requires competitors ...</td>\n",
       "      <td>Featured</td>\n",
       "      <td>3</td>\n",
       "      <td>NaN</td>\n",
       "      <td>1</td>\n",
       "      <td>NaN</td>\n",
       "      <td>06/03/2010 08:08:08</td>\n",
       "      <td>06/11/2010 13:28:00</td>\n",
       "      <td>NaN</td>\n",
       "      <td>NaN</td>\n",
       "      <td>NaN</td>\n",
       "      <td>NaN</td>\n",
       "      <td>True</td>\n",
       "      <td>True</td>\n",
       "      <td>False</td>\n",
       "      <td>False</td>\n",
       "      <td>10</td>\n",
       "      <td>0.00000</td>\n",
       "      <td>Custom</td>\n",
       "      <td>Custom Evaluation Metric</td>\n",
       "      <td>A placeholder that indicates a custom algorith...</td>\n",
       "      <td>False</td>\n",
       "      <td>NaN</td>\n",
       "      <td>NaN</td>\n",
       "      <td>5</td>\n",
       "      <td>5</td>\n",
       "      <td>20</td>\n",
       "      <td>False</td>\n",
       "      <td>False</td>\n",
       "      <td>False</td>\n",
       "      <td>False</td>\n",
       "      <td>USD</td>\n",
       "      <td>100.0000</td>\n",
       "      <td>1</td>\n",
       "      <td>0.5</td>\n",
       "      <td>False</td>\n",
       "      <td>63</td>\n",
       "      <td>64</td>\n",
       "      <td>63</td>\n",
       "    </tr>\n",
       "  </tbody>\n",
       "</table>\n",
       "</div>"
      ],
      "text/plain": [
       "     Id            Slug                                  Title  \\\n",
       "0  2408  Eurovision2010             Forecast Eurovision Voting   \n",
       "1  2435  hivprogression                Predict HIV Progression   \n",
       "2  2438    worldcup2010    World Cup 2010 - Take on the Quants   \n",
       "3  2439     informs2010       INFORMS Data Mining Contest 2010   \n",
       "4  2442    worldcupconf  World Cup 2010 - Confidence Challenge   \n",
       "\n",
       "                                            Subtitle HostSegmentTitle ForumId  \\\n",
       "0  This competition requires contestants to forec...         Featured       2   \n",
       "1  This contest requires competitors to predict t...         Featured       1   \n",
       "2  Quants at Goldman Sachs and JP Morgan have mod...         Featured     NaN   \n",
       "3  The goal of this contest is to predict short t...         Featured       4   \n",
       "4  The Confidence Challenge requires competitors ...         Featured       3   \n",
       "\n",
       "  OrganizationId CompetitionTypeId HostName          EnabledDate  \\\n",
       "0            NaN                 1      NaN  04/07/2010 07:57:43   \n",
       "1            NaN                 1      NaN  04/27/2010 21:29:09   \n",
       "2            NaN                 1      NaN  06/03/2010 08:08:08   \n",
       "3            NaN                 1      NaN  06/21/2010 21:53:25   \n",
       "4            NaN                 1      NaN  06/03/2010 08:08:08   \n",
       "\n",
       "          DeadlineDate ProhibitNewEntrantsDeadlineDate TeamMergerDeadlineDate  \\\n",
       "0  05/25/2010 18:00:00                             NaN                    NaN   \n",
       "1  08/02/2010 12:32:00                             NaN                    NaN   \n",
       "2  06/11/2010 13:29:00                             NaN                    NaN   \n",
       "3  10/10/2010 02:28:00                             NaN                    NaN   \n",
       "4  06/11/2010 13:28:00                             NaN                    NaN   \n",
       "\n",
       "  TeamModelDeadlineDate ModelSubmissionDeadlineDate  \\\n",
       "0                   NaN                         NaN   \n",
       "1                   NaN                         NaN   \n",
       "2                   NaN                         NaN   \n",
       "3                   NaN                         NaN   \n",
       "4                   NaN                         NaN   \n",
       "\n",
       "  FinalLeaderboardHasBeenVerified HasKernels OnlyAllowKernelSubmissions  \\\n",
       "0                            True       True                      False   \n",
       "1                            True       True                      False   \n",
       "2                            True       True                      False   \n",
       "3                            True       True                      False   \n",
       "4                            True       True                      False   \n",
       "\n",
       "  HasLeaderboard LeaderboardPercentage LeaderboardDisplayFormat  \\\n",
       "0          False                    10                  0.00000   \n",
       "1           True                    30                  0.00000   \n",
       "2          False                    10                  0.00000   \n",
       "3           True                    10                  0.00000   \n",
       "4          False                    10                  0.00000   \n",
       "\n",
       "  EvaluationAlgorithmAbbreviation  \\\n",
       "0                              AE   \n",
       "1                             MCE   \n",
       "2                          Custom   \n",
       "3                             AUC   \n",
       "4                          Custom   \n",
       "\n",
       "                             EvaluationAlgorithmName  \\\n",
       "0                                     Absolute Error   \n",
       "1                           Mean Consequential Error   \n",
       "2                           Custom Evaluation Metric   \n",
       "3  Area Under Receiver Operating Characteristic C...   \n",
       "4                           Custom Evaluation Metric   \n",
       "\n",
       "                      EvaluationAlgorithmDescription EvaluationAlgorithmIsMax  \\\n",
       "0  Total sum of absolute value of each individual...                    False   \n",
       "1  Averages consequential error (i.e. if predicti...                     True   \n",
       "2  A placeholder that indicates a custom algorith...                    False   \n",
       "3  Measures discrimination. Calculates how well a...                     True   \n",
       "4  A placeholder that indicates a custom algorith...                    False   \n",
       "\n",
       "  ValidationSetName     ValidationSetValue MaxDailySubmissions  \\\n",
       "0               NaN                    NaN                   5   \n",
       "1           Boolean                 {0, 1}                   4   \n",
       "2               NaN                    NaN                   5   \n",
       "3     A real number  (-Infinity, Infinity)                   5   \n",
       "4               NaN                    NaN                   5   \n",
       "\n",
       "  NumScoredSubmissions MaxTeamSize BanTeamMergers EnableTeamModels  \\\n",
       "0                    5          20          False            False   \n",
       "1                    4          20          False            False   \n",
       "2                    5          20          False            False   \n",
       "3                    5          20          False            False   \n",
       "4                    5          20          False            False   \n",
       "\n",
       "  EnableSubmissionModelHashes EnableSubmissionModelAttachments RewardType  \\\n",
       "0                       False                            False        USD   \n",
       "1                       False                            False        USD   \n",
       "2                       False                            False        USD   \n",
       "3                       False                            False        USD   \n",
       "4                       False                            False        USD   \n",
       "\n",
       "  RewardQuantity NumPrizes UserRankMultiplier CanQualifyTiers TotalTeams  \\\n",
       "0      1000.0000         1                  1           False         22   \n",
       "1       500.0000         1                  1            True        107   \n",
       "2       100.0000         1                0.5           False          0   \n",
       "3         0.0000         1                  1            True        145   \n",
       "4       100.0000         1                0.5           False         63   \n",
       "\n",
       "  TotalCompetitors TotalSubmissions  \n",
       "0               25               22  \n",
       "1              116              855  \n",
       "2                0                0  \n",
       "3              153             1483  \n",
       "4               64               63  "
      ]
     },
     "execution_count": 38,
     "metadata": {},
     "output_type": "execute_result"
    }
   ],
   "source": [
    "df_competitions.head(5)"
   ]
  },
  {
   "cell_type": "code",
   "execution_count": 39,
   "metadata": {},
   "outputs": [
    {
     "data": {
      "text/html": [
       "<div>\n",
       "<style scoped>\n",
       "    .dataframe tbody tr th:only-of-type {\n",
       "        vertical-align: middle;\n",
       "    }\n",
       "\n",
       "    .dataframe tbody tr th {\n",
       "        vertical-align: top;\n",
       "    }\n",
       "\n",
       "    .dataframe thead th {\n",
       "        text-align: right;\n",
       "    }\n",
       "</style>\n",
       "<table border=\"1\" class=\"dataframe\">\n",
       "  <thead>\n",
       "    <tr style=\"text-align: right;\">\n",
       "      <th></th>\n",
       "      <th>Id</th>\n",
       "      <th>Slug</th>\n",
       "      <th>Title</th>\n",
       "      <th>Subtitle</th>\n",
       "      <th>HostSegmentTitle</th>\n",
       "      <th>ForumId</th>\n",
       "      <th>OrganizationId</th>\n",
       "      <th>CompetitionTypeId</th>\n",
       "      <th>HostName</th>\n",
       "      <th>EnabledDate</th>\n",
       "      <th>DeadlineDate</th>\n",
       "      <th>ProhibitNewEntrantsDeadlineDate</th>\n",
       "      <th>TeamMergerDeadlineDate</th>\n",
       "      <th>TeamModelDeadlineDate</th>\n",
       "      <th>ModelSubmissionDeadlineDate</th>\n",
       "      <th>FinalLeaderboardHasBeenVerified</th>\n",
       "      <th>HasKernels</th>\n",
       "      <th>OnlyAllowKernelSubmissions</th>\n",
       "      <th>HasLeaderboard</th>\n",
       "      <th>LeaderboardPercentage</th>\n",
       "      <th>LeaderboardDisplayFormat</th>\n",
       "      <th>EvaluationAlgorithmAbbreviation</th>\n",
       "      <th>EvaluationAlgorithmName</th>\n",
       "      <th>EvaluationAlgorithmDescription</th>\n",
       "      <th>EvaluationAlgorithmIsMax</th>\n",
       "      <th>ValidationSetName</th>\n",
       "      <th>ValidationSetValue</th>\n",
       "      <th>MaxDailySubmissions</th>\n",
       "      <th>NumScoredSubmissions</th>\n",
       "      <th>MaxTeamSize</th>\n",
       "      <th>BanTeamMergers</th>\n",
       "      <th>EnableTeamModels</th>\n",
       "      <th>EnableSubmissionModelHashes</th>\n",
       "      <th>EnableSubmissionModelAttachments</th>\n",
       "      <th>RewardType</th>\n",
       "      <th>RewardQuantity</th>\n",
       "      <th>NumPrizes</th>\n",
       "      <th>UserRankMultiplier</th>\n",
       "      <th>CanQualifyTiers</th>\n",
       "      <th>TotalTeams</th>\n",
       "      <th>TotalCompetitors</th>\n",
       "      <th>TotalSubmissions</th>\n",
       "    </tr>\n",
       "  </thead>\n",
       "  <tbody>\n",
       "    <tr>\n",
       "      <th>4973</th>\n",
       "      <td>33101</td>\n",
       "      <td>tabular-playground-series-jan-2022</td>\n",
       "      <td>Tabular Playground Series - Jan 2022</td>\n",
       "      <td>Practice your ML skills on this approachable d...</td>\n",
       "      <td>Playground</td>\n",
       "      <td>1801833</td>\n",
       "      <td>4</td>\n",
       "      <td>1</td>\n",
       "      <td>NaN</td>\n",
       "      <td>01/01/2022 02:37:30</td>\n",
       "      <td>01/31/2022 23:59:00</td>\n",
       "      <td>NaN</td>\n",
       "      <td>NaN</td>\n",
       "      <td>NaN</td>\n",
       "      <td>NaN</td>\n",
       "      <td>True</td>\n",
       "      <td>True</td>\n",
       "      <td>False</td>\n",
       "      <td>True</td>\n",
       "      <td>25</td>\n",
       "      <td>0.00000</td>\n",
       "      <td>SMAPE</td>\n",
       "      <td>SMAPE</td>\n",
       "      <td>Symmetric Mean Absolute Percentage Error</td>\n",
       "      <td>False</td>\n",
       "      <td>NaN</td>\n",
       "      <td>NaN</td>\n",
       "      <td>5</td>\n",
       "      <td>2</td>\n",
       "      <td>3</td>\n",
       "      <td>False</td>\n",
       "      <td>False</td>\n",
       "      <td>False</td>\n",
       "      <td>False</td>\n",
       "      <td>Swag</td>\n",
       "      <td>NaN</td>\n",
       "      <td>1</td>\n",
       "      <td>0</td>\n",
       "      <td>False</td>\n",
       "      <td>1591</td>\n",
       "      <td>1646</td>\n",
       "      <td>16151</td>\n",
       "    </tr>\n",
       "  </tbody>\n",
       "</table>\n",
       "</div>"
      ],
      "text/plain": [
       "         Id                                Slug  \\\n",
       "4973  33101  tabular-playground-series-jan-2022   \n",
       "\n",
       "                                     Title  \\\n",
       "4973  Tabular Playground Series - Jan 2022   \n",
       "\n",
       "                                               Subtitle HostSegmentTitle  \\\n",
       "4973  Practice your ML skills on this approachable d...       Playground   \n",
       "\n",
       "      ForumId OrganizationId CompetitionTypeId HostName          EnabledDate  \\\n",
       "4973  1801833              4                 1      NaN  01/01/2022 02:37:30   \n",
       "\n",
       "             DeadlineDate ProhibitNewEntrantsDeadlineDate  \\\n",
       "4973  01/31/2022 23:59:00                             NaN   \n",
       "\n",
       "     TeamMergerDeadlineDate TeamModelDeadlineDate ModelSubmissionDeadlineDate  \\\n",
       "4973                    NaN                   NaN                         NaN   \n",
       "\n",
       "     FinalLeaderboardHasBeenVerified HasKernels OnlyAllowKernelSubmissions  \\\n",
       "4973                            True       True                      False   \n",
       "\n",
       "     HasLeaderboard LeaderboardPercentage LeaderboardDisplayFormat  \\\n",
       "4973           True                    25                  0.00000   \n",
       "\n",
       "     EvaluationAlgorithmAbbreviation EvaluationAlgorithmName  \\\n",
       "4973                           SMAPE                   SMAPE   \n",
       "\n",
       "                EvaluationAlgorithmDescription EvaluationAlgorithmIsMax  \\\n",
       "4973  Symmetric Mean Absolute Percentage Error                    False   \n",
       "\n",
       "     ValidationSetName ValidationSetValue MaxDailySubmissions  \\\n",
       "4973               NaN                NaN                   5   \n",
       "\n",
       "     NumScoredSubmissions MaxTeamSize BanTeamMergers EnableTeamModels  \\\n",
       "4973                    2           3          False            False   \n",
       "\n",
       "     EnableSubmissionModelHashes EnableSubmissionModelAttachments RewardType  \\\n",
       "4973                       False                            False       Swag   \n",
       "\n",
       "     RewardQuantity NumPrizes UserRankMultiplier CanQualifyTiers TotalTeams  \\\n",
       "4973            NaN         1                  0           False       1591   \n",
       "\n",
       "     TotalCompetitors TotalSubmissions  \n",
       "4973             1646            16151  "
      ]
     },
     "execution_count": 39,
     "metadata": {},
     "output_type": "execute_result"
    }
   ],
   "source": [
    "df_competitions[df_competitions[\"Slug\"].str.contains(\"tabular-playground-series-jan-2022\")]"
   ]
  },
  {
   "cell_type": "code",
   "execution_count": 40,
   "metadata": {},
   "outputs": [
    {
     "data": {
      "text/html": [
       "<div>\n",
       "<style scoped>\n",
       "    .dataframe tbody tr th:only-of-type {\n",
       "        vertical-align: middle;\n",
       "    }\n",
       "\n",
       "    .dataframe tbody tr th {\n",
       "        vertical-align: top;\n",
       "    }\n",
       "\n",
       "    .dataframe thead th {\n",
       "        text-align: right;\n",
       "    }\n",
       "</style>\n",
       "<table border=\"1\" class=\"dataframe\">\n",
       "  <thead>\n",
       "    <tr style=\"text-align: right;\">\n",
       "      <th></th>\n",
       "      <th>Id</th>\n",
       "      <th>Title</th>\n",
       "      <th>ForumId</th>\n",
       "      <th>TotalTeams</th>\n",
       "    </tr>\n",
       "  </thead>\n",
       "  <tbody>\n",
       "    <tr>\n",
       "      <th>0</th>\n",
       "      <td>2408</td>\n",
       "      <td>Forecast Eurovision Voting</td>\n",
       "      <td>2</td>\n",
       "      <td>22</td>\n",
       "    </tr>\n",
       "    <tr>\n",
       "      <th>1</th>\n",
       "      <td>2435</td>\n",
       "      <td>Predict HIV Progression</td>\n",
       "      <td>1</td>\n",
       "      <td>107</td>\n",
       "    </tr>\n",
       "    <tr>\n",
       "      <th>2</th>\n",
       "      <td>2438</td>\n",
       "      <td>World Cup 2010 - Take on the Quants</td>\n",
       "      <td>NaN</td>\n",
       "      <td>0</td>\n",
       "    </tr>\n",
       "    <tr>\n",
       "      <th>3</th>\n",
       "      <td>2439</td>\n",
       "      <td>INFORMS Data Mining Contest 2010</td>\n",
       "      <td>4</td>\n",
       "      <td>145</td>\n",
       "    </tr>\n",
       "    <tr>\n",
       "      <th>4</th>\n",
       "      <td>2442</td>\n",
       "      <td>World Cup 2010 - Confidence Challenge</td>\n",
       "      <td>3</td>\n",
       "      <td>63</td>\n",
       "    </tr>\n",
       "  </tbody>\n",
       "</table>\n",
       "</div>"
      ],
      "text/plain": [
       "     Id                                  Title ForumId TotalTeams\n",
       "0  2408             Forecast Eurovision Voting       2         22\n",
       "1  2435                Predict HIV Progression       1        107\n",
       "2  2438    World Cup 2010 - Take on the Quants     NaN          0\n",
       "3  2439       INFORMS Data Mining Contest 2010       4        145\n",
       "4  2442  World Cup 2010 - Confidence Challenge       3         63"
      ]
     },
     "execution_count": 40,
     "metadata": {},
     "output_type": "execute_result"
    }
   ],
   "source": [
    "df_competitions = df_competitions[[\"Id\",\"Title\",\"ForumId\",\"TotalTeams\"]]\n",
    "df_competitions.head()"
   ]
  },
  {
   "cell_type": "code",
   "execution_count": 41,
   "metadata": {},
   "outputs": [
    {
     "data": {
      "text/html": [
       "<div>\n",
       "<style scoped>\n",
       "    .dataframe tbody tr th:only-of-type {\n",
       "        vertical-align: middle;\n",
       "    }\n",
       "\n",
       "    .dataframe tbody tr th {\n",
       "        vertical-align: top;\n",
       "    }\n",
       "\n",
       "    .dataframe thead th {\n",
       "        text-align: right;\n",
       "    }\n",
       "</style>\n",
       "<table border=\"1\" class=\"dataframe\">\n",
       "  <thead>\n",
       "    <tr style=\"text-align: right;\">\n",
       "      <th></th>\n",
       "      <th>Variable</th>\n",
       "      <th>n</th>\n",
       "      <th>Missing</th>\n",
       "      <th>%Missing</th>\n",
       "      <th>Negativo</th>\n",
       "      <th>%Negativo</th>\n",
       "      <th>Zero</th>\n",
       "      <th>%Zero</th>\n",
       "      <th>Unico</th>\n",
       "      <th>Media</th>\n",
       "      <th>Min</th>\n",
       "      <th>Max</th>\n",
       "      <th>IQRMAX</th>\n",
       "      <th>3STD</th>\n",
       "      <th>P10</th>\n",
       "      <th>P25</th>\n",
       "      <th>P50</th>\n",
       "      <th>P75</th>\n",
       "      <th>P90</th>\n",
       "      <th>P95</th>\n",
       "      <th>P99</th>\n",
       "      <th>Outlier IQR</th>\n",
       "      <th>%Outlier IQR</th>\n",
       "      <th>Outlier 3SD</th>\n",
       "      <th>%Outlier 3SD</th>\n",
       "      <th>Outlier P90</th>\n",
       "      <th>%Outlier P90</th>\n",
       "      <th>Outlier P95</th>\n",
       "      <th>%Outlier P95</th>\n",
       "      <th>Outlier P99</th>\n",
       "      <th>%Outlier P99</th>\n",
       "    </tr>\n",
       "  </thead>\n",
       "  <tbody>\n",
       "    <tr>\n",
       "      <th>0</th>\n",
       "      <td>TotalTeams</td>\n",
       "      <td>5485</td>\n",
       "      <td>0</td>\n",
       "      <td>0.0</td>\n",
       "      <td>0</td>\n",
       "      <td>0.0</td>\n",
       "      <td>961</td>\n",
       "      <td>17.52051</td>\n",
       "      <td>584</td>\n",
       "      <td>110.429717</td>\n",
       "      <td>0</td>\n",
       "      <td>8751</td>\n",
       "      <td>97.0</td>\n",
       "      <td>1391.078645</td>\n",
       "      <td>0.0</td>\n",
       "      <td>2.0</td>\n",
       "      <td>12.0</td>\n",
       "      <td>40.0</td>\n",
       "      <td>150.0</td>\n",
       "      <td>527.8</td>\n",
       "      <td>2120.48</td>\n",
       "      <td>716</td>\n",
       "      <td>13.053783</td>\n",
       "      <td>112</td>\n",
       "      <td>2.041933</td>\n",
       "      <td>547</td>\n",
       "      <td>9.972653</td>\n",
       "      <td>275</td>\n",
       "      <td>5.013674</td>\n",
       "      <td>55</td>\n",
       "      <td>1.002735</td>\n",
       "    </tr>\n",
       "  </tbody>\n",
       "</table>\n",
       "</div>"
      ],
      "text/plain": [
       "     Variable     n  Missing  %Missing  Negativo  %Negativo  Zero     %Zero  \\\n",
       "0  TotalTeams  5485        0       0.0         0        0.0   961  17.52051   \n",
       "\n",
       "   Unico       Media  Min   Max  IQRMAX         3STD  P10  P25   P50   P75  \\\n",
       "0    584  110.429717    0  8751    97.0  1391.078645  0.0  2.0  12.0  40.0   \n",
       "\n",
       "     P90    P95      P99  Outlier IQR  %Outlier IQR  Outlier 3SD  \\\n",
       "0  150.0  527.8  2120.48          716     13.053783          112   \n",
       "\n",
       "   %Outlier 3SD  Outlier P90  %Outlier P90  Outlier P95  %Outlier P95  \\\n",
       "0      2.041933          547      9.972653          275      5.013674   \n",
       "\n",
       "   Outlier P99  %Outlier P99  \n",
       "0           55      1.002735  "
      ]
     },
     "execution_count": 41,
     "metadata": {},
     "output_type": "execute_result"
    }
   ],
   "source": [
    "df_competitions[\"TotalTeams\"] = df_competitions[\"TotalTeams\"].astype(int)\n",
    "Validator.validar_numerico(df_competitions,[\"TotalTeams\"])"
   ]
  },
  {
   "cell_type": "code",
   "execution_count": 42,
   "metadata": {},
   "outputs": [
    {
     "data": {
      "text/html": [
       "<div>\n",
       "<style scoped>\n",
       "    .dataframe tbody tr th:only-of-type {\n",
       "        vertical-align: middle;\n",
       "    }\n",
       "\n",
       "    .dataframe tbody tr th {\n",
       "        vertical-align: top;\n",
       "    }\n",
       "\n",
       "    .dataframe thead th {\n",
       "        text-align: right;\n",
       "    }\n",
       "</style>\n",
       "<table border=\"1\" class=\"dataframe\">\n",
       "  <thead>\n",
       "    <tr style=\"text-align: right;\">\n",
       "      <th></th>\n",
       "      <th>Variable</th>\n",
       "      <th>n</th>\n",
       "      <th>Missing</th>\n",
       "      <th>%Missing</th>\n",
       "      <th>Unico</th>\n",
       "    </tr>\n",
       "  </thead>\n",
       "  <tbody>\n",
       "    <tr>\n",
       "      <th>0</th>\n",
       "      <td>Id</td>\n",
       "      <td>5485</td>\n",
       "      <td>0</td>\n",
       "      <td>0.000000</td>\n",
       "      <td>5485</td>\n",
       "    </tr>\n",
       "    <tr>\n",
       "      <th>0</th>\n",
       "      <td>Title</td>\n",
       "      <td>5485</td>\n",
       "      <td>0</td>\n",
       "      <td>0.000000</td>\n",
       "      <td>5108</td>\n",
       "    </tr>\n",
       "    <tr>\n",
       "      <th>0</th>\n",
       "      <td>ForumId</td>\n",
       "      <td>5485</td>\n",
       "      <td>7</td>\n",
       "      <td>0.127621</td>\n",
       "      <td>5476</td>\n",
       "    </tr>\n",
       "  </tbody>\n",
       "</table>\n",
       "</div>"
      ],
      "text/plain": [
       "  Variable     n  Missing  %Missing  Unico\n",
       "0       Id  5485        0  0.000000   5485\n",
       "0    Title  5485        0  0.000000   5108\n",
       "0  ForumId  5485        7  0.127621   5476"
      ]
     },
     "execution_count": 42,
     "metadata": {},
     "output_type": "execute_result"
    }
   ],
   "source": [
    "Validator.validar_categorico(df_competitions,[\"Id\",\"Title\",\"ForumId\"])"
   ]
  },
  {
   "cell_type": "code",
   "execution_count": 43,
   "metadata": {},
   "outputs": [
    {
     "data": {
      "text/html": [
       "<div>\n",
       "<style scoped>\n",
       "    .dataframe tbody tr th:only-of-type {\n",
       "        vertical-align: middle;\n",
       "    }\n",
       "\n",
       "    .dataframe tbody tr th {\n",
       "        vertical-align: top;\n",
       "    }\n",
       "\n",
       "    .dataframe thead th {\n",
       "        text-align: right;\n",
       "    }\n",
       "</style>\n",
       "<table border=\"1\" class=\"dataframe\">\n",
       "  <thead>\n",
       "    <tr style=\"text-align: right;\">\n",
       "      <th></th>\n",
       "      <th>CompetitionId</th>\n",
       "      <th>Title</th>\n",
       "      <th>ForumId</th>\n",
       "      <th>TotalTeams</th>\n",
       "    </tr>\n",
       "  </thead>\n",
       "  <tbody>\n",
       "    <tr>\n",
       "      <th>2</th>\n",
       "      <td>2438</td>\n",
       "      <td>World Cup 2010 - Take on the Quants</td>\n",
       "      <td>NaN</td>\n",
       "      <td>0</td>\n",
       "    </tr>\n",
       "    <tr>\n",
       "      <th>23</th>\n",
       "      <td>2552</td>\n",
       "      <td>UCL CoMPLEX MRes module</td>\n",
       "      <td>NaN</td>\n",
       "      <td>22</td>\n",
       "    </tr>\n",
       "    <tr>\n",
       "      <th>24</th>\n",
       "      <td>2554</td>\n",
       "      <td>UCL Applied Machine Learning 2</td>\n",
       "      <td>NaN</td>\n",
       "      <td>16</td>\n",
       "    </tr>\n",
       "    <tr>\n",
       "      <th>26</th>\n",
       "      <td>2558</td>\n",
       "      <td>UMICH SI650 - Sentiment Classification</td>\n",
       "      <td>NaN</td>\n",
       "      <td>28</td>\n",
       "    </tr>\n",
       "    <tr>\n",
       "      <th>27</th>\n",
       "      <td>2559</td>\n",
       "      <td>Erasmus University Rotterdam - Econometrie 2  ...</td>\n",
       "      <td>NaN</td>\n",
       "      <td>44</td>\n",
       "    </tr>\n",
       "    <tr>\n",
       "      <th>88</th>\n",
       "      <td>3273</td>\n",
       "      <td>Price Change Prediction of Electronics in Onli...</td>\n",
       "      <td>NaN</td>\n",
       "      <td>29</td>\n",
       "    </tr>\n",
       "    <tr>\n",
       "      <th>94</th>\n",
       "      <td>3321</td>\n",
       "      <td>Getting Started</td>\n",
       "      <td>NaN</td>\n",
       "      <td>0</td>\n",
       "    </tr>\n",
       "  </tbody>\n",
       "</table>\n",
       "</div>"
      ],
      "text/plain": [
       "   CompetitionId                                              Title ForumId  \\\n",
       "2           2438                World Cup 2010 - Take on the Quants     NaN   \n",
       "23          2552                            UCL CoMPLEX MRes module     NaN   \n",
       "24          2554                     UCL Applied Machine Learning 2     NaN   \n",
       "26          2558             UMICH SI650 - Sentiment Classification     NaN   \n",
       "27          2559  Erasmus University Rotterdam - Econometrie 2  ...     NaN   \n",
       "88          3273  Price Change Prediction of Electronics in Onli...     NaN   \n",
       "94          3321                                    Getting Started     NaN   \n",
       "\n",
       "    TotalTeams  \n",
       "2            0  \n",
       "23          22  \n",
       "24          16  \n",
       "26          28  \n",
       "27          44  \n",
       "88          29  \n",
       "94           0  "
      ]
     },
     "execution_count": 43,
     "metadata": {},
     "output_type": "execute_result"
    }
   ],
   "source": [
    "df_competitions.rename(columns = {'Id':'CompetitionId'}, inplace = True)\n",
    "df_competitions[df_competitions[\"ForumId\"].isna()]"
   ]
  },
  {
   "cell_type": "code",
   "execution_count": 44,
   "metadata": {},
   "outputs": [],
   "source": [
    "df_competitions = df_competitions[~df_competitions[\"ForumId\"].isna()]"
   ]
  },
  {
   "cell_type": "code",
   "execution_count": 45,
   "metadata": {},
   "outputs": [
    {
     "data": {
      "image/png": "[encoded data removed]",
      "text/plain": [
       "<Figure size 432x288 with 1 Axes>"
      ]
     },
     "metadata": {
      "needs_background": "light"
     },
     "output_type": "display_data"
    }
   ],
   "source": [
    "sns.boxplot( y='TotalTeams', data=df_competitions)\n",
    "plt.show()"
   ]
  },
  {
   "cell_type": "code",
   "execution_count": 46,
   "metadata": {},
   "outputs": [
    {
     "data": {
      "text/html": [
       "<div>\n",
       "<style scoped>\n",
       "    .dataframe tbody tr th:only-of-type {\n",
       "        vertical-align: middle;\n",
       "    }\n",
       "\n",
       "    .dataframe tbody tr th {\n",
       "        vertical-align: top;\n",
       "    }\n",
       "\n",
       "    .dataframe thead th {\n",
       "        text-align: right;\n",
       "    }\n",
       "</style>\n",
       "<table border=\"1\" class=\"dataframe\">\n",
       "  <thead>\n",
       "    <tr style=\"text-align: right;\">\n",
       "      <th></th>\n",
       "      <th>CompetitionId</th>\n",
       "      <th>Title</th>\n",
       "      <th>ForumId</th>\n",
       "      <th>TotalTeams</th>\n",
       "    </tr>\n",
       "  </thead>\n",
       "  <tbody>\n",
       "    <tr>\n",
       "      <th>0</th>\n",
       "      <td>2408</td>\n",
       "      <td>Forecast Eurovision Voting</td>\n",
       "      <td>2</td>\n",
       "      <td>22</td>\n",
       "    </tr>\n",
       "    <tr>\n",
       "      <th>1</th>\n",
       "      <td>2435</td>\n",
       "      <td>Predict HIV Progression</td>\n",
       "      <td>1</td>\n",
       "      <td>107</td>\n",
       "    </tr>\n",
       "    <tr>\n",
       "      <th>3</th>\n",
       "      <td>2439</td>\n",
       "      <td>INFORMS Data Mining Contest 2010</td>\n",
       "      <td>4</td>\n",
       "      <td>145</td>\n",
       "    </tr>\n",
       "    <tr>\n",
       "      <th>4</th>\n",
       "      <td>2442</td>\n",
       "      <td>World Cup 2010 - Confidence Challenge</td>\n",
       "      <td>3</td>\n",
       "      <td>63</td>\n",
       "    </tr>\n",
       "    <tr>\n",
       "      <th>5</th>\n",
       "      <td>2445</td>\n",
       "      <td>Predict Grant Applications</td>\n",
       "      <td>30</td>\n",
       "      <td>203</td>\n",
       "    </tr>\n",
       "  </tbody>\n",
       "</table>\n",
       "</div>"
      ],
      "text/plain": [
       "  CompetitionId                                  Title ForumId  TotalTeams\n",
       "0          2408             Forecast Eurovision Voting       2          22\n",
       "1          2435                Predict HIV Progression       1         107\n",
       "3          2439       INFORMS Data Mining Contest 2010       4         145\n",
       "4          2442  World Cup 2010 - Confidence Challenge       3          63\n",
       "5          2445             Predict Grant Applications      30         203"
      ]
     },
     "execution_count": 46,
     "metadata": {},
     "output_type": "execute_result"
    }
   ],
   "source": [
    "df_competitions.head()"
   ]
  },
  {
   "cell_type": "code",
   "execution_count": 47,
   "metadata": {},
   "outputs": [],
   "source": [
    "df_competitions.to_csv(r\"../data/interim/Competitions.csv\",index=False)"
   ]
  },
  {
   "cell_type": "markdown",
   "metadata": {},
   "source": [
    "## Competitions Tags"
   ]
  },
  {
   "cell_type": "code",
   "execution_count": 48,
   "metadata": {},
   "outputs": [
    {
     "data": {
      "text/html": [
       "<div>\n",
       "<style scoped>\n",
       "    .dataframe tbody tr th:only-of-type {\n",
       "        vertical-align: middle;\n",
       "    }\n",
       "\n",
       "    .dataframe tbody tr th {\n",
       "        vertical-align: top;\n",
       "    }\n",
       "\n",
       "    .dataframe thead th {\n",
       "        text-align: right;\n",
       "    }\n",
       "</style>\n",
       "<table border=\"1\" class=\"dataframe\">\n",
       "  <thead>\n",
       "    <tr style=\"text-align: right;\">\n",
       "      <th></th>\n",
       "      <th>Id</th>\n",
       "      <th>CompetitionId</th>\n",
       "      <th>TagId</th>\n",
       "    </tr>\n",
       "  </thead>\n",
       "  <tbody>\n",
       "    <tr>\n",
       "      <th>0</th>\n",
       "      <td>126</td>\n",
       "      <td>3486</td>\n",
       "      <td>14102</td>\n",
       "    </tr>\n",
       "    <tr>\n",
       "      <th>1</th>\n",
       "      <td>336</td>\n",
       "      <td>3526</td>\n",
       "      <td>12116</td>\n",
       "    </tr>\n",
       "    <tr>\n",
       "      <th>2</th>\n",
       "      <td>335</td>\n",
       "      <td>3526</td>\n",
       "      <td>14101</td>\n",
       "    </tr>\n",
       "    <tr>\n",
       "      <th>3</th>\n",
       "      <td>334</td>\n",
       "      <td>3526</td>\n",
       "      <td>14104</td>\n",
       "    </tr>\n",
       "    <tr>\n",
       "      <th>4</th>\n",
       "      <td>362</td>\n",
       "      <td>3706</td>\n",
       "      <td>2606</td>\n",
       "    </tr>\n",
       "  </tbody>\n",
       "</table>\n",
       "</div>"
      ],
      "text/plain": [
       "    Id CompetitionId  TagId\n",
       "0  126          3486  14102\n",
       "1  336          3526  12116\n",
       "2  335          3526  14101\n",
       "3  334          3526  14104\n",
       "4  362          3706   2606"
      ]
     },
     "execution_count": 48,
     "metadata": {},
     "output_type": "execute_result"
    }
   ],
   "source": [
    "df_comp_tags = pd.read_csv(r\"../data/raw/CompetitionTags.csv\",dtype=str)\n",
    "df_comp_tags.head()"
   ]
  },
  {
   "cell_type": "code",
   "execution_count": 49,
   "metadata": {},
   "outputs": [],
   "source": [
    "df_comp_tags = df_comp_tags[[\"CompetitionId\",\"TagId\"]]"
   ]
  },
  {
   "cell_type": "code",
   "execution_count": 50,
   "metadata": {},
   "outputs": [
    {
     "data": {
      "text/html": [
       "<div>\n",
       "<style scoped>\n",
       "    .dataframe tbody tr th:only-of-type {\n",
       "        vertical-align: middle;\n",
       "    }\n",
       "\n",
       "    .dataframe tbody tr th {\n",
       "        vertical-align: top;\n",
       "    }\n",
       "\n",
       "    .dataframe thead th {\n",
       "        text-align: right;\n",
       "    }\n",
       "</style>\n",
       "<table border=\"1\" class=\"dataframe\">\n",
       "  <thead>\n",
       "    <tr style=\"text-align: right;\">\n",
       "      <th></th>\n",
       "      <th>Variable</th>\n",
       "      <th>n</th>\n",
       "      <th>Missing</th>\n",
       "      <th>%Missing</th>\n",
       "      <th>Unico</th>\n",
       "    </tr>\n",
       "  </thead>\n",
       "  <tbody>\n",
       "    <tr>\n",
       "      <th>0</th>\n",
       "      <td>CompetitionId</td>\n",
       "      <td>686</td>\n",
       "      <td>0</td>\n",
       "      <td>0.0</td>\n",
       "      <td>314</td>\n",
       "    </tr>\n",
       "    <tr>\n",
       "      <th>0</th>\n",
       "      <td>TagId</td>\n",
       "      <td>686</td>\n",
       "      <td>0</td>\n",
       "      <td>0.0</td>\n",
       "      <td>101</td>\n",
       "    </tr>\n",
       "  </tbody>\n",
       "</table>\n",
       "</div>"
      ],
      "text/plain": [
       "        Variable    n  Missing  %Missing  Unico\n",
       "0  CompetitionId  686        0       0.0    314\n",
       "0          TagId  686        0       0.0    101"
      ]
     },
     "execution_count": 50,
     "metadata": {},
     "output_type": "execute_result"
    }
   ],
   "source": [
    "Validator.validar_categorico(df_comp_tags, [\"CompetitionId\",\"TagId\"])\n"
   ]
  },
  {
   "cell_type": "code",
   "execution_count": 51,
   "metadata": {},
   "outputs": [
    {
     "data": {
      "text/plain": [
       "14101    116\n",
       "14102    103\n",
       "14202     44\n",
       "14104     39\n",
       "14201     32\n",
       "14203     18\n",
       "12116     18\n",
       "2606      16\n",
       "4141      14\n",
       "7301      13\n",
       "13207     11\n",
       "7306      11\n",
       "7100       9\n",
       "11129      9\n",
       "4202       9\n",
       "13209      9\n",
       "13204      8\n",
       "13203      8\n",
       "16575      8\n",
       "11108      7\n",
       "15002      7\n",
       "16113      6\n",
       "12028      6\n",
       "16072      5\n",
       "12402      5\n",
       "1219       5\n",
       "11208      5\n",
       "2107       4\n",
       "2507       4\n",
       "14105      4\n",
       "        ... \n",
       "8301       1\n",
       "13313      1\n",
       "11204      1\n",
       "16010      1\n",
       "7307       1\n",
       "12016      1\n",
       "11104      1\n",
       "12404      1\n",
       "7202       1\n",
       "16409      1\n",
       "16221      1\n",
       "11211      1\n",
       "12038      1\n",
       "11102      1\n",
       "16627      1\n",
       "2400       1\n",
       "16373      1\n",
       "4309       1\n",
       "7200       1\n",
       "16382      1\n",
       "12400      1\n",
       "4302       1\n",
       "8100       1\n",
       "16609      1\n",
       "2206       1\n",
       "9109       1\n",
       "2502       1\n",
       "7105       1\n",
       "13404      1\n",
       "11130      1\n",
       "Name: TagId, Length: 101, dtype: int64"
      ]
     },
     "execution_count": 51,
     "metadata": {},
     "output_type": "execute_result"
    }
   ],
   "source": [
    "df_comp_tags[\"TagId\"].value_counts()"
   ]
  },
  {
   "cell_type": "code",
   "execution_count": 52,
   "metadata": {},
   "outputs": [],
   "source": [
    "df_comp_tags.to_csv(r\"../data/interim/CompetitionTags.csv\",index=False)"
   ]
  },
  {
   "cell_type": "markdown",
   "metadata": {},
   "source": [
    "## Teams"
   ]
  },
  {
   "cell_type": "code",
   "execution_count": 53,
   "metadata": {
    "scrolled": true
   },
   "outputs": [
    {
     "ename": "MemoryError",
     "evalue": "",
     "output_type": "error",
     "traceback": [
      "\u001b[1;31m---------------------------------------------------------------------------\u001b[0m",
      "\u001b[1;31mMemoryError\u001b[0m                               Traceback (most recent call last)",
      "\u001b[1;32m<ipython-input-53-0f4b763b4c86>\u001b[0m in \u001b[0;36m<module>\u001b[1;34m\u001b[0m\n\u001b[1;32m----> 1\u001b[1;33m \u001b[0mdf_teams\u001b[0m \u001b[1;33m=\u001b[0m \u001b[0mpd\u001b[0m\u001b[1;33m.\u001b[0m\u001b[0mread_csv\u001b[0m\u001b[1;33m(\u001b[0m\u001b[1;34mr\"../data/raw/Teams.csv\"\u001b[0m\u001b[1;33m,\u001b[0m\u001b[0mdtype\u001b[0m\u001b[1;33m=\u001b[0m\u001b[0mstr\u001b[0m\u001b[1;33m)\u001b[0m\u001b[1;33m\u001b[0m\u001b[1;33m\u001b[0m\u001b[0m\n\u001b[0m\u001b[0;32m      2\u001b[0m \u001b[0mdf_teams\u001b[0m\u001b[1;33m.\u001b[0m\u001b[0mhead\u001b[0m\u001b[1;33m(\u001b[0m\u001b[1;33m)\u001b[0m\u001b[1;33m\u001b[0m\u001b[1;33m\u001b[0m\u001b[0m\n",
      "\u001b[1;32m~\\Anaconda3\\lib\\site-packages\\pandas\\io\\parsers.py\u001b[0m in \u001b[0;36mparser_f\u001b[1;34m(filepath_or_buffer, sep, delimiter, header, names, index_col, usecols, squeeze, prefix, mangle_dupe_cols, dtype, engine, converters, true_values, false_values, skipinitialspace, skiprows, skipfooter, nrows, na_values, keep_default_na, na_filter, verbose, skip_blank_lines, parse_dates, infer_datetime_format, keep_date_col, date_parser, dayfirst, iterator, chunksize, compression, thousands, decimal, lineterminator, quotechar, quoting, doublequote, escapechar, comment, encoding, dialect, tupleize_cols, error_bad_lines, warn_bad_lines, delim_whitespace, low_memory, memory_map, float_precision)\u001b[0m\n\u001b[0;32m    700\u001b[0m                     skip_blank_lines=skip_blank_lines)\n\u001b[0;32m    701\u001b[0m \u001b[1;33m\u001b[0m\u001b[0m\n\u001b[1;32m--> 702\u001b[1;33m         \u001b[1;32mreturn\u001b[0m \u001b[0m_read\u001b[0m\u001b[1;33m(\u001b[0m\u001b[0mfilepath_or_buffer\u001b[0m\u001b[1;33m,\u001b[0m \u001b[0mkwds\u001b[0m\u001b[1;33m)\u001b[0m\u001b[1;33m\u001b[0m\u001b[1;33m\u001b[0m\u001b[0m\n\u001b[0m\u001b[0;32m    703\u001b[0m \u001b[1;33m\u001b[0m\u001b[0m\n\u001b[0;32m    704\u001b[0m     \u001b[0mparser_f\u001b[0m\u001b[1;33m.\u001b[0m\u001b[0m__name__\u001b[0m \u001b[1;33m=\u001b[0m \u001b[0mname\u001b[0m\u001b[1;33m\u001b[0m\u001b[1;33m\u001b[0m\u001b[0m\n",
      "\u001b[1;32m~\\Anaconda3\\lib\\site-packages\\pandas\\io\\parsers.py\u001b[0m in \u001b[0;36m_read\u001b[1;34m(filepath_or_buffer, kwds)\u001b[0m\n\u001b[0;32m    433\u001b[0m \u001b[1;33m\u001b[0m\u001b[0m\n\u001b[0;32m    434\u001b[0m     \u001b[1;32mtry\u001b[0m\u001b[1;33m:\u001b[0m\u001b[1;33m\u001b[0m\u001b[1;33m\u001b[0m\u001b[0m\n\u001b[1;32m--> 435\u001b[1;33m         \u001b[0mdata\u001b[0m \u001b[1;33m=\u001b[0m \u001b[0mparser\u001b[0m\u001b[1;33m.\u001b[0m\u001b[0mread\u001b[0m\u001b[1;33m(\u001b[0m\u001b[0mnrows\u001b[0m\u001b[1;33m)\u001b[0m\u001b[1;33m\u001b[0m\u001b[1;33m\u001b[0m\u001b[0m\n\u001b[0m\u001b[0;32m    436\u001b[0m     \u001b[1;32mfinally\u001b[0m\u001b[1;33m:\u001b[0m\u001b[1;33m\u001b[0m\u001b[1;33m\u001b[0m\u001b[0m\n\u001b[0;32m    437\u001b[0m         \u001b[0mparser\u001b[0m\u001b[1;33m.\u001b[0m\u001b[0mclose\u001b[0m\u001b[1;33m(\u001b[0m\u001b[1;33m)\u001b[0m\u001b[1;33m\u001b[0m\u001b[1;33m\u001b[0m\u001b[0m\n",
      "\u001b[1;32m~\\Anaconda3\\lib\\site-packages\\pandas\\io\\parsers.py\u001b[0m in \u001b[0;36mread\u001b[1;34m(self, nrows)\u001b[0m\n\u001b[0;32m   1137\u001b[0m     \u001b[1;32mdef\u001b[0m \u001b[0mread\u001b[0m\u001b[1;33m(\u001b[0m\u001b[0mself\u001b[0m\u001b[1;33m,\u001b[0m \u001b[0mnrows\u001b[0m\u001b[1;33m=\u001b[0m\u001b[1;32mNone\u001b[0m\u001b[1;33m)\u001b[0m\u001b[1;33m:\u001b[0m\u001b[1;33m\u001b[0m\u001b[1;33m\u001b[0m\u001b[0m\n\u001b[0;32m   1138\u001b[0m         \u001b[0mnrows\u001b[0m \u001b[1;33m=\u001b[0m \u001b[0m_validate_integer\u001b[0m\u001b[1;33m(\u001b[0m\u001b[1;34m'nrows'\u001b[0m\u001b[1;33m,\u001b[0m \u001b[0mnrows\u001b[0m\u001b[1;33m)\u001b[0m\u001b[1;33m\u001b[0m\u001b[1;33m\u001b[0m\u001b[0m\n\u001b[1;32m-> 1139\u001b[1;33m         \u001b[0mret\u001b[0m \u001b[1;33m=\u001b[0m \u001b[0mself\u001b[0m\u001b[1;33m.\u001b[0m\u001b[0m_engine\u001b[0m\u001b[1;33m.\u001b[0m\u001b[0mread\u001b[0m\u001b[1;33m(\u001b[0m\u001b[0mnrows\u001b[0m\u001b[1;33m)\u001b[0m\u001b[1;33m\u001b[0m\u001b[1;33m\u001b[0m\u001b[0m\n\u001b[0m\u001b[0;32m   1140\u001b[0m \u001b[1;33m\u001b[0m\u001b[0m\n\u001b[0;32m   1141\u001b[0m         \u001b[1;31m# May alter columns / col_dict\u001b[0m\u001b[1;33m\u001b[0m\u001b[1;33m\u001b[0m\u001b[1;33m\u001b[0m\u001b[0m\n",
      "\u001b[1;32m~\\Anaconda3\\lib\\site-packages\\pandas\\io\\parsers.py\u001b[0m in \u001b[0;36mread\u001b[1;34m(self, nrows)\u001b[0m\n\u001b[0;32m   1993\u001b[0m     \u001b[1;32mdef\u001b[0m \u001b[0mread\u001b[0m\u001b[1;33m(\u001b[0m\u001b[0mself\u001b[0m\u001b[1;33m,\u001b[0m \u001b[0mnrows\u001b[0m\u001b[1;33m=\u001b[0m\u001b[1;32mNone\u001b[0m\u001b[1;33m)\u001b[0m\u001b[1;33m:\u001b[0m\u001b[1;33m\u001b[0m\u001b[1;33m\u001b[0m\u001b[0m\n\u001b[0;32m   1994\u001b[0m         \u001b[1;32mtry\u001b[0m\u001b[1;33m:\u001b[0m\u001b[1;33m\u001b[0m\u001b[1;33m\u001b[0m\u001b[0m\n\u001b[1;32m-> 1995\u001b[1;33m             \u001b[0mdata\u001b[0m \u001b[1;33m=\u001b[0m \u001b[0mself\u001b[0m\u001b[1;33m.\u001b[0m\u001b[0m_reader\u001b[0m\u001b[1;33m.\u001b[0m\u001b[0mread\u001b[0m\u001b[1;33m(\u001b[0m\u001b[0mnrows\u001b[0m\u001b[1;33m)\u001b[0m\u001b[1;33m\u001b[0m\u001b[1;33m\u001b[0m\u001b[0m\n\u001b[0m\u001b[0;32m   1996\u001b[0m         \u001b[1;32mexcept\u001b[0m \u001b[0mStopIteration\u001b[0m\u001b[1;33m:\u001b[0m\u001b[1;33m\u001b[0m\u001b[1;33m\u001b[0m\u001b[0m\n\u001b[0;32m   1997\u001b[0m             \u001b[1;32mif\u001b[0m \u001b[0mself\u001b[0m\u001b[1;33m.\u001b[0m\u001b[0m_first_chunk\u001b[0m\u001b[1;33m:\u001b[0m\u001b[1;33m\u001b[0m\u001b[1;33m\u001b[0m\u001b[0m\n",
      "\u001b[1;32mpandas/_libs/parsers.pyx\u001b[0m in \u001b[0;36mpandas._libs.parsers.TextReader.read\u001b[1;34m()\u001b[0m\n",
      "\u001b[1;32mpandas/_libs/parsers.pyx\u001b[0m in \u001b[0;36mpandas._libs.parsers.TextReader._read_low_memory\u001b[1;34m()\u001b[0m\n",
      "\u001b[1;32mpandas/_libs/parsers.pyx\u001b[0m in \u001b[0;36mpandas._libs.parsers.TextReader._read_rows\u001b[1;34m()\u001b[0m\n",
      "\u001b[1;32mpandas/_libs/parsers.pyx\u001b[0m in \u001b[0;36mpandas._libs.parsers.TextReader._convert_column_data\u001b[1;34m()\u001b[0m\n",
      "\u001b[1;32mpandas/_libs/parsers.pyx\u001b[0m in \u001b[0;36mpandas._libs.parsers.TextReader._convert_tokens\u001b[1;34m()\u001b[0m\n",
      "\u001b[1;32mpandas/_libs/parsers.pyx\u001b[0m in \u001b[0;36mpandas._libs.parsers.TextReader._convert_with_dtype\u001b[1;34m()\u001b[0m\n",
      "\u001b[1;32mpandas/_libs/parsers.pyx\u001b[0m in \u001b[0;36mpandas._libs.parsers.TextReader._string_convert\u001b[1;34m()\u001b[0m\n",
      "\u001b[1;32mpandas/_libs/parsers.pyx\u001b[0m in \u001b[0;36mpandas._libs.parsers._string_box_utf8\u001b[1;34m()\u001b[0m\n",
      "\u001b[1;31mMemoryError\u001b[0m: "
     ]
    }
   ],
   "source": [
    "df_teams = pd.read_csv(r\"../data/raw/Teams.csv\",dtype=str)\n",
    "df_teams.head()"
   ]
  },
  {
   "cell_type": "code",
   "execution_count": null,
   "metadata": {},
   "outputs": [],
   "source": [
    "df_teams = df_teams[[\"Id\",\"CompetitionId\",\"TeamLeaderId\",\"TeamName\",\"Medal\",\"PrivateLeaderboardRank\"]]\n",
    "df_teams.head()"
   ]
  },
  {
   "cell_type": "code",
   "execution_count": null,
   "metadata": {},
   "outputs": [],
   "source": [
    "df_teams.info()"
   ]
  },
  {
   "cell_type": "code",
   "execution_count": null,
   "metadata": {},
   "outputs": [],
   "source": [
    "Validator.validar_categorico(df_teams, [\"Medal\",\"PrivateLeaderboardRank\"])"
   ]
  },
  {
   "cell_type": "code",
   "execution_count": null,
   "metadata": {},
   "outputs": [],
   "source": [
    "df_teams[\"Medal\"] = df_teams[\"Medal\"].astype(float)\n",
    "df_teams[\"PrivateLeaderboardRank\"] = df_teams[\"PrivateLeaderboardRank\"].astype(float)\n",
    "Validator.validar_numerico(df_teams, [\"Medal\",\"PrivateLeaderboardRank\"])"
   ]
  },
  {
   "cell_type": "code",
   "execution_count": null,
   "metadata": {},
   "outputs": [],
   "source": [
    "df_teams.rename(columns = {'Id':'TeamId'}, inplace = True)\n",
    "df_teams.head()\n"
   ]
  },
  {
   "cell_type": "code",
   "execution_count": null,
   "metadata": {},
   "outputs": [],
   "source": [
    "df_teams.to_csv(r\"../data/interim/Teams.csv\",index=False)"
   ]
  },
  {
   "cell_type": "markdown",
   "metadata": {},
   "source": [
    "## Team Memberships"
   ]
  },
  {
   "cell_type": "code",
   "execution_count": null,
   "metadata": {},
   "outputs": [],
   "source": [
    "df_team_member = pd.read_csv(r\"../data/raw/TeamMemberships.csv\",dtype=str)\n",
    "df_team_member.head()"
   ]
  },
  {
   "cell_type": "code",
   "execution_count": null,
   "metadata": {},
   "outputs": [],
   "source": [
    "df_team_member = df_team_member[[\"TeamId\",\"UserId\"]]\n",
    "df_team_member.head()"
   ]
  },
  {
   "cell_type": "code",
   "execution_count": null,
   "metadata": {},
   "outputs": [],
   "source": [
    "df_team_user = pd.merge(df_team_member, df_teams, how='inner', on=['TeamId'])\n",
    "df_team_user = df_team_user[[\"CompetitionId\",\"UserId\",\"Medal\"]]\n",
    "df_team_user.head()\n"
   ]
  },
  {
   "cell_type": "code",
   "execution_count": null,
   "metadata": {},
   "outputs": [],
   "source": [
    "df_team_user.shape"
   ]
  },
  {
   "cell_type": "code",
   "execution_count": null,
   "metadata": {},
   "outputs": [],
   "source": [
    "df_team_user[\"Medal\"].fillna(0,inplace=True)\n",
    "df_team_user.drop_duplicates(inplace=True)\n",
    "df_team_user.shape"
   ]
  },
  {
   "cell_type": "code",
   "execution_count": null,
   "metadata": {},
   "outputs": [],
   "source": [
    "df_team_user[\"Podio\"] = np.where(df_team_user[\"Medal\"]>0,1,0)\n",
    "df_team_user[\"Podio\"].value_counts()"
   ]
  },
  {
   "cell_type": "code",
   "execution_count": null,
   "metadata": {},
   "outputs": [],
   "source": [
    "df_team_user.head()"
   ]
  },
  {
   "cell_type": "code",
   "execution_count": null,
   "metadata": {},
   "outputs": [],
   "source": [
    "df_grouped_userteam = df_team_user.groupby(\"UserId\").Podio.agg(['count','sum']).reset_index()\n",
    "df_grouped_userteam.rename(columns={'count':'competencias','sum':'competencias_premiadas'},inplace=True)\n"
   ]
  },
  {
   "cell_type": "code",
   "execution_count": null,
   "metadata": {},
   "outputs": [],
   "source": [
    "df_grouped_userteam[\"ratio_competencias_premiadas\"] = df_grouped_userteam[\"competencias_premiadas\"] / df_grouped_userteam[\"competencias\"]\n",
    "df_grouped_userteam.sort_values(\"competencias_premiadas\",ascending=False).head()"
   ]
  },
  {
   "cell_type": "code",
   "execution_count": null,
   "metadata": {},
   "outputs": [],
   "source": [
    "df_grouped_userteam.to_csv(r\"../data/interim/UserParticipantInfo.csv\",index=False)"
   ]
  },
  {
   "cell_type": "code",
   "execution_count": null,
   "metadata": {},
   "outputs": [],
   "source": [
    "Validator.validar_categorico(df_team_member, ['TeamId', 'UserId'])"
   ]
  },
  {
   "cell_type": "code",
   "execution_count": null,
   "metadata": {},
   "outputs": [],
   "source": [
    "df_team_member.to_csv(r\"../data/interim/TeamMemberships.csv\",index=False)"
   ]
  },
  {
   "cell_type": "markdown",
   "metadata": {},
   "source": [
    "## Tags"
   ]
  },
  {
   "cell_type": "code",
   "execution_count": null,
   "metadata": {},
   "outputs": [],
   "source": [
    "df_tags = pd.read_csv(r\"../data/raw/Tags.csv\",dtype=str)\n",
    "df_tags.head()"
   ]
  },
  {
   "cell_type": "code",
   "execution_count": null,
   "metadata": {},
   "outputs": [],
   "source": [
    "df_tags = df_tags[[\"Id\",\"ParentTagId\",\"Name\"]]\n",
    "df_tags.rename(columns = {'Id':'TagId'}, inplace = True)\n",
    "df_tags.head()"
   ]
  },
  {
   "cell_type": "code",
   "execution_count": null,
   "metadata": {},
   "outputs": [],
   "source": [
    "Validator.validar_categorico(df_tags, [\"TagId\",\"ParentTagId\",\"Name\"])"
   ]
  },
  {
   "cell_type": "code",
   "execution_count": null,
   "metadata": {},
   "outputs": [],
   "source": [
    "df_tags.to_csv(r\"../data/interim/Tags.csv\",index=False)"
   ]
  },
  {
   "cell_type": "markdown",
   "metadata": {},
   "source": [
    "## Datasets"
   ]
  },
  {
   "cell_type": "code",
   "execution_count": null,
   "metadata": {},
   "outputs": [],
   "source": [
    "df_datasets = pd.read_csv(r\"../data/raw/Datasets.csv\",dtype=str)\n",
    "df_datasets.head()"
   ]
  },
  {
   "cell_type": "code",
   "execution_count": null,
   "metadata": {},
   "outputs": [],
   "source": [
    "df_datasets = df_datasets[[\"Id\",\"CreatorUserId\",\"ForumId\",\"Type\",\"TotalViews\",\"TotalDownloads\"]]\n",
    "df_datasets.head()"
   ]
  },
  {
   "cell_type": "code",
   "execution_count": null,
   "metadata": {},
   "outputs": [],
   "source": [
    "df_dataset_cont = df_datasets.groupby([\"CreatorUserId\"]).Id.size().reset_index()\n",
    "df_dataset_cont.rename(columns={'CreatorUserId':'UserId','Id':'Datasets'},inplace=True)\n",
    "df_dataset_cont.sort_values(\"Datasets\",ascending=False).head()"
   ]
  },
  {
   "cell_type": "code",
   "execution_count": null,
   "metadata": {},
   "outputs": [],
   "source": [
    "df_dataset_cont.to_csv(r\"../data/interim/UserDataContInfo.csv\",index=False)"
   ]
  },
  {
   "cell_type": "code",
   "execution_count": null,
   "metadata": {},
   "outputs": [],
   "source": [
    "df_datasets[\"Type\"].value_counts()"
   ]
  },
  {
   "cell_type": "code",
   "execution_count": null,
   "metadata": {},
   "outputs": [],
   "source": [
    "df_datasets = df_datasets[[\"Id\",\"ForumId\",\"TotalViews\",\"TotalDownloads\"]]\n",
    "df_datasets.rename(columns={\"Id\":\"DatasetId\"},inplace=True)\n",
    "df_datasets.head()"
   ]
  },
  {
   "cell_type": "code",
   "execution_count": null,
   "metadata": {},
   "outputs": [],
   "source": [
    "Validator.validar_categorico(df_datasets, [\"DatasetId\",\"ForumId\"])"
   ]
  },
  {
   "cell_type": "code",
   "execution_count": null,
   "metadata": {},
   "outputs": [],
   "source": [
    "df_datasets[\"TotalViews\"] = df_datasets[\"TotalViews\"].astype(int)\n",
    "df_datasets[\"TotalDownloads\"] = df_datasets[\"TotalDownloads\"].astype(int)\n",
    "Validator.validar_numerico(df_datasets, [\"TotalViews\",\"TotalDownloads\"])"
   ]
  },
  {
   "cell_type": "code",
   "execution_count": null,
   "metadata": {},
   "outputs": [],
   "source": [
    "df_datasets.to_csv(r\"../data/interim/Datasets.csv\",index=False)"
   ]
  },
  {
   "cell_type": "markdown",
   "metadata": {},
   "source": [
    "## Dataset Tags"
   ]
  },
  {
   "cell_type": "code",
   "execution_count": null,
   "metadata": {},
   "outputs": [],
   "source": [
    "df_dataset_tags = pd.read_csv(r\"../data/raw/DatasetTags.csv\",dtype=str)\n",
    "df_dataset_tags.head()"
   ]
  },
  {
   "cell_type": "code",
   "execution_count": null,
   "metadata": {},
   "outputs": [],
   "source": [
    "df_dataset_tags = df_dataset_tags[[\"DatasetId\",\"TagId\"]]\n",
    "Validator.validar_categorico(df_dataset_tags, df_dataset_tags.columns)"
   ]
  },
  {
   "cell_type": "code",
   "execution_count": null,
   "metadata": {},
   "outputs": [],
   "source": [
    "df_dataset_tags.to_csv(r\"../data/interim/DatasetTags.csv\",index=False)"
   ]
  },
  {
   "cell_type": "markdown",
   "metadata": {},
   "source": [
    "## Forums"
   ]
  },
  {
   "cell_type": "code",
   "execution_count": null,
   "metadata": {},
   "outputs": [],
   "source": [
    "df_forums = pd.read_csv(r\"../data/raw/Forums.csv\",dtype=str)\n",
    "df_forums.head()"
   ]
  },
  {
   "cell_type": "code",
   "execution_count": null,
   "metadata": {},
   "outputs": [],
   "source": [
    "df_forums.rename(columns={\"Id\":\"ForumId\"},inplace=True)\n",
    "Validator.validar_categorico(df_forums, df_forums.columns)"
   ]
  },
  {
   "cell_type": "code",
   "execution_count": null,
   "metadata": {},
   "outputs": [],
   "source": [
    "df_forums[df_forums[\"ParentForumId\"].isna()].head()"
   ]
  },
  {
   "cell_type": "code",
   "execution_count": null,
   "metadata": {},
   "outputs": [],
   "source": [
    "df_forums.to_csv(r\"../data/interim/Forums.csv\",index=False)"
   ]
  },
  {
   "cell_type": "markdown",
   "metadata": {},
   "source": [
    "## ForumsTopics"
   ]
  },
  {
   "cell_type": "code",
   "execution_count": null,
   "metadata": {},
   "outputs": [],
   "source": [
    "df_forum_topics = pd.read_csv(r\"../data/raw/ForumTopics.csv\",dtype=str)\n",
    "df_forum_topics.head()"
   ]
  },
  {
   "cell_type": "code",
   "execution_count": null,
   "metadata": {},
   "outputs": [],
   "source": [
    "df_forum_topics[df_forum_topics[\"ForumId\"]==\"44\"].head()"
   ]
  },
  {
   "cell_type": "code",
   "execution_count": null,
   "metadata": {},
   "outputs": [],
   "source": [
    "df_competitions[df_competitions[\"Title\"].str.contains(\"Google Smartphone\")]"
   ]
  },
  {
   "cell_type": "code",
   "execution_count": null,
   "metadata": {},
   "outputs": [],
   "source": [
    "df_datasets[df_datasets[\"ForumId\"]==\"1355813\"]"
   ]
  },
  {
   "cell_type": "code",
   "execution_count": null,
   "metadata": {},
   "outputs": [],
   "source": [
    "df_forums[df_forums[\"ForumId\"]==\"1355813\"]"
   ]
  },
  {
   "cell_type": "code",
   "execution_count": null,
   "metadata": {},
   "outputs": [],
   "source": [
    "df_forum_topics = df_forum_topics[[\"Id\",\"ForumId\",\"Title\",\"TotalViews\",\"TotalMessages\",\"Score\"]]\n",
    "df_forum_topics.rename(columns={\"Id\":\"ForumTopicId\"},inplace=True)\n",
    "df_forum_topics.head()"
   ]
  },
  {
   "cell_type": "code",
   "execution_count": null,
   "metadata": {},
   "outputs": [],
   "source": [
    "df_forum_topics[\"TotalViews\"] = df_forum_topics[\"TotalViews\"].astype(float)\n",
    "df_forum_topics[\"TotalMessages\"] = df_forum_topics[\"TotalMessages\"].astype(float)\n",
    "df_forum_topics[\"Score\"] = df_forum_topics[\"Score\"].astype(float)\n",
    "Validator.validar_numerico(df_forum_topics, [\"TotalViews\",\"TotalMessages\",\"Score\"])"
   ]
  },
  {
   "cell_type": "code",
   "execution_count": null,
   "metadata": {},
   "outputs": [],
   "source": [
    "df_forum_topics[df_forum_topics[\"Score\"]<0].head()"
   ]
  },
  {
   "cell_type": "code",
   "execution_count": null,
   "metadata": {},
   "outputs": [],
   "source": [
    "Validator.validar_categorico(df_forum_topics, [\"ForumId\",\"Title\"])"
   ]
  },
  {
   "cell_type": "code",
   "execution_count": null,
   "metadata": {},
   "outputs": [],
   "source": [
    "df_forum_topics.to_csv(r\"../data/interim/ForumTopics.csv\",index=False)"
   ]
  },
  {
   "cell_type": "markdown",
   "metadata": {},
   "source": [
    "## Forum Messages"
   ]
  },
  {
   "cell_type": "code",
   "execution_count": null,
   "metadata": {},
   "outputs": [],
   "source": [
    "df_users_i = pd.read_csv(r\"../data/interim/Users.csv\",dtype=str)"
   ]
  },
  {
   "cell_type": "code",
   "execution_count": null,
   "metadata": {},
   "outputs": [],
   "source": [
    "df_forum_messages = pd.read_csv(r\"../data/raw/ForumMessages.csv\",dtype=str)\n",
    "df_forum_messages.head()"
   ]
  },
  {
   "cell_type": "code",
   "execution_count": null,
   "metadata": {},
   "outputs": [],
   "source": [
    "df_forum_messages.shape"
   ]
  },
  {
   "cell_type": "code",
   "execution_count": null,
   "metadata": {},
   "outputs": [],
   "source": [
    "df_messageinfouser = df_forum_messages.copy()\n",
    "df_messageinfouser = df_messageinfouser[[\"PostUserId\",\"Medal\"]]\n",
    "df_messageinfouser[\"Medal\"].fillna(0,inplace=True)\n",
    "df_messageinfouser[\"Medal\"] = df_messageinfouser[\"Medal\"].astype(int)\n",
    "df_messageinfouser[\"Podio\"] = np.where(df_messageinfouser[\"Medal\"]>0,1,0)\n",
    "df_messageinfouser.head()"
   ]
  },
  {
   "cell_type": "code",
   "execution_count": null,
   "metadata": {},
   "outputs": [],
   "source": [
    "df_messageinfouser_g = df_messageinfouser.groupby(\"PostUserId\").Podio.agg(['count','sum']).reset_index()\n",
    "df_messageinfouser_g.rename(columns={'PostUserId':'UserId','count':'comentarios','sum':'comentarios_premiados'},inplace=True)\n",
    "df_messageinfouser_g[\"ratio_comentarios_premiados\"] = df_messageinfouser_g[\"comentarios_premiados\"] / df_messageinfouser_g[\"comentarios\"]\n",
    "df_messageinfouser_g.head()"
   ]
  },
  {
   "cell_type": "code",
   "execution_count": null,
   "metadata": {},
   "outputs": [],
   "source": [
    "df_messageinfouser_g.to_csv(r\"../data/interim/UserComentsInfo.csv\",index=False)"
   ]
  },
  {
   "cell_type": "code",
   "execution_count": null,
   "metadata": {},
   "outputs": [],
   "source": [
    "df_forum_messages[df_forum_messages[\"ForumTopicId\"]==\"255635\"]"
   ]
  },
  {
   "cell_type": "code",
   "execution_count": null,
   "metadata": {},
   "outputs": [],
   "source": [
    "df_forum_messages = df_forum_messages[[\"ForumTopicId\",\"PostUserId\",\"Medal\"]]\n",
    "df_forum_messages.rename(columns={\"PostUserId\":\"UserId\"},inplace=True)\n",
    "df_forum_messages.head()"
   ]
  },
  {
   "cell_type": "code",
   "execution_count": null,
   "metadata": {},
   "outputs": [],
   "source": [
    "int_df_forum_messages = pd.merge(df_users_i, df_forum_messages, how='inner', on=['UserId'])\n",
    "print(int_df_forum_messages.shape)"
   ]
  },
  {
   "cell_type": "code",
   "execution_count": null,
   "metadata": {},
   "outputs": [],
   "source": [
    "df_forum_messages = int_df_forum_messages[[\"ForumTopicId\",\"UserId\",\"Medal\"]]\n",
    "df_forum_messages[df_forum_messages[\"Medal\"]==\"1\"].head()"
   ]
  },
  {
   "cell_type": "code",
   "execution_count": null,
   "metadata": {},
   "outputs": [],
   "source": [
    "df_forum_messages[\"Medal\"] = df_forum_messages[\"Medal\"].astype(float)\n",
    "Validator.validar_numerico(df_forum_messages, [\"Medal\"])"
   ]
  },
  {
   "cell_type": "code",
   "execution_count": null,
   "metadata": {},
   "outputs": [],
   "source": [
    "df_forum_messages.head()"
   ]
  },
  {
   "cell_type": "code",
   "execution_count": null,
   "metadata": {},
   "outputs": [],
   "source": [
    "df_forum_messages.to_csv(r\"../data/interim/ForumMessages.csv\",index=False)"
   ]
  }
 ],
 "metadata": {
  "kernelspec": {
   "display_name": "Python 3",
   "language": "python",
   "name": "python3"
  },
  "language_info": {
   "codemirror_mode": {
    "name": "ipython",
    "version": 3
   },
   "file_extension": ".py",
   "mimetype": "text/x-python",
   "name": "python",
   "nbconvert_exporter": "python",
   "pygments_lexer": "ipython3",
   "version": "3.7.3"
  },
  "vscode": {
   "interpreter": {
    "hash": "34b652421595a0c643e374c4ab7a0ee86f5cb1455b91e0738f83360473bef1bf"
   }
  }
 },
 "nbformat": 4,
 "nbformat_minor": 2
}
